{
  "nbformat": 4,
  "nbformat_minor": 0,
  "metadata": {
    "colab": {
      "name": "Searching",
      "provenance": [],
      "authorship_tag": "ABX9TyMvBR5UpomQ6rq8DZBLiUSH",
      "include_colab_link": true
    },
    "kernelspec": {
      "name": "python3",
      "display_name": "Python 3"
    },
    "language_info": {
      "name": "python"
    }
  },
  "cells": [
    {
      "cell_type": "markdown",
      "metadata": {
        "id": "view-in-github",
        "colab_type": "text"
      },
      "source": [
        "<a href=\"https://colab.research.google.com/github/scaleracademy/dsml-intermediate-aug-22/blob/main/Searching.ipynb\" target=\"_parent\"><img src=\"https://colab.research.google.com/assets/colab-badge.svg\" alt=\"Open In Colab\"/></a>"
      ]
    },
    {
      "cell_type": "code",
      "execution_count": 1,
      "metadata": {
        "colab": {
          "base_uri": "https://localhost:8080/"
        },
        "id": "N1t_A-T7U7-F",
        "outputId": "621f5a43-c569-443f-fd27-944339c58fc4"
      },
      "outputs": [
        {
          "output_type": "stream",
          "name": "stdout",
          "text": [
            "['', '', '']\n",
            "140058203808688\n",
            "140058203808688\n",
            "140058203808688\n",
            "['0', '', '']\n"
          ]
        }
      ],
      "source": [
        "a=[\"\"]*3\n",
        "print(a)\n",
        "print(id(a[0]))\n",
        "print(id(a[1]))\n",
        "print(id(a[2]))\n",
        "a[0]='0'\n",
        "print(a)"
      ]
    },
    {
      "cell_type": "code",
      "source": [
        "a = [1, 2, 3]"
      ],
      "metadata": {
        "id": "04JG0QU-gEaM"
      },
      "execution_count": 2,
      "outputs": []
    },
    {
      "cell_type": "code",
      "source": [
        "print(id(a))\n",
        "print(id(a[:]))"
      ],
      "metadata": {
        "colab": {
          "base_uri": "https://localhost:8080/"
        },
        "id": "t-uDfAeTgFSu",
        "outputId": "17f174da-fedc-4e09-8551-1ac6533bedc0"
      },
      "execution_count": 5,
      "outputs": [
        {
          "output_type": "stream",
          "name": "stdout",
          "text": [
            "140057794145408\n",
            "140057865976000\n"
          ]
        }
      ]
    },
    {
      "cell_type": "markdown",
      "source": [
        "### `is` operator"
      ],
      "metadata": {
        "id": "RV4xAUYigm1K"
      }
    },
    {
      "cell_type": "code",
      "source": [
        "a = 5\n",
        "b = 5\n",
        "print(a == b)\n",
        "print(id(a) == id(b))\n",
        "print(a is b)"
      ],
      "metadata": {
        "colab": {
          "base_uri": "https://localhost:8080/"
        },
        "id": "Q1qHlWo0gFtB",
        "outputId": "284faf79-4816-41d6-b197-2ca910002cfb"
      },
      "execution_count": 8,
      "outputs": [
        {
          "output_type": "stream",
          "name": "stdout",
          "text": [
            "True\n",
            "True\n",
            "True\n"
          ]
        }
      ]
    },
    {
      "cell_type": "code",
      "source": [
        "a = 258\n",
        "b = 258\n",
        "print(a == b)\n",
        "\n",
        "# both of them are exactly the same thing\n",
        "print(id(a) == id(b))\n",
        "print(a is b)"
      ],
      "metadata": {
        "colab": {
          "base_uri": "https://localhost:8080/"
        },
        "id": "zE77SRbegsoR",
        "outputId": "444cc8f9-9d65-46f9-c1ac-7b4fe9db7b60"
      },
      "execution_count": 9,
      "outputs": [
        {
          "output_type": "stream",
          "name": "stdout",
          "text": [
            "True\n",
            "False\n",
            "False\n"
          ]
        }
      ]
    },
    {
      "cell_type": "markdown",
      "source": [
        "arr = [1, 2, 3, 4]\n",
        "el = 6"
      ],
      "metadata": {
        "id": "pSedXsDTiBE1"
      }
    },
    {
      "cell_type": "code",
      "source": [
        "# return the index of `el` in `arr`\n",
        "# else return -1\n",
        "def linear_search(arr, el):\n",
        "\n",
        "  # Try to search, if found return\n",
        "  for i in range(len(arr)):\n",
        "    if arr[i] == el:\n",
        "      return i\n",
        "\n",
        "  # you'll come here only if you didn't return\n",
        "  # hence not found\n",
        "  return -1"
      ],
      "metadata": {
        "id": "RJ2KMl-zg6XT"
      },
      "execution_count": 10,
      "outputs": []
    },
    {
      "cell_type": "code",
      "source": [
        "linear_search([1, 2, 3, 4, 5, 5, 5, 5, 5], 5)"
      ],
      "metadata": {
        "colab": {
          "base_uri": "https://localhost:8080/"
        },
        "id": "DxqYDjfvijo0",
        "outputId": "67c75467-8eeb-4296-a563-0e346034bfb6"
      },
      "execution_count": 11,
      "outputs": [
        {
          "output_type": "execute_result",
          "data": {
            "text/plain": [
              "4"
            ]
          },
          "metadata": {},
          "execution_count": 11
        }
      ]
    },
    {
      "cell_type": "code",
      "source": [
        "arr = [\"jatin\", \"sandeep\", \"pranav\", \"arvind\"]"
      ],
      "metadata": {
        "id": "X5hDSkdoirgd"
      },
      "execution_count": 12,
      "outputs": []
    },
    {
      "cell_type": "code",
      "source": [
        "for index, value in enumerate(arr):\n",
        "  print(index, \"=>\", value)"
      ],
      "metadata": {
        "colab": {
          "base_uri": "https://localhost:8080/"
        },
        "id": "FyAa9XMHizrq",
        "outputId": "4ebb5699-3e72-4d73-9e64-d6870d7838a7"
      },
      "execution_count": 14,
      "outputs": [
        {
          "output_type": "stream",
          "name": "stdout",
          "text": [
            "0 => jatin\n",
            "1 => sandeep\n",
            "2 => pranav\n",
            "3 => arvind\n"
          ]
        }
      ]
    },
    {
      "cell_type": "code",
      "source": [
        "# return the index of `el` in `arr`\n",
        "# else return -1\n",
        "def linear_search(arr, el):\n",
        "\n",
        "  # Try to search, if found return\n",
        "  for i, val in enumerate(arr):\n",
        "    if val == el:\n",
        "      return i\n",
        "\n",
        "  # you'll come here only if you didn't return\n",
        "  # hence not found\n",
        "  return -1"
      ],
      "metadata": {
        "id": "wLn7BdPqi8Mx"
      },
      "execution_count": 15,
      "outputs": []
    },
    {
      "cell_type": "code",
      "source": [
        "linear_search([6, 1, 4, 2, 8, 3], 4)"
      ],
      "metadata": {
        "colab": {
          "base_uri": "https://localhost:8080/"
        },
        "id": "HkQY6Fjmjxxu",
        "outputId": "6a5ceaca-c8e1-401b-b15d-a879ef7ebb63"
      },
      "execution_count": 16,
      "outputs": [
        {
          "output_type": "execute_result",
          "data": {
            "text/plain": [
              "2"
            ]
          },
          "metadata": {},
          "execution_count": 16
        }
      ]
    },
    {
      "cell_type": "markdown",
      "source": [
        "## Binary Search"
      ],
      "metadata": {
        "id": "29D68pw1llMR"
      }
    },
    {
      "cell_type": "code",
      "source": [
        "def binary_search(arr, el):\n",
        "  start = 0\n",
        "  end = len(arr) - 1\n",
        "\n",
        "  while start <= end:\n",
        "    print(\"searching\")\n",
        "    mid = (start + end) // 2\n",
        "\n",
        "    if arr[mid] == el:\n",
        "      return mid\n",
        "\n",
        "    elif arr[mid] < el:\n",
        "      start = mid + 1\n",
        "    \n",
        "    else:\n",
        "      end = mid - 1\n",
        "\n",
        "  return -1"
      ],
      "metadata": {
        "id": "KuGdVeP3lkY6"
      },
      "execution_count": 22,
      "outputs": []
    },
    {
      "cell_type": "code",
      "source": [
        "binary_search([2, 6, 7, 9, 10, 13, 18, 21, 30], 50)"
      ],
      "metadata": {
        "colab": {
          "base_uri": "https://localhost:8080/"
        },
        "id": "q-GLR04Qn9b-",
        "outputId": "6a3b6d35-c84f-478e-b522-136619935d24"
      },
      "execution_count": 23,
      "outputs": [
        {
          "output_type": "stream",
          "name": "stdout",
          "text": [
            "searching\n",
            "searching\n",
            "searching\n",
            "searching\n"
          ]
        },
        {
          "output_type": "execute_result",
          "data": {
            "text/plain": [
              "-1"
            ]
          },
          "metadata": {},
          "execution_count": 23
        }
      ]
    },
    {
      "cell_type": "code",
      "source": [
        "2**30"
      ],
      "metadata": {
        "colab": {
          "base_uri": "https://localhost:8080/"
        },
        "id": "tz80tuYJoCNV",
        "outputId": "98d4d4e0-72e0-4697-951c-474de83457a7"
      },
      "execution_count": 26,
      "outputs": [
        {
          "output_type": "execute_result",
          "data": {
            "text/plain": [
              "1073741824"
            ]
          },
          "metadata": {},
          "execution_count": 26
        }
      ]
    },
    {
      "cell_type": "code",
      "source": [
        "binary_search([2, 6, 7, 9, 10, 12, 12, 12, 14, 15], 12)"
      ],
      "metadata": {
        "colab": {
          "base_uri": "https://localhost:8080/",
          "height": 169
        },
        "id": "Vxqt4joBogPQ",
        "outputId": "a1cd4a18-8726-4d65-8102-146f3fea0613"
      },
      "execution_count": 27,
      "outputs": [
        {
          "output_type": "error",
          "ename": "TypeError",
          "evalue": "ignored",
          "traceback": [
            "\u001b[0;31m---------------------------------------------------------------------------\u001b[0m",
            "\u001b[0;31mTypeError\u001b[0m                                 Traceback (most recent call last)",
            "\u001b[0;32m<ipython-input-27-487648a0421d>\u001b[0m in \u001b[0;36m<module>\u001b[0;34m\u001b[0m\n\u001b[0;32m----> 1\u001b[0;31m \u001b[0marr\u001b[0m\u001b[0;34m[\u001b[0m\u001b[0;36m1.0\u001b[0m\u001b[0;34m]\u001b[0m\u001b[0;34m\u001b[0m\u001b[0;34m\u001b[0m\u001b[0m\n\u001b[0m",
            "\u001b[0;31mTypeError\u001b[0m: list indices must be integers or slices, not float"
          ]
        }
      ]
    },
    {
      "cell_type": "markdown",
      "source": [
        "#### Q. First and last occurence of element in a sorted array\n",
        "\n",
        "input\n",
        "```\n",
        "arr = [2, 5, 5, 5, 6, 6, 8, 9, 9, 9]\n",
        "el = 5\n",
        "```\n",
        "\n",
        "output\n",
        "```\n",
        "1 3\n",
        "```"
      ],
      "metadata": {
        "id": "S4FYHJbIrg5l"
      }
    },
    {
      "cell_type": "code",
      "source": [
        "def binary_search(arr, el):\n",
        "  start = 0\n",
        "  end = len(arr) - 1\n",
        "\n",
        "  while start <= end:\n",
        "    mid = (start + end) // 2\n",
        "\n",
        "    if arr[mid] == el:\n",
        "      first_idx = mid\n",
        "      while first_idx > 0 and arr[first_idx - 1] == el:\n",
        "        first_idx -= 1\n",
        "\n",
        "      last_idx = mid\n",
        "      while last_idx < len(arr) - 1 and arr[last_idx + 1] == el:\n",
        "        last_idx += 1\n",
        "      \n",
        "      return (first_idx, last_idx)\n",
        "\n",
        "    elif arr[mid] < el:\n",
        "      start = mid + 1\n",
        "    \n",
        "    else:\n",
        "      end = mid - 1\n",
        "\n",
        "  return -1"
      ],
      "metadata": {
        "id": "dJhOlIkao5bY"
      },
      "execution_count": 28,
      "outputs": []
    },
    {
      "cell_type": "code",
      "source": [
        "binary_search([5, 5, 5, 5, 5, 5])"
      ],
      "metadata": {
        "id": "Q9FoYjPUtP_S"
      },
      "execution_count": null,
      "outputs": []
    },
    {
      "cell_type": "markdown",
      "source": [
        "#### Q. Find out the last square root of a number using binary search\n",
        "\n",
        "input: 16\n",
        "ouput: 4\n",
        "\n",
        "input: 12\n",
        "output: 3"
      ],
      "metadata": {
        "id": "gDx_Ao46us1B"
      }
    },
    {
      "cell_type": "code",
      "source": [
        "def square_root(n):\n",
        "  i = 1\n",
        "  while i**2 <= n:\n",
        "    i += 1\n",
        "  \n",
        "  return i - 1"
      ],
      "metadata": {
        "id": "IXOkbsBRuw3p"
      },
      "execution_count": 29,
      "outputs": []
    },
    {
      "cell_type": "code",
      "source": [
        "square_root(12)"
      ],
      "metadata": {
        "colab": {
          "base_uri": "https://localhost:8080/"
        },
        "id": "-7yjwprxvXZ7",
        "outputId": "f316bf7e-20d7-4612-943c-47127b3856f7"
      },
      "execution_count": 31,
      "outputs": [
        {
          "output_type": "execute_result",
          "data": {
            "text/plain": [
              "3"
            ]
          },
          "metadata": {},
          "execution_count": 31
        }
      ]
    },
    {
      "cell_type": "code",
      "source": [
        "def square_root(x):\n",
        "\n",
        "  # base condition\n",
        "  if x < 2:\n",
        "    return x\n",
        "\n",
        "  # bounds\n",
        "  start = 1\n",
        "  end = x // 2\n",
        "\n",
        "  # result\n",
        "  result = 0\n",
        "\n",
        "  while start <= end:\n",
        "    mid = (start + end) // 2\n",
        "    sqr = mid ** 2\n",
        "\n",
        "    if sqr == x:\n",
        "      return mid\n",
        "\n",
        "    elif sqr < x:\n",
        "      start = mid + 1\n",
        "      result = mid\n",
        "    \n",
        "    else:\n",
        "      end = mid - 1\n",
        "\n",
        "  return result"
      ],
      "metadata": {
        "id": "9RIZKyeivbof"
      },
      "execution_count": 32,
      "outputs": []
    },
    {
      "cell_type": "code",
      "source": [
        "square_root(9)"
      ],
      "metadata": {
        "colab": {
          "base_uri": "https://localhost:8080/"
        },
        "id": "I_kqtM6jwzIe",
        "outputId": "14f05ed9-5656-416c-d29c-9a07f981c608"
      },
      "execution_count": 33,
      "outputs": [
        {
          "output_type": "execute_result",
          "data": {
            "text/plain": [
              "3"
            ]
          },
          "metadata": {},
          "execution_count": 33
        }
      ]
    },
    {
      "cell_type": "code",
      "source": [
        "square_root(12)"
      ],
      "metadata": {
        "colab": {
          "base_uri": "https://localhost:8080/"
        },
        "id": "wyvZ6Nopw0Jq",
        "outputId": "55b7ed39-ecc2-450e-dd49-f591c5ae0863"
      },
      "execution_count": 34,
      "outputs": [
        {
          "output_type": "execute_result",
          "data": {
            "text/plain": [
              "3"
            ]
          },
          "metadata": {},
          "execution_count": 34
        }
      ]
    },
    {
      "cell_type": "code",
      "source": [
        "square_root(25)"
      ],
      "metadata": {
        "colab": {
          "base_uri": "https://localhost:8080/"
        },
        "id": "E0se7N9Yw1UX",
        "outputId": "90fa105d-1aaf-4bbc-9d51-d39684c04b56"
      },
      "execution_count": 35,
      "outputs": [
        {
          "output_type": "execute_result",
          "data": {
            "text/plain": [
              "5"
            ]
          },
          "metadata": {},
          "execution_count": 35
        }
      ]
    },
    {
      "cell_type": "code",
      "source": [
        "a = (1, 2, 3, 4)"
      ],
      "metadata": {
        "id": "3CiHvidrw2vN"
      },
      "execution_count": 36,
      "outputs": []
    },
    {
      "cell_type": "code",
      "source": [
        "a[0]"
      ],
      "metadata": {
        "colab": {
          "base_uri": "https://localhost:8080/"
        },
        "id": "OTO0jfk2z6VV",
        "outputId": "1952a911-1657-46c9-c9db-2839ef658665"
      },
      "execution_count": 37,
      "outputs": [
        {
          "output_type": "execute_result",
          "data": {
            "text/plain": [
              "1"
            ]
          },
          "metadata": {},
          "execution_count": 37
        }
      ]
    },
    {
      "cell_type": "code",
      "source": [
        "a[0] = 100"
      ],
      "metadata": {
        "colab": {
          "base_uri": "https://localhost:8080/",
          "height": 169
        },
        "id": "EXx81pmFz7Uq",
        "outputId": "0ac37e8a-53c7-458e-ba77-b9d9a89c6335"
      },
      "execution_count": 38,
      "outputs": [
        {
          "output_type": "error",
          "ename": "TypeError",
          "evalue": "ignored",
          "traceback": [
            "\u001b[0;31m---------------------------------------------------------------------------\u001b[0m",
            "\u001b[0;31mTypeError\u001b[0m                                 Traceback (most recent call last)",
            "\u001b[0;32m<ipython-input-38-b6d7a4db9a51>\u001b[0m in \u001b[0;36m<module>\u001b[0;34m\u001b[0m\n\u001b[0;32m----> 1\u001b[0;31m \u001b[0ma\u001b[0m\u001b[0;34m[\u001b[0m\u001b[0;36m0\u001b[0m\u001b[0;34m]\u001b[0m \u001b[0;34m=\u001b[0m \u001b[0;36m100\u001b[0m\u001b[0;34m\u001b[0m\u001b[0;34m\u001b[0m\u001b[0m\n\u001b[0m",
            "\u001b[0;31mTypeError\u001b[0m: 'tuple' object does not support item assignment"
          ]
        }
      ]
    },
    {
      "cell_type": "code",
      "source": [
        "a = 5\n",
        "b = 9"
      ],
      "metadata": {
        "id": "6NFfg6V0z80K"
      },
      "execution_count": 39,
      "outputs": []
    },
    {
      "cell_type": "code",
      "source": [
        "a, b = b, a"
      ],
      "metadata": {
        "id": "lKo4boHo0D49"
      },
      "execution_count": 40,
      "outputs": []
    },
    {
      "cell_type": "code",
      "source": [
        "print(a)\n",
        "print(b)"
      ],
      "metadata": {
        "colab": {
          "base_uri": "https://localhost:8080/"
        },
        "id": "O3PUq6Qd0HXM",
        "outputId": "fa170b09-acf2-4348-fac6-e2bba750a9f6"
      },
      "execution_count": 41,
      "outputs": [
        {
          "output_type": "stream",
          "name": "stdout",
          "text": [
            "9\n",
            "5\n"
          ]
        }
      ]
    },
    {
      "cell_type": "code",
      "source": [
        "a = 1, 2, 3, 4, 5"
      ],
      "metadata": {
        "id": "V4-UOP3f0Ieu"
      },
      "execution_count": 42,
      "outputs": []
    },
    {
      "cell_type": "code",
      "source": [
        "print(type(a))"
      ],
      "metadata": {
        "colab": {
          "base_uri": "https://localhost:8080/"
        },
        "id": "-7lF0PvL0NJV",
        "outputId": "7167b06f-7258-4217-bd41-cd470777ac8c"
      },
      "execution_count": 43,
      "outputs": [
        {
          "output_type": "stream",
          "name": "stdout",
          "text": [
            "<class 'tuple'>\n"
          ]
        }
      ]
    },
    {
      "cell_type": "code",
      "source": [
        "a, b, c = 5, 9"
      ],
      "metadata": {
        "colab": {
          "base_uri": "https://localhost:8080/",
          "height": 169
        },
        "id": "O-gm40ke0ONY",
        "outputId": "42919a41-d3bb-43b4-9e8f-54b301371e53"
      },
      "execution_count": 44,
      "outputs": [
        {
          "output_type": "error",
          "ename": "ValueError",
          "evalue": "ignored",
          "traceback": [
            "\u001b[0;31m---------------------------------------------------------------------------\u001b[0m",
            "\u001b[0;31mValueError\u001b[0m                                Traceback (most recent call last)",
            "\u001b[0;32m<ipython-input-44-98d9344d3d3e>\u001b[0m in \u001b[0;36m<module>\u001b[0;34m\u001b[0m\n\u001b[0;32m----> 1\u001b[0;31m \u001b[0ma\u001b[0m\u001b[0;34m,\u001b[0m \u001b[0mb\u001b[0m\u001b[0;34m,\u001b[0m \u001b[0mc\u001b[0m \u001b[0;34m=\u001b[0m \u001b[0;36m5\u001b[0m\u001b[0;34m,\u001b[0m \u001b[0;36m9\u001b[0m\u001b[0;34m\u001b[0m\u001b[0;34m\u001b[0m\u001b[0m\n\u001b[0m",
            "\u001b[0;31mValueError\u001b[0m: not enough values to unpack (expected 3, got 2)"
          ]
        }
      ]
    },
    {
      "cell_type": "code",
      "source": [
        "a = [1, 2, 3, 4, 5, 6]"
      ],
      "metadata": {
        "id": "XbAL8te204Os"
      },
      "execution_count": 45,
      "outputs": []
    },
    {
      "cell_type": "markdown",
      "source": [
        "#### Rules for slice operator\n",
        "1. start -> default is -1 if `increment` is negative or else 0\n",
        "2. end -> default is `-(length+1)` if `increment` is negative or else length\n",
        "\n",
        "https://docs.python.org/3/library/stdtypes.html#sequence-types-list-tuple-range"
      ],
      "metadata": {
        "id": "SReEBBdX13fc"
      }
    },
    {
      "cell_type": "code",
      "source": [
        "a[::-5]"
      ],
      "metadata": {
        "colab": {
          "base_uri": "https://localhost:8080/"
        },
        "id": "YiyL1DyR1tE6",
        "outputId": "98430faf-30df-4f9e-ca73-3b25395c4be4"
      },
      "execution_count": 61,
      "outputs": [
        {
          "output_type": "execute_result",
          "data": {
            "text/plain": [
              "[6, 1]"
            ]
          },
          "metadata": {},
          "execution_count": 61
        }
      ]
    },
    {
      "cell_type": "code",
      "source": [
        "def foo(*args):\n",
        "  print(args)"
      ],
      "metadata": {
        "id": "xCehF5wg1yY5"
      },
      "execution_count": 62,
      "outputs": []
    },
    {
      "cell_type": "code",
      "source": [
        "foo(1, 2, 3, 4)"
      ],
      "metadata": {
        "colab": {
          "base_uri": "https://localhost:8080/"
        },
        "id": "uwzBzitW3xNU",
        "outputId": "8d5f73a2-b0cf-4130-e0de-39164842b28a"
      },
      "execution_count": 63,
      "outputs": [
        {
          "output_type": "stream",
          "name": "stdout",
          "text": [
            "(1, 2, 3, 4)\n"
          ]
        }
      ]
    },
    {
      "cell_type": "markdown",
      "source": [
        "### List Comprehension"
      ],
      "metadata": {
        "id": "CPd8-TNp40bg"
      }
    },
    {
      "cell_type": "code",
      "source": [
        "a = []\n",
        "for i in range(1, 11):\n",
        "  a.append(i**2)"
      ],
      "metadata": {
        "id": "QiTXzJkc3ydW"
      },
      "execution_count": 64,
      "outputs": []
    },
    {
      "cell_type": "code",
      "source": [
        "a = [ i**2 for i in range(1, 11)]"
      ],
      "metadata": {
        "id": "b3BfjJcH4_BE"
      },
      "execution_count": 65,
      "outputs": []
    },
    {
      "cell_type": "code",
      "source": [
        "type(a)"
      ],
      "metadata": {
        "colab": {
          "base_uri": "https://localhost:8080/"
        },
        "id": "0Av1llZi5gAd",
        "outputId": "dd6c5f51-d27c-4ee1-c1eb-f6bcf01ca0f2"
      },
      "execution_count": 67,
      "outputs": [
        {
          "output_type": "execute_result",
          "data": {
            "text/plain": [
              "list"
            ]
          },
          "metadata": {},
          "execution_count": 67
        }
      ]
    },
    {
      "cell_type": "code",
      "source": [
        "# True ? 10 : 20\n",
        "10 if True else 20"
      ],
      "metadata": {
        "colab": {
          "base_uri": "https://localhost:8080/"
        },
        "id": "b4WV8jq95gZH",
        "outputId": "81a88a56-43c7-4649-8834-875b88c41f2a"
      },
      "execution_count": 68,
      "outputs": [
        {
          "output_type": "execute_result",
          "data": {
            "text/plain": [
              "10"
            ]
          },
          "metadata": {},
          "execution_count": 68
        }
      ]
    },
    {
      "cell_type": "code",
      "source": [
        "[[ '' for j in range(3) ] for i in range(3) ]"
      ],
      "metadata": {
        "colab": {
          "base_uri": "https://localhost:8080/"
        },
        "id": "evJGuuBy53mR",
        "outputId": "a741f2ad-9594-4c2e-99ba-51bdc08ea17e"
      },
      "execution_count": 69,
      "outputs": [
        {
          "output_type": "execute_result",
          "data": {
            "text/plain": [
              "[['', '', ''], ['', '', ''], ['', '', '']]"
            ]
          },
          "metadata": {},
          "execution_count": 69
        }
      ]
    },
    {
      "cell_type": "code",
      "source": [
        "str1 = \"scaler\"\n",
        "str1[:-1]"
      ],
      "metadata": {
        "colab": {
          "base_uri": "https://localhost:8080/",
          "height": 35
        },
        "id": "NUB0Grav5_qI",
        "outputId": "cd70c7c0-d9c0-4232-e54a-023d6866c8e6"
      },
      "execution_count": 70,
      "outputs": [
        {
          "output_type": "execute_result",
          "data": {
            "text/plain": [
              "'scale'"
            ],
            "application/vnd.google.colaboratory.intrinsic+json": {
              "type": "string"
            }
          },
          "metadata": {},
          "execution_count": 70
        }
      ]
    },
    {
      "cell_type": "code",
      "source": [
        ""
      ],
      "metadata": {
        "id": "1Q946Q6i6hPL"
      },
      "execution_count": null,
      "outputs": []
    }
  ]
}