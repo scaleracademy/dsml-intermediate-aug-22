{
  "nbformat": 4,
  "nbformat_minor": 0,
  "metadata": {
    "colab": {
      "name": "Python Refresher 1",
      "provenance": [],
      "authorship_tag": "ABX9TyMByCSGNkzDsbI1s7O7wuPj",
      "include_colab_link": true
    },
    "kernelspec": {
      "name": "python3",
      "display_name": "Python 3"
    },
    "language_info": {
      "name": "python"
    }
  },
  "cells": [
    {
      "cell_type": "markdown",
      "metadata": {
        "id": "view-in-github",
        "colab_type": "text"
      },
      "source": [
        "<a href=\"https://colab.research.google.com/github/scaleracademy/dsml-intermediate-aug-22/blob/main/Python_Refresher_1.ipynb\" target=\"_parent\"><img src=\"https://colab.research.google.com/assets/colab-badge.svg\" alt=\"Open In Colab\"/></a>"
      ]
    },
    {
      "cell_type": "code",
      "execution_count": 1,
      "metadata": {
        "colab": {
          "base_uri": "https://localhost:8080/"
        },
        "id": "bl56iY6bZ27P",
        "outputId": "d8e0da08-3ca2-4158-d4ee-0b0921e2874d"
      },
      "outputs": [
        {
          "output_type": "stream",
          "name": "stdout",
          "text": [
            "Hello World !\n"
          ]
        }
      ],
      "source": [
        "print(\"Hello World !\")"
      ]
    },
    {
      "cell_type": "markdown",
      "source": [
        "### Comments"
      ],
      "metadata": {
        "id": "4skpJMWqgQox"
      }
    },
    {
      "cell_type": "code",
      "source": [
        "# this is a comment in python"
      ],
      "metadata": {
        "id": "X6barUlygLq8"
      },
      "execution_count": 2,
      "outputs": []
    },
    {
      "cell_type": "code",
      "source": [
        "a = '''\n",
        "this is a\n",
        "multiline comment\n",
        "'''"
      ],
      "metadata": {
        "id": "q8f4T8e_gU5f"
      },
      "execution_count": 4,
      "outputs": []
    },
    {
      "cell_type": "code",
      "source": [
        "a = 5\n",
        "print(a)\n",
        "print(type(a))"
      ],
      "metadata": {
        "colab": {
          "base_uri": "https://localhost:8080/"
        },
        "id": "Mi4MDzneggxL",
        "outputId": "fd06d819-ba86-4959-fd0b-7c14f269090d"
      },
      "execution_count": 5,
      "outputs": [
        {
          "output_type": "stream",
          "name": "stdout",
          "text": [
            "5\n",
            "<class 'int'>\n"
          ]
        }
      ]
    },
    {
      "cell_type": "code",
      "source": [
        "a = \"scaler\"\n",
        "print(a)\n",
        "print(type(a))"
      ],
      "metadata": {
        "colab": {
          "base_uri": "https://localhost:8080/"
        },
        "id": "fvM05bWThUo8",
        "outputId": "4206bdfd-90d9-4b44-9506-a07da4cdfc2a"
      },
      "execution_count": 7,
      "outputs": [
        {
          "output_type": "stream",
          "name": "stdout",
          "text": [
            "scaler\n",
            "<class 'str'>\n"
          ]
        }
      ]
    },
    {
      "cell_type": "code",
      "source": [
        "a = True\n",
        "print(a)\n",
        "print(type(a))"
      ],
      "metadata": {
        "colab": {
          "base_uri": "https://localhost:8080/"
        },
        "id": "HFKlbz6WhXvV",
        "outputId": "53c23859-06ce-453f-8bf0-dd42df2f68f0"
      },
      "execution_count": 9,
      "outputs": [
        {
          "output_type": "stream",
          "name": "stdout",
          "text": [
            "True\n",
            "<class 'bool'>\n"
          ]
        }
      ]
    },
    {
      "cell_type": "code",
      "source": [
        "print(a)\n",
        "print(isinstance(a, int))"
      ],
      "metadata": {
        "colab": {
          "base_uri": "https://localhost:8080/"
        },
        "id": "n239NLVHhdPz",
        "outputId": "9f7edda2-4f7d-4e09-f7f9-3a244512b4b3"
      },
      "execution_count": 11,
      "outputs": [
        {
          "output_type": "stream",
          "name": "stdout",
          "text": [
            "True\n",
            "True\n"
          ]
        }
      ]
    },
    {
      "cell_type": "code",
      "source": [
        "isinstance(5, object)"
      ],
      "metadata": {
        "colab": {
          "base_uri": "https://localhost:8080/"
        },
        "id": "5IioJ1PMhmdB",
        "outputId": "7065df1b-f2f3-4b64-cbf6-0c9fbf7a65d4"
      },
      "execution_count": 14,
      "outputs": [
        {
          "output_type": "execute_result",
          "data": {
            "text/plain": [
              "True"
            ]
          },
          "metadata": {},
          "execution_count": 14
        }
      ]
    },
    {
      "cell_type": "code",
      "source": [
        "isinstance(\"scaler\", object)"
      ],
      "metadata": {
        "colab": {
          "base_uri": "https://localhost:8080/"
        },
        "id": "fqt6-DFohuVA",
        "outputId": "50032372-90ca-471b-8892-bc6abd7ec1f9"
      },
      "execution_count": 15,
      "outputs": [
        {
          "output_type": "execute_result",
          "data": {
            "text/plain": [
              "True"
            ]
          },
          "metadata": {},
          "execution_count": 15
        }
      ]
    },
    {
      "cell_type": "code",
      "source": [
        "isinstance(print, object)"
      ],
      "metadata": {
        "colab": {
          "base_uri": "https://localhost:8080/"
        },
        "id": "FLOjmsweiMqd",
        "outputId": "3c3fbc3d-d2fa-4f5b-dbd0-d1bbce130e3f"
      },
      "execution_count": 16,
      "outputs": [
        {
          "output_type": "execute_result",
          "data": {
            "text/plain": [
              "True"
            ]
          },
          "metadata": {},
          "execution_count": 16
        }
      ]
    },
    {
      "cell_type": "code",
      "source": [
        "a = 5\n",
        "a = \"scaler\""
      ],
      "metadata": {
        "id": "Fvq_rMpwiOjz"
      },
      "execution_count": 17,
      "outputs": []
    },
    {
      "cell_type": "code",
      "source": [
        "globals()"
      ],
      "metadata": {
        "colab": {
          "base_uri": "https://localhost:8080/"
        },
        "id": "cDpQH1JZjTmw",
        "outputId": "cc1b8ee7-4de2-4d61-c8dc-fecf28407b7a"
      },
      "execution_count": 18,
      "outputs": [
        {
          "output_type": "execute_result",
          "data": {
            "text/plain": [
              "{'__name__': '__main__',\n",
              " '__doc__': 'Automatically created module for IPython interactive environment',\n",
              " '__package__': None,\n",
              " '__loader__': None,\n",
              " '__spec__': None,\n",
              " '__builtin__': <module 'builtins' (built-in)>,\n",
              " '__builtins__': <module 'builtins' (built-in)>,\n",
              " '_ih': ['',\n",
              "  'print(\"Hello World !\")',\n",
              "  '# this is a comment in python',\n",
              "  \"'''\\nthis is a\\nmultiline comment\\n'''\",\n",
              "  \"a = '''\\nthis is a\\nmultiline comment\\n'''\",\n",
              "  'a = 5\\nprint(a)\\nprint(type(a))',\n",
              "  'a = \"scaler\"\\nprint(a)\\nprint(type(A))',\n",
              "  'a = \"scaler\"\\nprint(a)\\nprint(type(a))',\n",
              "  'a = True\\nprint(a)\\nprint(type(A))',\n",
              "  'a = True\\nprint(a)\\nprint(type(a))',\n",
              "  'print(a)\\nprint(isinstance(a, bool))',\n",
              "  'print(a)\\nprint(isinstance(a, int))',\n",
              "  '5 * True',\n",
              "  '5 + True',\n",
              "  'isinstance(5, object)',\n",
              "  'isinstance(\"scaler\", object)',\n",
              "  'isinstance(print, object)',\n",
              "  'a = 5\\na = \"scaler\"',\n",
              "  'globals()'],\n",
              " '_oh': {3: '\\nthis is a\\nmultiline comment\\n',\n",
              "  12: 5,\n",
              "  13: 6,\n",
              "  14: True,\n",
              "  15: True,\n",
              "  16: True},\n",
              " '_dh': ['/content'],\n",
              " 'In': ['',\n",
              "  'print(\"Hello World !\")',\n",
              "  '# this is a comment in python',\n",
              "  \"'''\\nthis is a\\nmultiline comment\\n'''\",\n",
              "  \"a = '''\\nthis is a\\nmultiline comment\\n'''\",\n",
              "  'a = 5\\nprint(a)\\nprint(type(a))',\n",
              "  'a = \"scaler\"\\nprint(a)\\nprint(type(A))',\n",
              "  'a = \"scaler\"\\nprint(a)\\nprint(type(a))',\n",
              "  'a = True\\nprint(a)\\nprint(type(A))',\n",
              "  'a = True\\nprint(a)\\nprint(type(a))',\n",
              "  'print(a)\\nprint(isinstance(a, bool))',\n",
              "  'print(a)\\nprint(isinstance(a, int))',\n",
              "  '5 * True',\n",
              "  '5 + True',\n",
              "  'isinstance(5, object)',\n",
              "  'isinstance(\"scaler\", object)',\n",
              "  'isinstance(print, object)',\n",
              "  'a = 5\\na = \"scaler\"',\n",
              "  'globals()'],\n",
              " 'Out': {3: '\\nthis is a\\nmultiline comment\\n',\n",
              "  12: 5,\n",
              "  13: 6,\n",
              "  14: True,\n",
              "  15: True,\n",
              "  16: True},\n",
              " 'get_ipython': <bound method InteractiveShell.get_ipython of <google.colab._shell.Shell object at 0x7f745e3a8ed0>>,\n",
              " 'exit': <IPython.core.autocall.ZMQExitAutocall at 0x7f745b1105d0>,\n",
              " 'quit': <IPython.core.autocall.ZMQExitAutocall at 0x7f745b1105d0>,\n",
              " '_': True,\n",
              " '__': True,\n",
              " '___': True,\n",
              " '_i': 'a = 5\\na = \"scaler\"',\n",
              " '_ii': 'isinstance(print, object)',\n",
              " '_iii': 'isinstance(\"scaler\", object)',\n",
              " '_i1': 'print(\"Hello World !\")',\n",
              " '_i2': '# this is a comment in python',\n",
              " '_i3': \"'''\\nthis is a\\nmultiline comment\\n'''\",\n",
              " '_3': '\\nthis is a\\nmultiline comment\\n',\n",
              " '_i4': \"a = '''\\nthis is a\\nmultiline comment\\n'''\",\n",
              " 'a': 'scaler',\n",
              " '_i5': 'a = 5\\nprint(a)\\nprint(type(a))',\n",
              " '_i6': 'a = \"scaler\"\\nprint(a)\\nprint(type(A))',\n",
              " '_i7': 'a = \"scaler\"\\nprint(a)\\nprint(type(a))',\n",
              " '_i8': 'a = True\\nprint(a)\\nprint(type(A))',\n",
              " '_i9': 'a = True\\nprint(a)\\nprint(type(a))',\n",
              " '_i10': 'print(a)\\nprint(isinstance(a, bool))',\n",
              " '_i11': 'print(a)\\nprint(isinstance(a, int))',\n",
              " '_i12': '5 * True',\n",
              " '_12': 5,\n",
              " '_i13': '5 + True',\n",
              " '_13': 6,\n",
              " '_i14': 'isinstance(5, object)',\n",
              " '_14': True,\n",
              " '_i15': 'isinstance(\"scaler\", object)',\n",
              " '_15': True,\n",
              " '_i16': 'isinstance(print, object)',\n",
              " '_16': True,\n",
              " '_i17': 'a = 5\\na = \"scaler\"',\n",
              " '_i18': 'globals()'}"
            ]
          },
          "metadata": {},
          "execution_count": 18
        }
      ]
    },
    {
      "cell_type": "code",
      "source": [
        "globals()['name'] = \"Jatin Katyal\""
      ],
      "metadata": {
        "id": "1aa-Tfi-j8G3"
      },
      "execution_count": 19,
      "outputs": []
    },
    {
      "cell_type": "code",
      "source": [
        "name"
      ],
      "metadata": {
        "colab": {
          "base_uri": "https://localhost:8080/",
          "height": 35
        },
        "id": "r3dhwxRbkGTh",
        "outputId": "acbc8b57-c61b-44c6-d997-e5107d2f5ea8"
      },
      "execution_count": 20,
      "outputs": [
        {
          "output_type": "execute_result",
          "data": {
            "text/plain": [
              "'Jatin Katyal'"
            ],
            "application/vnd.google.colaboratory.intrinsic+json": {
              "type": "string"
            }
          },
          "metadata": {},
          "execution_count": 20
        }
      ]
    },
    {
      "cell_type": "code",
      "source": [
        "a = 4567890987654567890547890876545678908765457898765456789098765456789876543456789876545678987654567898765456789876545678987654567845678987654567890"
      ],
      "metadata": {
        "id": "zG5DiKAvkG3Z"
      },
      "execution_count": 21,
      "outputs": []
    },
    {
      "cell_type": "code",
      "source": [
        "a = 5\n",
        "print(id(a))"
      ],
      "metadata": {
        "colab": {
          "base_uri": "https://localhost:8080/"
        },
        "id": "QQmCYdg4k2oB",
        "outputId": "00e78739-6f4c-4900-c8f0-363dea10c0f3"
      },
      "execution_count": 24,
      "outputs": [
        {
          "output_type": "stream",
          "name": "stdout",
          "text": [
            "11256192\n"
          ]
        }
      ]
    },
    {
      "cell_type": "code",
      "source": [
        "b = a\n",
        "print(id(b))"
      ],
      "metadata": {
        "colab": {
          "base_uri": "https://localhost:8080/"
        },
        "id": "r6i35EtylgHe",
        "outputId": "109c385c-ca97-4549-817c-815211da01c5"
      },
      "execution_count": 25,
      "outputs": [
        {
          "output_type": "stream",
          "name": "stdout",
          "text": [
            "11256192\n"
          ]
        }
      ]
    },
    {
      "cell_type": "code",
      "source": [
        "a = 6\n",
        "print(id(a))"
      ],
      "metadata": {
        "colab": {
          "base_uri": "https://localhost:8080/"
        },
        "id": "Vg3X5v3zlr6Q",
        "outputId": "8237b153-304d-4ec0-fce3-14db775f3b1c"
      },
      "execution_count": 26,
      "outputs": [
        {
          "output_type": "stream",
          "name": "stdout",
          "text": [
            "11256224\n"
          ]
        }
      ]
    },
    {
      "cell_type": "code",
      "source": [
        "a = 255\n",
        "print(id(a))\n",
        "b = 255\n",
        "print(id(b))"
      ],
      "metadata": {
        "colab": {
          "base_uri": "https://localhost:8080/"
        },
        "id": "wHo6pGvWlvOf",
        "outputId": "fa272de0-52d9-4dea-ed6d-dacb9ba318d9"
      },
      "execution_count": 27,
      "outputs": [
        {
          "output_type": "stream",
          "name": "stdout",
          "text": [
            "11264192\n",
            "11264192\n"
          ]
        }
      ]
    },
    {
      "cell_type": "code",
      "source": [
        "a = 1024\n",
        "print(id(a))\n",
        "b = 1024\n",
        "print(id(b))"
      ],
      "metadata": {
        "colab": {
          "base_uri": "https://localhost:8080/"
        },
        "id": "v1kCPwyHmNC-",
        "outputId": "4a23e4d1-beb9-415f-9aef-3850d2b9fe4e"
      },
      "execution_count": 28,
      "outputs": [
        {
          "output_type": "stream",
          "name": "stdout",
          "text": [
            "140137340569776\n",
            "140137340569328\n"
          ]
        }
      ]
    },
    {
      "cell_type": "code",
      "source": [
        "a = 256\n",
        "print(id(a))\n",
        "b = 256\n",
        "print(id(b))"
      ],
      "metadata": {
        "colab": {
          "base_uri": "https://localhost:8080/"
        },
        "id": "oKsGNs9EmW_E",
        "outputId": "a7a5de09-83f9-49e8-ef7a-0a7e0621c548"
      },
      "execution_count": 30,
      "outputs": [
        {
          "output_type": "stream",
          "name": "stdout",
          "text": [
            "11264224\n",
            "11264224\n"
          ]
        }
      ]
    },
    {
      "cell_type": "code",
      "source": [
        "a = 257\n",
        "print(id(a))\n",
        "b = 257\n",
        "print(id(b))"
      ],
      "metadata": {
        "colab": {
          "base_uri": "https://localhost:8080/"
        },
        "id": "jKvBfw1Tmco1",
        "outputId": "82ca8a8b-3abb-461f-cd9e-716f5ad71819"
      },
      "execution_count": 31,
      "outputs": [
        {
          "output_type": "stream",
          "name": "stdout",
          "text": [
            "140137340570032\n",
            "140137340568432\n"
          ]
        }
      ]
    },
    {
      "cell_type": "markdown",
      "source": [
        "Since values in python are immutable, creating multiple values is not effecient like\n",
        "\n",
        "```\n",
        "a = 257\n",
        "b = 257\n",
        "```\n",
        "\n",
        "Hence python pre-allocates integers from -5 to 256"
      ],
      "metadata": {
        "id": "45qBSfBLnYjm"
      }
    },
    {
      "cell_type": "code",
      "source": [
        ""
      ],
      "metadata": {
        "id": "rB5e47RDnCQ_"
      },
      "execution_count": null,
      "outputs": []
    },
    {
      "cell_type": "markdown",
      "source": [
        "## Arithmetic Operators\n",
        "- +\n",
        "- -\n",
        "- /\n",
        "- *\n",
        "- %\n",
        "- // (floored division)\n",
        "- ** (exponentiation operator)"
      ],
      "metadata": {
        "id": "giY1wewCnyUT"
      }
    },
    {
      "cell_type": "code",
      "source": [
        "5 + 5"
      ],
      "metadata": {
        "colab": {
          "base_uri": "https://localhost:8080/"
        },
        "id": "SCt817l5nzzW",
        "outputId": "ad1b363f-b606-4ddd-aa41-d2794546ad66"
      },
      "execution_count": 32,
      "outputs": [
        {
          "output_type": "execute_result",
          "data": {
            "text/plain": [
              "10"
            ]
          },
          "metadata": {},
          "execution_count": 32
        }
      ]
    },
    {
      "cell_type": "code",
      "source": [
        "15 - 5"
      ],
      "metadata": {
        "colab": {
          "base_uri": "https://localhost:8080/"
        },
        "id": "3l6sI_t2oBxg",
        "outputId": "547953f0-4307-4472-90fe-83a46f0da6f4"
      },
      "execution_count": 33,
      "outputs": [
        {
          "output_type": "execute_result",
          "data": {
            "text/plain": [
              "10"
            ]
          },
          "metadata": {},
          "execution_count": 33
        }
      ]
    },
    {
      "cell_type": "code",
      "source": [
        "2 * 5"
      ],
      "metadata": {
        "colab": {
          "base_uri": "https://localhost:8080/"
        },
        "id": "ADW7OTU4oDLf",
        "outputId": "c62ff5b3-6c6e-418c-9a1a-a0ebfb52b92e"
      },
      "execution_count": 34,
      "outputs": [
        {
          "output_type": "execute_result",
          "data": {
            "text/plain": [
              "10"
            ]
          },
          "metadata": {},
          "execution_count": 34
        }
      ]
    },
    {
      "cell_type": "code",
      "source": [
        "20 / 2"
      ],
      "metadata": {
        "colab": {
          "base_uri": "https://localhost:8080/"
        },
        "id": "u3KJOU0-oFTq",
        "outputId": "0578bece-0158-4ed5-848e-f60c28474f55"
      },
      "execution_count": 35,
      "outputs": [
        {
          "output_type": "execute_result",
          "data": {
            "text/plain": [
              "10.0"
            ]
          },
          "metadata": {},
          "execution_count": 35
        }
      ]
    },
    {
      "cell_type": "code",
      "source": [
        "20 // 2"
      ],
      "metadata": {
        "colab": {
          "base_uri": "https://localhost:8080/"
        },
        "id": "NMWYk2pMoKBk",
        "outputId": "e724ac0a-ff10-408d-dea2-a66f503cb6eb"
      },
      "execution_count": 36,
      "outputs": [
        {
          "output_type": "execute_result",
          "data": {
            "text/plain": [
              "10"
            ]
          },
          "metadata": {},
          "execution_count": 36
        }
      ]
    },
    {
      "cell_type": "code",
      "source": [
        "a = 2*5\n",
        "b = 10\n",
        "\n",
        "print(id(a))\n",
        "print(id(b))"
      ],
      "metadata": {
        "colab": {
          "base_uri": "https://localhost:8080/"
        },
        "id": "os1fgn4iocxF",
        "outputId": "49995678-b0ed-47b6-e6c5-32b1523e93f2"
      },
      "execution_count": 37,
      "outputs": [
        {
          "output_type": "stream",
          "name": "stdout",
          "text": [
            "11256352\n",
            "11256352\n"
          ]
        }
      ]
    },
    {
      "cell_type": "code",
      "source": [
        "2**5"
      ],
      "metadata": {
        "colab": {
          "base_uri": "https://localhost:8080/"
        },
        "id": "5ibLX5T6ooYe",
        "outputId": "963ac802-1388-45a3-ffe8-b83e03f11093"
      },
      "execution_count": 38,
      "outputs": [
        {
          "output_type": "execute_result",
          "data": {
            "text/plain": [
              "32"
            ]
          },
          "metadata": {},
          "execution_count": 38
        }
      ]
    },
    {
      "cell_type": "markdown",
      "source": [
        "# Identifiers\n",
        "Name given to any language construct.\n",
        "- class\n",
        "- variable\n",
        "- function\n",
        "\n",
        "### Rules\n",
        "- The name should start with `a-z`, `A-Z` or `_`\n",
        "- The name should only contain with `a-z`, `A-Z`, `0-9` or `_`"
      ],
      "metadata": {
        "id": "2X9dNmujo2nl"
      }
    },
    {
      "cell_type": "code",
      "source": [
        "________________abc = 10"
      ],
      "metadata": {
        "id": "aDUb_JOLos4T"
      },
      "execution_count": 39,
      "outputs": []
    },
    {
      "cell_type": "code",
      "source": [
        "________ = \"jatin\""
      ],
      "metadata": {
        "id": "Rs7xKHJ6ppQf"
      },
      "execution_count": 40,
      "outputs": []
    },
    {
      "cell_type": "code",
      "source": [
        "print(________)"
      ],
      "metadata": {
        "colab": {
          "base_uri": "https://localhost:8080/"
        },
        "id": "9wYLl0A7prNL",
        "outputId": "f32aae77-6bb9-4b81-ae08-cf60bdbe80d6"
      },
      "execution_count": 41,
      "outputs": [
        {
          "output_type": "stream",
          "name": "stdout",
          "text": [
            "jatin\n"
          ]
        }
      ]
    },
    {
      "cell_type": "code",
      "source": [
        "1abc = 10"
      ],
      "metadata": {
        "colab": {
          "base_uri": "https://localhost:8080/",
          "height": 133
        },
        "id": "wKuhLVBDpsQk",
        "outputId": "44b1e656-8db2-4258-e772-a52e2dc31d33"
      },
      "execution_count": 42,
      "outputs": [
        {
          "output_type": "error",
          "ename": "SyntaxError",
          "evalue": "ignored",
          "traceback": [
            "\u001b[0;36m  File \u001b[0;32m\"<ipython-input-42-4037115849a7>\"\u001b[0;36m, line \u001b[0;32m1\u001b[0m\n\u001b[0;31m    1abc = 10\u001b[0m\n\u001b[0m       ^\u001b[0m\n\u001b[0;31mSyntaxError\u001b[0m\u001b[0;31m:\u001b[0m invalid syntax\n"
          ]
        }
      ]
    },
    {
      "cell_type": "markdown",
      "source": [
        "# Control Flow\n",
        "Changing the flow of execution of a programme\n",
        "\n",
        "## if-else-elif"
      ],
      "metadata": {
        "id": "8M7Bz0IjqC8g"
      }
    },
    {
      "cell_type": "markdown",
      "source": [
        "### Identation\n",
        "- Tabs\n",
        "- Space"
      ],
      "metadata": {
        "id": "5C0QHR1ssc9X"
      }
    },
    {
      "cell_type": "code",
      "source": [
        "a = 12\n",
        "if a % 2 == 0:\n",
        "  # if statement block started\n",
        "  print(\"The number is even\")\n",
        "else:\n",
        "  # else statement block started\n",
        "  print(\"The number is odd\")"
      ],
      "metadata": {
        "colab": {
          "base_uri": "https://localhost:8080/"
        },
        "id": "TqnfJDrwsBUa",
        "outputId": "0b243551-fcd6-4bb5-9283-100bbd80a283"
      },
      "execution_count": 47,
      "outputs": [
        {
          "output_type": "stream",
          "name": "stdout",
          "text": [
            "The number is even\n"
          ]
        }
      ]
    },
    {
      "cell_type": "code",
      "source": [
        "num = 15\n",
        "\n",
        "if num % 3 == 0 and num % 5 == 0:\n",
        "  print(\"Fizz Buzz\")\n",
        "elif num % 3 == 0:\n",
        "  print(\"Fizz\")\n",
        "elif num % 5 == 0:\n",
        "  print(\"Buzz\")\n",
        "else:\n",
        "  print(num)\n"
      ],
      "metadata": {
        "colab": {
          "base_uri": "https://localhost:8080/"
        },
        "id": "9NFQ17YcrkMP",
        "outputId": "461bdf80-6694-4a02-dc35-1ac3a57e884e"
      },
      "execution_count": 48,
      "outputs": [
        {
          "output_type": "stream",
          "name": "stdout",
          "text": [
            "Fizz Buzz\n"
          ]
        }
      ]
    },
    {
      "cell_type": "code",
      "source": [
        "num = 5\n",
        "if num % 2 == 0:\n",
        "  print(\"this is even\")"
      ],
      "metadata": {
        "id": "In09K3mcteW3"
      },
      "execution_count": 49,
      "outputs": []
    },
    {
      "cell_type": "code",
      "source": [
        "1.01 ** 5678765456789"
      ],
      "metadata": {
        "colab": {
          "base_uri": "https://localhost:8080/",
          "height": 169
        },
        "id": "SjBUJVUHtx_x",
        "outputId": "ca6996bd-3fcf-423f-8150-39dc0db2c1d6"
      },
      "execution_count": 50,
      "outputs": [
        {
          "output_type": "error",
          "ename": "OverflowError",
          "evalue": "ignored",
          "traceback": [
            "\u001b[0;31m---------------------------------------------------------------------------\u001b[0m",
            "\u001b[0;31mOverflowError\u001b[0m                             Traceback (most recent call last)",
            "\u001b[0;32m<ipython-input-50-8df9a5d21b75>\u001b[0m in \u001b[0;36m<module>\u001b[0;34m\u001b[0m\n\u001b[0;32m----> 1\u001b[0;31m \u001b[0;36m1.01\u001b[0m \u001b[0;34m**\u001b[0m \u001b[0;36m5678765456789\u001b[0m\u001b[0;34m\u001b[0m\u001b[0;34m\u001b[0m\u001b[0m\n\u001b[0m",
            "\u001b[0;31mOverflowError\u001b[0m: (34, 'Numerical result out of range')"
          ]
        }
      ]
    },
    {
      "cell_type": "code",
      "source": [
        "_ = \"scaler\""
      ],
      "metadata": {
        "id": "D86sdPKlubSY"
      },
      "execution_count": 51,
      "outputs": []
    },
    {
      "cell_type": "code",
      "source": [
        "5 + 6"
      ],
      "metadata": {
        "colab": {
          "base_uri": "https://localhost:8080/"
        },
        "id": "ef-HV9NQvP3N",
        "outputId": "263a0284-f561-4d1d-aae7-d76624a9681b"
      },
      "execution_count": 52,
      "outputs": [
        {
          "output_type": "execute_result",
          "data": {
            "text/plain": [
              "11"
            ]
          },
          "metadata": {},
          "execution_count": 52
        }
      ]
    },
    {
      "cell_type": "code",
      "source": [
        "_"
      ],
      "metadata": {
        "colab": {
          "base_uri": "https://localhost:8080/",
          "height": 35
        },
        "id": "Taq3IbklvQ0J",
        "outputId": "e99aaf29-744f-4a96-f322-e2587f8c3d26"
      },
      "execution_count": 53,
      "outputs": [
        {
          "output_type": "execute_result",
          "data": {
            "text/plain": [
              "'scaler'"
            ],
            "application/vnd.google.colaboratory.intrinsic+json": {
              "type": "string"
            }
          },
          "metadata": {},
          "execution_count": 53
        }
      ]
    },
    {
      "cell_type": "code",
      "source": [
        "a = 268\n",
        "print(id(a))\n",
        "a = 1024\n",
        "print(id(a))\n",
        "a = 268\n",
        "print(id(a))"
      ],
      "metadata": {
        "colab": {
          "base_uri": "https://localhost:8080/"
        },
        "id": "I2BxaGBrvRWn",
        "outputId": "668c5c14-ad6b-474d-9eff-1f15f116903e"
      },
      "execution_count": 54,
      "outputs": [
        {
          "output_type": "stream",
          "name": "stdout",
          "text": [
            "140137340571408\n",
            "140137340571568\n",
            "140137340569648\n"
          ]
        }
      ]
    },
    {
      "cell_type": "code",
      "source": [
        "id(6)"
      ],
      "metadata": {
        "colab": {
          "base_uri": "https://localhost:8080/"
        },
        "id": "nqRmeybrvdPh",
        "outputId": "34961672-14b4-4e2c-ab77-49c84752f335"
      },
      "execution_count": 55,
      "outputs": [
        {
          "output_type": "execute_result",
          "data": {
            "text/plain": [
              "11256224"
            ]
          },
          "metadata": {},
          "execution_count": 55
        }
      ]
    },
    {
      "cell_type": "code",
      "source": [
        "globals()"
      ],
      "metadata": {
        "colab": {
          "base_uri": "https://localhost:8080/"
        },
        "id": "85sGLqugvjTv",
        "outputId": "00456157-2467-4d17-bf37-9c7f1fe8232d"
      },
      "execution_count": 56,
      "outputs": [
        {
          "output_type": "execute_result",
          "data": {
            "text/plain": [
              "{'__name__': '__main__',\n",
              " '__doc__': 'Automatically created module for IPython interactive environment',\n",
              " '__package__': None,\n",
              " '__loader__': None,\n",
              " '__spec__': None,\n",
              " '__builtin__': <module 'builtins' (built-in)>,\n",
              " '__builtins__': <module 'builtins' (built-in)>,\n",
              " '_ih': ['',\n",
              "  'print(\"Hello World !\")',\n",
              "  '# this is a comment in python',\n",
              "  \"'''\\nthis is a\\nmultiline comment\\n'''\",\n",
              "  \"a = '''\\nthis is a\\nmultiline comment\\n'''\",\n",
              "  'a = 5\\nprint(a)\\nprint(type(a))',\n",
              "  'a = \"scaler\"\\nprint(a)\\nprint(type(A))',\n",
              "  'a = \"scaler\"\\nprint(a)\\nprint(type(a))',\n",
              "  'a = True\\nprint(a)\\nprint(type(A))',\n",
              "  'a = True\\nprint(a)\\nprint(type(a))',\n",
              "  'print(a)\\nprint(isinstance(a, bool))',\n",
              "  'print(a)\\nprint(isinstance(a, int))',\n",
              "  '5 * True',\n",
              "  '5 + True',\n",
              "  'isinstance(5, object)',\n",
              "  'isinstance(\"scaler\", object)',\n",
              "  'isinstance(print, object)',\n",
              "  'a = 5\\na = \"scaler\"',\n",
              "  'globals()',\n",
              "  'globals()[\\'name\\'] = \"Jatin Katyal\"',\n",
              "  'name',\n",
              "  'a = 4567890987654567890547890876545678908765457898765456789098765456789876543456789876545678987654567898765456789876545678987654567845678987654567890',\n",
              "  'a = 5\\nprint(id(a))',\n",
              "  'a = 5\\nprint(hex(id(a)))',\n",
              "  'a = 5\\nprint(id(a))',\n",
              "  'b = a\\nprint(id(b))',\n",
              "  'a = 6\\nprint(id(a))',\n",
              "  'a = 255\\nprint(id(a))\\nb = 255\\nprint(id(b))',\n",
              "  'a = 1024\\nprint(id(a))\\nb = 1024\\nprint(id(b))',\n",
              "  'a = -5\\nprint(id(a))\\nb = -5\\nprint(id(b))',\n",
              "  'a = 256\\nprint(id(a))\\nb = 256\\nprint(id(b))',\n",
              "  'a = 257\\nprint(id(a))\\nb = 257\\nprint(id(b))',\n",
              "  '5 + 5',\n",
              "  '15 - 5',\n",
              "  '2 * 5',\n",
              "  '20 / 2',\n",
              "  '20 // 2',\n",
              "  'a = 2*5\\nb = 10\\n\\nprint(id(a))\\nprint(id(b))',\n",
              "  '2**5',\n",
              "  '________________abc = 10',\n",
              "  '________ = \"jatin\"',\n",
              "  'print(________)',\n",
              "  '1abc = 10',\n",
              "  '1 + 5',\n",
              "  'print(1 + 5)',\n",
              "  '1 + 5',\n",
              "  '_',\n",
              "  'a = 12\\nif a % 2 == 0:\\n  # if statement block started\\n  print(\"The number is even\")\\nelse:\\n  # else statement block started\\n  print(\"The number is odd\")',\n",
              "  'num = 15\\n\\nif num % 3 == 0 and num % 5 == 0:\\n  print(\"Fizz Buzz\")\\nelif num % 3 == 0:\\n  print(\"Fizz\")\\nelif num % 5 == 0:\\n  print(\"Buzz\")\\nelse:\\n  print(num)',\n",
              "  'num = 5\\nif num % 2 == 0:\\n  print(\"this is even\")',\n",
              "  '1.01 ** 5678765456789',\n",
              "  '_ = \"scaler\"',\n",
              "  '5 + 6',\n",
              "  '_',\n",
              "  'a = 268\\nprint(id(a))\\na = 1024\\nprint(id(a))\\na = 268\\nprint(id(a))',\n",
              "  'id(6)',\n",
              "  'globals()'],\n",
              " '_oh': {3: '\\nthis is a\\nmultiline comment\\n',\n",
              "  12: 5,\n",
              "  13: 6,\n",
              "  14: True,\n",
              "  15: True,\n",
              "  16: True,\n",
              "  18: {...},\n",
              "  20: 'Jatin Katyal',\n",
              "  32: 10,\n",
              "  33: 10,\n",
              "  34: 10,\n",
              "  35: 10.0,\n",
              "  36: 10,\n",
              "  38: 32,\n",
              "  43: 6,\n",
              "  45: 6,\n",
              "  46: 6,\n",
              "  52: 11,\n",
              "  53: 'scaler',\n",
              "  55: 11256224},\n",
              " '_dh': ['/content'],\n",
              " 'In': ['',\n",
              "  'print(\"Hello World !\")',\n",
              "  '# this is a comment in python',\n",
              "  \"'''\\nthis is a\\nmultiline comment\\n'''\",\n",
              "  \"a = '''\\nthis is a\\nmultiline comment\\n'''\",\n",
              "  'a = 5\\nprint(a)\\nprint(type(a))',\n",
              "  'a = \"scaler\"\\nprint(a)\\nprint(type(A))',\n",
              "  'a = \"scaler\"\\nprint(a)\\nprint(type(a))',\n",
              "  'a = True\\nprint(a)\\nprint(type(A))',\n",
              "  'a = True\\nprint(a)\\nprint(type(a))',\n",
              "  'print(a)\\nprint(isinstance(a, bool))',\n",
              "  'print(a)\\nprint(isinstance(a, int))',\n",
              "  '5 * True',\n",
              "  '5 + True',\n",
              "  'isinstance(5, object)',\n",
              "  'isinstance(\"scaler\", object)',\n",
              "  'isinstance(print, object)',\n",
              "  'a = 5\\na = \"scaler\"',\n",
              "  'globals()',\n",
              "  'globals()[\\'name\\'] = \"Jatin Katyal\"',\n",
              "  'name',\n",
              "  'a = 4567890987654567890547890876545678908765457898765456789098765456789876543456789876545678987654567898765456789876545678987654567845678987654567890',\n",
              "  'a = 5\\nprint(id(a))',\n",
              "  'a = 5\\nprint(hex(id(a)))',\n",
              "  'a = 5\\nprint(id(a))',\n",
              "  'b = a\\nprint(id(b))',\n",
              "  'a = 6\\nprint(id(a))',\n",
              "  'a = 255\\nprint(id(a))\\nb = 255\\nprint(id(b))',\n",
              "  'a = 1024\\nprint(id(a))\\nb = 1024\\nprint(id(b))',\n",
              "  'a = -5\\nprint(id(a))\\nb = -5\\nprint(id(b))',\n",
              "  'a = 256\\nprint(id(a))\\nb = 256\\nprint(id(b))',\n",
              "  'a = 257\\nprint(id(a))\\nb = 257\\nprint(id(b))',\n",
              "  '5 + 5',\n",
              "  '15 - 5',\n",
              "  '2 * 5',\n",
              "  '20 / 2',\n",
              "  '20 // 2',\n",
              "  'a = 2*5\\nb = 10\\n\\nprint(id(a))\\nprint(id(b))',\n",
              "  '2**5',\n",
              "  '________________abc = 10',\n",
              "  '________ = \"jatin\"',\n",
              "  'print(________)',\n",
              "  '1abc = 10',\n",
              "  '1 + 5',\n",
              "  'print(1 + 5)',\n",
              "  '1 + 5',\n",
              "  '_',\n",
              "  'a = 12\\nif a % 2 == 0:\\n  # if statement block started\\n  print(\"The number is even\")\\nelse:\\n  # else statement block started\\n  print(\"The number is odd\")',\n",
              "  'num = 15\\n\\nif num % 3 == 0 and num % 5 == 0:\\n  print(\"Fizz Buzz\")\\nelif num % 3 == 0:\\n  print(\"Fizz\")\\nelif num % 5 == 0:\\n  print(\"Buzz\")\\nelse:\\n  print(num)',\n",
              "  'num = 5\\nif num % 2 == 0:\\n  print(\"this is even\")',\n",
              "  '1.01 ** 5678765456789',\n",
              "  '_ = \"scaler\"',\n",
              "  '5 + 6',\n",
              "  '_',\n",
              "  'a = 268\\nprint(id(a))\\na = 1024\\nprint(id(a))\\na = 268\\nprint(id(a))',\n",
              "  'id(6)',\n",
              "  'globals()'],\n",
              " 'Out': {3: '\\nthis is a\\nmultiline comment\\n',\n",
              "  12: 5,\n",
              "  13: 6,\n",
              "  14: True,\n",
              "  15: True,\n",
              "  16: True,\n",
              "  18: {...},\n",
              "  20: 'Jatin Katyal',\n",
              "  32: 10,\n",
              "  33: 10,\n",
              "  34: 10,\n",
              "  35: 10.0,\n",
              "  36: 10,\n",
              "  38: 32,\n",
              "  43: 6,\n",
              "  45: 6,\n",
              "  46: 6,\n",
              "  52: 11,\n",
              "  53: 'scaler',\n",
              "  55: 11256224},\n",
              " 'get_ipython': <bound method InteractiveShell.get_ipython of <google.colab._shell.Shell object at 0x7f745e3a8ed0>>,\n",
              " 'exit': <IPython.core.autocall.ZMQExitAutocall at 0x7f745b1105d0>,\n",
              " 'quit': <IPython.core.autocall.ZMQExitAutocall at 0x7f745b1105d0>,\n",
              " '_': 'scaler',\n",
              " '__': 6,\n",
              " '___': 6,\n",
              " '_i': 'id(6)',\n",
              " '_ii': 'a = 268\\nprint(id(a))\\na = 1024\\nprint(id(a))\\na = 268\\nprint(id(a))',\n",
              " '_iii': '_',\n",
              " '_i1': 'print(\"Hello World !\")',\n",
              " '_i2': '# this is a comment in python',\n",
              " '_i3': \"'''\\nthis is a\\nmultiline comment\\n'''\",\n",
              " '_3': '\\nthis is a\\nmultiline comment\\n',\n",
              " '_i4': \"a = '''\\nthis is a\\nmultiline comment\\n'''\",\n",
              " 'a': 268,\n",
              " '_i5': 'a = 5\\nprint(a)\\nprint(type(a))',\n",
              " '_i6': 'a = \"scaler\"\\nprint(a)\\nprint(type(A))',\n",
              " '_i7': 'a = \"scaler\"\\nprint(a)\\nprint(type(a))',\n",
              " '_i8': 'a = True\\nprint(a)\\nprint(type(A))',\n",
              " '_i9': 'a = True\\nprint(a)\\nprint(type(a))',\n",
              " '_i10': 'print(a)\\nprint(isinstance(a, bool))',\n",
              " '_i11': 'print(a)\\nprint(isinstance(a, int))',\n",
              " '_i12': '5 * True',\n",
              " '_12': 5,\n",
              " '_i13': '5 + True',\n",
              " '_13': 6,\n",
              " '_i14': 'isinstance(5, object)',\n",
              " '_14': True,\n",
              " '_i15': 'isinstance(\"scaler\", object)',\n",
              " '_15': True,\n",
              " '_i16': 'isinstance(print, object)',\n",
              " '_16': True,\n",
              " '_i17': 'a = 5\\na = \"scaler\"',\n",
              " '_i18': 'globals()',\n",
              " '_18': {...},\n",
              " '_i19': 'globals()[\\'name\\'] = \"Jatin Katyal\"',\n",
              " 'name': 'Jatin Katyal',\n",
              " '_i20': 'name',\n",
              " '_20': 'Jatin Katyal',\n",
              " '_i21': 'a = 4567890987654567890547890876545678908765457898765456789098765456789876543456789876545678987654567898765456789876545678987654567845678987654567890',\n",
              " '_i22': 'a = 5\\nprint(id(a))',\n",
              " '_i23': 'a = 5\\nprint(hex(id(a)))',\n",
              " '_i24': 'a = 5\\nprint(id(a))',\n",
              " '_i25': 'b = a\\nprint(id(b))',\n",
              " 'b': 10,\n",
              " '_i26': 'a = 6\\nprint(id(a))',\n",
              " '_i27': 'a = 255\\nprint(id(a))\\nb = 255\\nprint(id(b))',\n",
              " '_i28': 'a = 1024\\nprint(id(a))\\nb = 1024\\nprint(id(b))',\n",
              " '_i29': 'a = -5\\nprint(id(a))\\nb = -5\\nprint(id(b))',\n",
              " '_i30': 'a = 256\\nprint(id(a))\\nb = 256\\nprint(id(b))',\n",
              " '_i31': 'a = 257\\nprint(id(a))\\nb = 257\\nprint(id(b))',\n",
              " '_i32': '5 + 5',\n",
              " '_32': 10,\n",
              " '_i33': '15 - 5',\n",
              " '_33': 10,\n",
              " '_i34': '2 * 5',\n",
              " '_34': 10,\n",
              " '_i35': '20 / 2',\n",
              " '_35': 10.0,\n",
              " '_i36': '20 // 2',\n",
              " '_36': 10,\n",
              " '_i37': 'a = 2*5\\nb = 10\\n\\nprint(id(a))\\nprint(id(b))',\n",
              " '_i38': '2**5',\n",
              " '_38': 32,\n",
              " '_i39': '________________abc = 10',\n",
              " '________________abc': 10,\n",
              " '_i40': '________ = \"jatin\"',\n",
              " '________': 'jatin',\n",
              " '_i41': 'print(________)',\n",
              " '_i42': '1abc = 10',\n",
              " '_i43': '1 + 5',\n",
              " '_43': 6,\n",
              " '_i44': 'print(1 + 5)',\n",
              " '_i45': '1 + 5',\n",
              " '_45': 6,\n",
              " '_i46': '_',\n",
              " '_46': 6,\n",
              " '_i47': 'a = 12\\nif a % 2 == 0:\\n  # if statement block started\\n  print(\"The number is even\")\\nelse:\\n  # else statement block started\\n  print(\"The number is odd\")',\n",
              " '_i48': 'num = 15\\n\\nif num % 3 == 0 and num % 5 == 0:\\n  print(\"Fizz Buzz\")\\nelif num % 3 == 0:\\n  print(\"Fizz\")\\nelif num % 5 == 0:\\n  print(\"Buzz\")\\nelse:\\n  print(num)',\n",
              " 'num': 5,\n",
              " '_i49': 'num = 5\\nif num % 2 == 0:\\n  print(\"this is even\")',\n",
              " '_i50': '1.01 ** 5678765456789',\n",
              " '_i51': '_ = \"scaler\"',\n",
              " '_i52': '5 + 6',\n",
              " '_52': 11,\n",
              " '_i53': '_',\n",
              " '_53': 'scaler',\n",
              " '_i54': 'a = 268\\nprint(id(a))\\na = 1024\\nprint(id(a))\\na = 268\\nprint(id(a))',\n",
              " '_i55': 'id(6)',\n",
              " '_55': 11256224,\n",
              " '_i56': 'globals()'}"
            ]
          },
          "metadata": {},
          "execution_count": 56
        }
      ]
    },
    {
      "cell_type": "code",
      "source": [
        "if True:\n",
        "  if True:\n",
        "    if True:\n",
        "      abc = 123"
      ],
      "metadata": {
        "id": "57ZZlD3Fv_dq"
      },
      "execution_count": 57,
      "outputs": []
    },
    {
      "cell_type": "code",
      "source": [
        "abc"
      ],
      "metadata": {
        "colab": {
          "base_uri": "https://localhost:8080/"
        },
        "id": "O9ds-H1jwpga",
        "outputId": "17407496-af01-4526-ba69-fd74c3158256"
      },
      "execution_count": 58,
      "outputs": [
        {
          "output_type": "execute_result",
          "data": {
            "text/plain": [
              "123"
            ]
          },
          "metadata": {},
          "execution_count": 58
        }
      ]
    },
    {
      "cell_type": "code",
      "source": [
        "-5 / 3"
      ],
      "metadata": {
        "colab": {
          "base_uri": "https://localhost:8080/"
        },
        "id": "IzagJ2abwqNE",
        "outputId": "d7f381b8-86cf-43ff-c6c4-ba51f9d06fc8"
      },
      "execution_count": 60,
      "outputs": [
        {
          "output_type": "execute_result",
          "data": {
            "text/plain": [
              "-1.6666666666666667"
            ]
          },
          "metadata": {},
          "execution_count": 60
        }
      ]
    },
    {
      "cell_type": "code",
      "source": [
        ""
      ],
      "metadata": {
        "id": "bkvr8ctlxGSu"
      },
      "execution_count": null,
      "outputs": []
    }
  ]
}