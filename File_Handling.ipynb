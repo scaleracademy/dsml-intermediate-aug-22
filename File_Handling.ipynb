{
  "cells": [
    {
      "cell_type": "markdown",
      "metadata": {
        "id": "view-in-github",
        "colab_type": "text"
      },
      "source": [
        "<a href=\"https://colab.research.google.com/github/scaleracademy/dsml-intermediate-aug-22/blob/main/File_Handling.ipynb\" target=\"_parent\"><img src=\"https://colab.research.google.com/assets/colab-badge.svg\" alt=\"Open In Colab\"/></a>"
      ]
    },
    {
      "cell_type": "markdown",
      "metadata": {
        "id": "Kk_h1hjlyNiy"
      },
      "source": [
        "#<center>Working with Files</center>"
      ]
    },
    {
      "cell_type": "markdown",
      "metadata": {
        "id": "eWqMkXidyNi2"
      },
      "source": [
        "## File Access Modes\n",
        "\n",
        ">Access modes govern the type of operations possible in the opened file. It refers to how the file will be used once its opened. These modes also define the location of the File Handle in the file. File handle is like a cursor, which defines from where the data has to be read or written in the file. There are 6 access modes in python.\n",
        "\n",
        "- **Read Only (‘r’)** : Open text file for reading. The handle is positioned at the beginning of the file. If the file does not exists, raises I/O error. This is also the default mode in which file is opened.\n",
        "\n",
        "\n",
        "- **Read and Write (‘r+’)** : Open the file for reading and writing. The handle is positioned at the beginning of the file. Raises I/O error if the file does not exists.\n",
        "\n",
        "\n",
        "- **Write Only (‘w’)** : Open the file for writing. For existing file, the data is truncated and over-written. The handle is positioned at the beginning of the file. Creates the file if the file does not exists.\n",
        "\n",
        "\n",
        "- **Write and Read (‘w+’)** : Open the file for reading and writing. For existing file, data is truncated and over-written. The handle is positioned at the beginning of the file.\n",
        "\n",
        "\n",
        "- **Append Only (‘a’)** : Open the file for writing. The file is created if it does not exist. The handle is positioned at the end of the file. The data being written will be inserted at the end, after the existing data.\n",
        "\n",
        "\n",
        "- **Append and Read (‘a+’)** : Open the file for reading and writing. The file is created if it does not exist. The handle is positioned at the end of the file. The data being written will be inserted at the end, after the existing data."
      ]
    },
    {
      "cell_type": "markdown",
      "metadata": {
        "id": "OC2DfrrByNi4"
      },
      "source": [
        "## 1. Text files"
      ]
    },
    {
      "cell_type": "markdown",
      "metadata": {
        "id": "0jEqF8kbyNi4"
      },
      "source": [
        "### Opening a file"
      ]
    },
    {
      "cell_type": "code",
      "execution_count": 7,
      "metadata": {
        "id": "W7V5GnHgyNi5"
      },
      "outputs": [],
      "source": [
        "file = open(\"sample.txt\", \"w+\")"
      ]
    },
    {
      "cell_type": "markdown",
      "metadata": {
        "id": "recDX_6SyNi5"
      },
      "source": [
        "### Closing a file"
      ]
    },
    {
      "cell_type": "code",
      "execution_count": 8,
      "metadata": {
        "id": "FxFoIjDMyNi6"
      },
      "outputs": [],
      "source": [
        "file.close()"
      ]
    },
    {
      "cell_type": "markdown",
      "metadata": {
        "id": "6YZSu984yNi6"
      },
      "source": [
        "### Writing to a file\n",
        "\n",
        "- write\n",
        "- writelines"
      ]
    },
    {
      "cell_type": "code",
      "execution_count": 9,
      "metadata": {
        "id": "EnonkOwZyNi7"
      },
      "outputs": [],
      "source": [
        "file = open(\"sample.txt\", \"w\")\n",
        "\n",
        "file.write(\"Hello World !\")\n",
        "\n",
        "file.close()"
      ]
    },
    {
      "cell_type": "code",
      "source": [
        "file = open(\"sample.txt\", \"w\")\n",
        "\n",
        "file.writelines([\n",
        "    \"scaler\\n\",\n",
        "    \"jatin\\n\",\n",
        "    \"python\\n\"\n",
        "])\n",
        "\n",
        "file.close()"
      ],
      "metadata": {
        "id": "CXUXIO4w9gCA"
      },
      "execution_count": 11,
      "outputs": []
    },
    {
      "cell_type": "markdown",
      "metadata": {
        "id": "oPG_8H80yNi7"
      },
      "source": [
        "### Reading from a file\n",
        "- read\n",
        "- readline\n",
        "- readlines"
      ]
    },
    {
      "cell_type": "code",
      "execution_count": 12,
      "metadata": {
        "colab": {
          "base_uri": "https://localhost:8080/"
        },
        "id": "GDtJxzFtyNi8",
        "outputId": "a59b8ef2-f30a-4eae-edf7-07026756e4f3"
      },
      "outputs": [
        {
          "output_type": "stream",
          "name": "stdout",
          "text": [
            "scaler\n",
            "jatin\n",
            "python\n",
            "\n"
          ]
        }
      ],
      "source": [
        "file = open(\"sample.txt\", \"r\")\n",
        "\n",
        "print(file.read())\n",
        "\n",
        "file.close()"
      ]
    },
    {
      "cell_type": "code",
      "source": [
        "file = open(\"sample.txt\", \"r\")\n",
        "\n",
        "print(file.readlines())\n",
        "\n",
        "file.close()"
      ],
      "metadata": {
        "colab": {
          "base_uri": "https://localhost:8080/"
        },
        "id": "XTf9C0fZ-Mtp",
        "outputId": "28551760-881d-4071-9f7e-2e285ff15ee6"
      },
      "execution_count": 13,
      "outputs": [
        {
          "output_type": "stream",
          "name": "stdout",
          "text": [
            "['scaler\\n', 'jatin\\n', 'python\\n']\n"
          ]
        }
      ]
    },
    {
      "cell_type": "code",
      "source": [
        "file = open(\"sample.txt\", \"r\")\n",
        "\n",
        "print(len(file.readline()))\n",
        "print(len(file.readline()))\n",
        "print(len(file.readline()))\n",
        "print(len(file.readline()))\n",
        "print(len(file.readline()))\n",
        "print(len(file.readline()))\n",
        "print(len(file.readline()))\n",
        "print(len(file.readline()))\n",
        "print(len(file.readline()))\n",
        "print(len(file.readline()))\n",
        "\n",
        "file.close()"
      ],
      "metadata": {
        "colab": {
          "base_uri": "https://localhost:8080/"
        },
        "id": "RZwCQaEx-Vue",
        "outputId": "dd8a69be-e604-44c5-987f-4a774e2753f0"
      },
      "execution_count": 16,
      "outputs": [
        {
          "output_type": "stream",
          "name": "stdout",
          "text": [
            "7\n",
            "6\n",
            "7\n",
            "1\n",
            "10\n",
            "1\n",
            "1\n",
            "14\n",
            "0\n",
            "0\n"
          ]
        }
      ]
    },
    {
      "cell_type": "markdown",
      "metadata": {
        "id": "l1D5948qyNi8"
      },
      "source": [
        "### Moving the cursor\n",
        "\n",
        "- seek(n) : takes the file handle to the nth byte from the beginning."
      ]
    },
    {
      "cell_type": "code",
      "execution_count": 17,
      "metadata": {
        "colab": {
          "base_uri": "https://localhost:8080/"
        },
        "id": "WZ2ORuxjyNi9",
        "outputId": "8e9f030d-36ab-49a6-c3bb-f9fc31a602fa"
      },
      "outputs": [
        {
          "output_type": "stream",
          "name": "stdout",
          "text": [
            "aler\n",
            "\n"
          ]
        }
      ],
      "source": [
        "file = open(\"sample.txt\", \"r\")\n",
        "\n",
        "file.seek(2)\n",
        "print(file.readline())\n",
        "\n",
        "file.close()"
      ]
    },
    {
      "cell_type": "code",
      "source": [
        "file = open(\"sample.txt\", \"a\")\n",
        "\n",
        "file.seek(2)\n",
        "file.write(\"abc\")\n",
        "\n",
        "file.close()"
      ],
      "metadata": {
        "id": "ImLDEVuJAAUP"
      },
      "execution_count": 19,
      "outputs": []
    },
    {
      "cell_type": "code",
      "source": [
        "file = open(\"sample.txt\", \"w\")\n",
        "\n",
        "file.write(\"Hello World\")\n",
        "file.seek(2)\n",
        "file.write(\"abc\")\n",
        "\n",
        "file.close()"
      ],
      "metadata": {
        "id": "F1ot36-YAbGt"
      },
      "execution_count": 20,
      "outputs": []
    },
    {
      "cell_type": "markdown",
      "metadata": {
        "id": "pupCfu_GyNi9"
      },
      "source": [
        "### Smarter way of opening files...\n",
        "\n",
        "With the \"with\" statement, you get better syntax and exceptions handling. \n",
        "\n",
        "\"The with statement simplifies exception handling by encapsulating common\n",
        "preparation and cleanup tasks.\"\n",
        "\n",
        "In addition, it will automatically close the file. The with statement provides\n",
        "a way for ensuring that a clean-up is always used.\n"
      ]
    },
    {
      "cell_type": "code",
      "execution_count": 23,
      "metadata": {
        "colab": {
          "base_uri": "https://localhost:8080/"
        },
        "id": "a8DMq8oIyNi9",
        "outputId": "4137a473-1537-4c2c-9753-bea363ff5b06"
      },
      "outputs": [
        {
          "output_type": "stream",
          "name": "stdout",
          "text": [
            "Heabc World\n"
          ]
        }
      ],
      "source": [
        "with open(\"sample.txt\", \"r\") as file:\n",
        "  print(file.read())"
      ]
    },
    {
      "cell_type": "markdown",
      "metadata": {
        "id": "H4J9jXoMyNi-"
      },
      "source": [
        "## 2. JSON files\n",
        "\n",
        ">Javascript Object Notation abbreviated as JSON is a light-weight data interchange format. It Encode Python objects as JSON strings, and decode JSON strings into Python objects \n"
      ]
    },
    {
      "cell_type": "code",
      "source": [
        "import json\n",
        "a = {\n",
        "    \"name\": \"Jatin\"\n",
        "}\n",
        "data = json.dumps(a)\n",
        "print(data)\n",
        "print(type(data))"
      ],
      "metadata": {
        "colab": {
          "base_uri": "https://localhost:8080/"
        },
        "id": "sPbmxpvODel8",
        "outputId": "0519aa7e-d8db-40db-c335-f3406e29c897"
      },
      "execution_count": 28,
      "outputs": [
        {
          "output_type": "stream",
          "name": "stdout",
          "text": [
            "{\"name\": \"Jatin\"}\n",
            "<class 'str'>\n"
          ]
        }
      ]
    },
    {
      "cell_type": "code",
      "source": [
        "with open(\"sample.json\", \"r\") as file:\n",
        "  data = json.loads(file.read())\n",
        "\n",
        "print(data)"
      ],
      "metadata": {
        "colab": {
          "base_uri": "https://localhost:8080/"
        },
        "id": "VyGbTjOuENwz",
        "outputId": "91286682-e60e-4b7d-b588-e2f4942db19e"
      },
      "execution_count": 33,
      "outputs": [
        {
          "output_type": "stream",
          "name": "stdout",
          "text": [
            "[{'a': 10, 'b': 20, 'c': 'something'}, {'a': 10, 'b': 20, 'c': 'something'}]\n"
          ]
        }
      ]
    },
    {
      "cell_type": "markdown",
      "metadata": {
        "id": "raPH7eQTyNi-"
      },
      "source": [
        "- **json.dump(obj, fileObj) :** Serializes obj as a JSON formatted stream to fileObj.\n",
        "- **json.dumps(obj) :** Serializes obj as JSON formatted string.\n",
        "- **json.load(JSONfile) :** De-serializes JSONfile to a Python object.\n",
        "- **json.loads(JSONfile) :** De-serializes JSONfile(type: string) to a Python object."
      ]
    },
    {
      "cell_type": "code",
      "source": [
        "import requests"
      ],
      "metadata": {
        "id": "D2LCNCbIEqCA"
      },
      "execution_count": 34,
      "outputs": []
    },
    {
      "cell_type": "code",
      "source": [
        "url = \"http://graph.facebook.com/4/picture?type=large\"\n",
        "r = requests.get(url)\n",
        "with open(\"sample.png\", \"wb\") as file:\n",
        "  file.write(r.content)"
      ],
      "metadata": {
        "id": "JbETcObvGR4I"
      },
      "execution_count": 36,
      "outputs": []
    },
    {
      "cell_type": "code",
      "source": [
        "with open(\"sample.txt\", \"r+\") as file:\n",
        "  file.seek(5)\n",
        "  file.write(\"xyz\")"
      ],
      "metadata": {
        "id": "Di1FXwo5GYFJ"
      },
      "execution_count": 37,
      "outputs": []
    },
    {
      "cell_type": "code",
      "source": [],
      "metadata": {
        "id": "kev1OS6fIjto"
      },
      "execution_count": null,
      "outputs": []
    }
  ],
  "metadata": {
    "kernelspec": {
      "display_name": "Python 3",
      "language": "python",
      "name": "python3"
    },
    "language_info": {
      "codemirror_mode": {
        "name": "ipython",
        "version": 3
      },
      "file_extension": ".py",
      "mimetype": "text/x-python",
      "name": "python",
      "nbconvert_exporter": "python",
      "pygments_lexer": "ipython3",
      "version": "3.6.3"
    },
    "colab": {
      "provenance": [],
      "collapsed_sections": [],
      "include_colab_link": true
    }
  },
  "nbformat": 4,
  "nbformat_minor": 0
}