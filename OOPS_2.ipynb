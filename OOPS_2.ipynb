{
  "nbformat": 4,
  "nbformat_minor": 0,
  "metadata": {
    "colab": {
      "provenance": [],
      "authorship_tag": "ABX9TyMxIpuFxhfEoeLxfVlbnc+G",
      "include_colab_link": true
    },
    "kernelspec": {
      "name": "python3",
      "display_name": "Python 3"
    },
    "language_info": {
      "name": "python"
    }
  },
  "cells": [
    {
      "cell_type": "markdown",
      "metadata": {
        "id": "view-in-github",
        "colab_type": "text"
      },
      "source": [
        "<a href=\"https://colab.research.google.com/github/scaleracademy/dsml-intermediate-aug-22/blob/main/OOPS_2.ipynb\" target=\"_parent\"><img src=\"https://colab.research.google.com/assets/colab-badge.svg\" alt=\"Open In Colab\"/></a>"
      ]
    },
    {
      "cell_type": "code",
      "source": [
        "class Student:\n",
        "  pass\n",
        "  \n",
        "s = Student()\n",
        "s.name = \"Jatin\"\n",
        "print(s.__dict__)\n",
        "s.__dict__[\"name\"] = \"Scaler\"\n",
        "print(s.name)"
      ],
      "metadata": {
        "colab": {
          "base_uri": "https://localhost:8080/"
        },
        "id": "ZnhgdJJP_80E",
        "outputId": "f2636fab-8e17-4d3c-c693-118cb891f1a0"
      },
      "execution_count": 3,
      "outputs": [
        {
          "output_type": "stream",
          "name": "stdout",
          "text": [
            "{'name': 'Jatin'}\n",
            "Scaler\n"
          ]
        }
      ]
    },
    {
      "cell_type": "code",
      "execution_count": 9,
      "metadata": {
        "colab": {
          "base_uri": "https://localhost:8080/"
        },
        "id": "TYuSWvNO7zQ4",
        "outputId": "0dc5dc38-2c16-4d41-d1d0-400a1c4e5ae4"
      },
      "outputs": [
        {
          "output_type": "stream",
          "name": "stdout",
          "text": [
            "13\n"
          ]
        }
      ],
      "source": [
        "class Fruits:\n",
        "  hindi_translation = \"Sabar ka Phal\"\n",
        "\n",
        "  def __init__(self, price):\n",
        "    self.price = price \n",
        "    \n",
        "obj = Fruits(50)\n",
        "obj.quantity=10\n",
        "obj.bags=2 \n",
        "print(obj.quantity + len(obj.__dict__))"
      ]
    },
    {
      "cell_type": "code",
      "source": [
        "print(Fruits.hindi_translation)"
      ],
      "metadata": {
        "colab": {
          "base_uri": "https://localhost:8080/"
        },
        "id": "fMA5RG09BuB8",
        "outputId": "b78f5a13-891a-4436-c13f-a9bc796152df"
      },
      "execution_count": 10,
      "outputs": [
        {
          "output_type": "stream",
          "name": "stdout",
          "text": [
            "Sabar ka Phal\n"
          ]
        }
      ]
    },
    {
      "cell_type": "code",
      "source": [
        "class Student:\n",
        "  def __init__(self, name):\n",
        "    self.name = name\n",
        "\n",
        "  # this is not a method\n",
        "  def get_duties():\n",
        "    print(\"To study hard\")\n",
        "\n",
        "  # this is a method\n",
        "  def greet(self):\n",
        "    print(f\"Hello my name is {self.name}\")"
      ],
      "metadata": {
        "id": "YFna7KBVB9W9"
      },
      "execution_count": 17,
      "outputs": []
    },
    {
      "cell_type": "code",
      "source": [
        "s = Student(\"Jatin\")"
      ],
      "metadata": {
        "id": "KEAqAcU9Dsn8"
      },
      "execution_count": 18,
      "outputs": []
    },
    {
      "cell_type": "code",
      "source": [
        "s.greet()"
      ],
      "metadata": {
        "colab": {
          "base_uri": "https://localhost:8080/"
        },
        "id": "ZVP9t8y7D4gy",
        "outputId": "c0c1e671-435a-4cbb-9390-8e4891c7a08e"
      },
      "execution_count": 19,
      "outputs": [
        {
          "output_type": "stream",
          "name": "stdout",
          "text": [
            "Hello my name is Jatin\n"
          ]
        }
      ]
    },
    {
      "cell_type": "code",
      "source": [
        "s.get_duties()"
      ],
      "metadata": {
        "colab": {
          "base_uri": "https://localhost:8080/",
          "height": 169
        },
        "id": "01vV5ItsD-Mh",
        "outputId": "1228b72d-9e9c-4ecb-ab0b-2813ac34ac73"
      },
      "execution_count": 15,
      "outputs": [
        {
          "output_type": "error",
          "ename": "TypeError",
          "evalue": "ignored",
          "traceback": [
            "\u001b[0;31m---------------------------------------------------------------------------\u001b[0m",
            "\u001b[0;31mTypeError\u001b[0m                                 Traceback (most recent call last)",
            "\u001b[0;32m<ipython-input-15-be5559319f09>\u001b[0m in \u001b[0;36m<module>\u001b[0;34m\u001b[0m\n\u001b[0;32m----> 1\u001b[0;31m \u001b[0ms\u001b[0m\u001b[0;34m.\u001b[0m\u001b[0mget_duties\u001b[0m\u001b[0;34m(\u001b[0m\u001b[0;34m)\u001b[0m\u001b[0;34m\u001b[0m\u001b[0;34m\u001b[0m\u001b[0m\n\u001b[0m",
            "\u001b[0;31mTypeError\u001b[0m: get_duties() takes 0 positional arguments but 1 was given"
          ]
        }
      ]
    },
    {
      "cell_type": "code",
      "source": [
        "Student.get_duties()"
      ],
      "metadata": {
        "colab": {
          "base_uri": "https://localhost:8080/"
        },
        "id": "iJU-CvaCERRU",
        "outputId": "e00c7144-1417-4948-c122-319c4cd85062"
      },
      "execution_count": 16,
      "outputs": [
        {
          "output_type": "stream",
          "name": "stdout",
          "text": [
            "To study hard\n"
          ]
        }
      ]
    },
    {
      "cell_type": "code",
      "source": [
        "Student *s = new Student();"
      ],
      "metadata": {
        "colab": {
          "base_uri": "https://localhost:8080/"
        },
        "id": "dYKxrVc8Ezl6",
        "outputId": "a548f553-5f25-4632-cc8b-3c81ac09ceea"
      },
      "execution_count": 20,
      "outputs": [
        {
          "output_type": "execute_result",
          "data": {
            "text/plain": [
              "__main__.Student"
            ]
          },
          "metadata": {},
          "execution_count": 20
        }
      ]
    },
    {
      "cell_type": "code",
      "source": [
        "class Student:\n",
        "  def __init__(self,roll,marks):\n",
        "    self.roll = roll\n",
        "    self.marks=marks\n",
        "\n",
        "  def display(self):\n",
        "    print('Roll:', self.roll,'Marks:',self.marks, end=\" \") \n",
        "  \n",
        "student1= Student(34,'A')\n",
        "student1.age=17\n",
        "student1.display()\n",
        "print('Age:', student1.age)"
      ],
      "metadata": {
        "colab": {
          "base_uri": "https://localhost:8080/"
        },
        "id": "xGyz08wmF2dr",
        "outputId": "567e2152-35af-4ab6-b873-7ce677f9c16c"
      },
      "execution_count": 24,
      "outputs": [
        {
          "output_type": "stream",
          "name": "stdout",
          "text": [
            "Roll: 34 Marks: A Age: 17\n"
          ]
        }
      ]
    },
    {
      "cell_type": "code",
      "source": [
        "def foo():\n",
        "  pass\n",
        "\n",
        "a = foo()"
      ],
      "metadata": {
        "id": "mwhICfT3G34C"
      },
      "execution_count": 22,
      "outputs": []
    },
    {
      "cell_type": "code",
      "source": [
        "print(a)"
      ],
      "metadata": {
        "colab": {
          "base_uri": "https://localhost:8080/"
        },
        "id": "nmi9_hatHFyZ",
        "outputId": "1875ba4f-25d1-48ac-f984-80d37b9ef0d5"
      },
      "execution_count": 23,
      "outputs": [
        {
          "output_type": "stream",
          "name": "stdout",
          "text": [
            "None\n"
          ]
        }
      ]
    },
    {
      "cell_type": "code",
      "source": [
        "a = []\n",
        "b = a\n",
        "print(b is a)"
      ],
      "metadata": {
        "colab": {
          "base_uri": "https://localhost:8080/"
        },
        "id": "fE8hmHEKHGYX",
        "outputId": "88dca740-8201-4568-b086-1c83d971c73a"
      },
      "execution_count": 25,
      "outputs": [
        {
          "output_type": "stream",
          "name": "stdout",
          "text": [
            "True\n"
          ]
        }
      ]
    },
    {
      "cell_type": "code",
      "source": [
        "class Foo:\n",
        "  bar = []\n",
        "  baz = \"scaler\"\n",
        "\n",
        "o1 = Foo()\n",
        "o1.baz = \"DSML\"\n",
        "o1.bar.append(1)\n",
        "o2 = Foo()\n",
        "\n",
        "print(o1.bar is o2.bar)\n",
        "print(o1.baz is o2.baz)"
      ],
      "metadata": {
        "colab": {
          "base_uri": "https://localhost:8080/"
        },
        "id": "dVq1XdkcHjuT",
        "outputId": "ce51cb4c-371b-48e2-b011-14952331c90e"
      },
      "execution_count": 28,
      "outputs": [
        {
          "output_type": "stream",
          "name": "stdout",
          "text": [
            "True\n",
            "False\n"
          ]
        }
      ]
    },
    {
      "cell_type": "code",
      "source": [
        "class Foo:\n",
        "  bar = []\n",
        "  baz = \"scaler\"\n",
        "\n",
        "o1 = Foo()\n",
        "o1.baz = \"DSML\"\n",
        "o1.bar = [1]\n",
        "o2 = Foo()\n",
        "\n",
        "print(o1.bar is o2.bar)\n",
        "print(o1.baz is o2.baz)"
      ],
      "metadata": {
        "colab": {
          "base_uri": "https://localhost:8080/"
        },
        "id": "QQ-h8LvDHyKB",
        "outputId": "18735c90-5d33-4925-b98f-6693491faf71"
      },
      "execution_count": 29,
      "outputs": [
        {
          "output_type": "stream",
          "name": "stdout",
          "text": [
            "False\n",
            "False\n"
          ]
        }
      ]
    },
    {
      "cell_type": "code",
      "source": [
        "class Counter:\n",
        "  def __init__(self):\n",
        "    self.count = 0\n",
        "\n",
        "  def inc(self):\n",
        "    self.count += 1"
      ],
      "metadata": {
        "id": "LfaD_jYSI_TT"
      },
      "execution_count": 40,
      "outputs": []
    },
    {
      "cell_type": "code",
      "source": [
        "c1 = Counter()"
      ],
      "metadata": {
        "id": "qGHXTvtdJP8M"
      },
      "execution_count": 33,
      "outputs": []
    },
    {
      "cell_type": "code",
      "source": [
        "c2 = c1"
      ],
      "metadata": {
        "id": "3c9r4zsaJXPk"
      },
      "execution_count": 34,
      "outputs": []
    },
    {
      "cell_type": "code",
      "source": [
        "print(c1 is c2)"
      ],
      "metadata": {
        "colab": {
          "base_uri": "https://localhost:8080/"
        },
        "id": "TrAXVXk-JYXQ",
        "outputId": "99aaee89-f441-4e94-da2c-3875b3ad3168"
      },
      "execution_count": 35,
      "outputs": [
        {
          "output_type": "stream",
          "name": "stdout",
          "text": [
            "True\n"
          ]
        }
      ]
    },
    {
      "cell_type": "code",
      "source": [
        "c1.inc()\n",
        "print(c2.count)"
      ],
      "metadata": {
        "colab": {
          "base_uri": "https://localhost:8080/"
        },
        "id": "y0j_3xDVJbAx",
        "outputId": "c3b4039e-e6f3-4029-efff-f3211859407d"
      },
      "execution_count": 36,
      "outputs": [
        {
          "output_type": "stream",
          "name": "stdout",
          "text": [
            "1\n"
          ]
        }
      ]
    },
    {
      "cell_type": "code",
      "source": [
        "c2 = Counter()\n",
        "c2.inc()\n",
        "c2.inc()\n",
        "c2.inc()\n",
        "\n",
        "print(c1.count)"
      ],
      "metadata": {
        "colab": {
          "base_uri": "https://localhost:8080/"
        },
        "id": "19ggInVrJkhx",
        "outputId": "ca745e2b-d834-4e11-bc01-9adbe6a8851f"
      },
      "execution_count": 37,
      "outputs": [
        {
          "output_type": "stream",
          "name": "stdout",
          "text": [
            "1\n"
          ]
        }
      ]
    },
    {
      "cell_type": "code",
      "source": [
        "print(c2.count)"
      ],
      "metadata": {
        "colab": {
          "base_uri": "https://localhost:8080/"
        },
        "id": "2-qFZFCgJ7hB",
        "outputId": "2fb5d0b3-ac11-491e-9117-04fc05ba803f"
      },
      "execution_count": 38,
      "outputs": [
        {
          "output_type": "stream",
          "name": "stdout",
          "text": [
            "3\n"
          ]
        }
      ]
    },
    {
      "cell_type": "markdown",
      "source": [
        "What's the Object Oriented way of getting rich?\n",
        "\n",
        "**Inheritence**"
      ],
      "metadata": {
        "id": "g0rZZVvaMgU8"
      }
    },
    {
      "cell_type": "code",
      "source": [
        "class SchoolMember:\n",
        "  def __init__(self, name):\n",
        "    self.name = name\n",
        "\n",
        "  def introduce(self):\n",
        "    print(f\"Hello my name is {self.name}\")  \n",
        "\n",
        "class Teacher(SchoolMember):\n",
        "  def __init__(self, name, salary):\n",
        "    self.name = name\n",
        "    self.salary = salary\n",
        "\n",
        "class Student(SchoolMember):\n",
        "  def __init__(self, name, grade):\n",
        "    self.name = name\n",
        "    self.grade = grade"
      ],
      "metadata": {
        "id": "h8nAi3qZKYYf"
      },
      "execution_count": 41,
      "outputs": []
    },
    {
      "cell_type": "code",
      "source": [
        "class Foo:\n",
        "  def __init__(self):\n",
        "    print(\"init in foo\")\n",
        "\n",
        "class Bar(Foo):\n",
        "  # Overriding __init__ from Foo.\n",
        "  def __init__(self):\n",
        "    print(\"init in bar\")"
      ],
      "metadata": {
        "id": "YMVawnuxNmob"
      },
      "execution_count": 50,
      "outputs": []
    },
    {
      "cell_type": "code",
      "source": [
        "b = Bar()"
      ],
      "metadata": {
        "colab": {
          "base_uri": "https://localhost:8080/"
        },
        "id": "F9ERY5-yNz5Z",
        "outputId": "69014b03-f715-45bd-e9b8-6c3e1e06b0b9"
      },
      "execution_count": 51,
      "outputs": [
        {
          "output_type": "stream",
          "name": "stdout",
          "text": [
            "init in foo\n",
            "init in bar\n"
          ]
        }
      ]
    },
    {
      "cell_type": "code",
      "source": [
        "class Foo:\n",
        "  def bar(self):\n",
        "    print(\"with no argument\")\n",
        "\n",
        "  def bar(self, n):\n",
        "    print(f\"with 1 argument: {n}\")"
      ],
      "metadata": {
        "id": "Aowx1TD0N5Xg"
      },
      "execution_count": 46,
      "outputs": []
    },
    {
      "cell_type": "code",
      "source": [
        "f1 = Foo()\n",
        "f1.bar(1)"
      ],
      "metadata": {
        "colab": {
          "base_uri": "https://localhost:8080/"
        },
        "id": "lFs5Y_znPPmH",
        "outputId": "38c34d0d-2389-40c2-d740-ec638fbd6620"
      },
      "execution_count": 49,
      "outputs": [
        {
          "output_type": "stream",
          "name": "stdout",
          "text": [
            "with 1 argument: 1\n"
          ]
        }
      ]
    },
    {
      "cell_type": "code",
      "source": [
        "class Foo:\n",
        "  def __init__(self):\n",
        "    print(\"init in foo\")\n",
        "  \n",
        "  def baz(self):\n",
        "    print(\"pazzaz\")\n",
        "\n",
        "class Bar(Foo):\n",
        "  # Overriding __init__ from Foo.\n",
        "  def __init__(self):\n",
        "    super().__init__()\n",
        "    print(\"init in bar\")"
      ],
      "metadata": {
        "id": "qZKbvbmnPZbu"
      },
      "execution_count": 62,
      "outputs": []
    },
    {
      "cell_type": "code",
      "source": [
        "b1 = Bar()"
      ],
      "metadata": {
        "colab": {
          "base_uri": "https://localhost:8080/"
        },
        "id": "ecDrbJ4dPivV",
        "outputId": "d3503e74-e31e-453b-babf-cbe63791f08b"
      },
      "execution_count": 63,
      "outputs": [
        {
          "output_type": "stream",
          "name": "stdout",
          "text": [
            "init in foo\n",
            "init in bar\n"
          ]
        }
      ]
    },
    {
      "cell_type": "code",
      "source": [
        "b1.baz()"
      ],
      "metadata": {
        "colab": {
          "base_uri": "https://localhost:8080/"
        },
        "id": "FCvHDZ_HRivU",
        "outputId": "1d6cb8e1-ad1c-409e-8967-fdff0c901ca0"
      },
      "execution_count": 64,
      "outputs": [
        {
          "output_type": "stream",
          "name": "stdout",
          "text": [
            "pazzaz\n"
          ]
        }
      ]
    },
    {
      "cell_type": "code",
      "source": [
        "isinstance(b1, Foo)"
      ],
      "metadata": {
        "colab": {
          "base_uri": "https://localhost:8080/"
        },
        "id": "6UhuQ6NuQjKM",
        "outputId": "95355665-2909-4bdb-9ea6-bf72bddcee31"
      },
      "execution_count": 54,
      "outputs": [
        {
          "output_type": "execute_result",
          "data": {
            "text/plain": [
              "True"
            ]
          },
          "metadata": {},
          "execution_count": 54
        }
      ]
    },
    {
      "cell_type": "code",
      "source": [
        "class A:\n",
        "  pass\n",
        "class B(A):\n",
        "  x = 5\n",
        "class C(B):\n",
        "  pass\n",
        "class D(A):\n",
        "  x = 10\n",
        "class E(C, D):\n",
        "  pass"
      ],
      "metadata": {
        "id": "H1VMdE9xQpRc"
      },
      "execution_count": 71,
      "outputs": []
    },
    {
      "cell_type": "code",
      "source": [
        "e = E()\n",
        "print(e.x)"
      ],
      "metadata": {
        "colab": {
          "base_uri": "https://localhost:8080/"
        },
        "id": "dbtvvHkVSaC5",
        "outputId": "dbbfe205-f686-4338-cb4c-f1248bab6d2f"
      },
      "execution_count": 72,
      "outputs": [
        {
          "output_type": "stream",
          "name": "stdout",
          "text": [
            "5\n"
          ]
        }
      ]
    },
    {
      "cell_type": "code",
      "source": [
        "E.mro()"
      ],
      "metadata": {
        "colab": {
          "base_uri": "https://localhost:8080/"
        },
        "id": "XIKTWylQScNx",
        "outputId": "95e827da-efc5-476e-ecbf-b750bc5bd720"
      },
      "execution_count": 73,
      "outputs": [
        {
          "output_type": "execute_result",
          "data": {
            "text/plain": [
              "[__main__.E, __main__.C, __main__.B, __main__.D, __main__.A, object]"
            ]
          },
          "metadata": {},
          "execution_count": 73
        }
      ]
    },
    {
      "cell_type": "code",
      "source": [],
      "metadata": {
        "id": "qdJfzZzPSuJS"
      },
      "execution_count": null,
      "outputs": []
    },
    {
      "cell_type": "markdown",
      "source": [
        "### Custom Iterator"
      ],
      "metadata": {
        "id": "JAaRis9XUulG"
      }
    },
    {
      "cell_type": "code",
      "source": [
        "a = [1, 2, 3]\n",
        "iter(a)"
      ],
      "metadata": {
        "colab": {
          "base_uri": "https://localhost:8080/"
        },
        "id": "5PoSoT-jVNga",
        "outputId": "fb7f0758-ccc3-4113-da71-f3752b6ace33"
      },
      "execution_count": 77,
      "outputs": [
        {
          "output_type": "execute_result",
          "data": {
            "text/plain": [
              "<list_iterator at 0x7fa0dc6c0c50>"
            ]
          },
          "metadata": {},
          "execution_count": 77
        }
      ]
    },
    {
      "cell_type": "code",
      "source": [
        "# This is Iterable\n",
        "class XRange:\n",
        "  def __init__(self, n):\n",
        "    self.n = n\n",
        "\n",
        "  def __iter__(self):\n",
        "    return XRangeIterator(self)\n",
        "\n",
        "# This is XRange iterable's iterator\n",
        "class XRangeIterator:\n",
        "  def __init__(self, range):\n",
        "    self.range = range\n",
        "    self.i = 0\n",
        "\n",
        "  # Every iterator is an iterable itself\n",
        "  def __iter__(self):\n",
        "    return self\n",
        "    \n",
        "  def __next__(self):\n",
        "    if self.i >= self.range.n:\n",
        "      raise StopIteration\n",
        "\n",
        "    res = self.i\n",
        "    self.i += 1\n",
        "    return res"
      ],
      "metadata": {
        "id": "i3YBRlKCUwCI"
      },
      "execution_count": 78,
      "outputs": []
    },
    {
      "cell_type": "code",
      "source": [
        "r = XRange(10)"
      ],
      "metadata": {
        "id": "poI7QdxMXQmU"
      },
      "execution_count": 80,
      "outputs": []
    },
    {
      "cell_type": "code",
      "source": [
        "r_iterator = XRangeIterator(r)"
      ],
      "metadata": {
        "id": "ZnNerslFXTlx"
      },
      "execution_count": 81,
      "outputs": []
    },
    {
      "cell_type": "code",
      "source": [
        "r_iterator"
      ],
      "metadata": {
        "colab": {
          "base_uri": "https://localhost:8080/"
        },
        "id": "JEbpI45yXTdW",
        "outputId": "73988a9e-cae0-48d7-9705-543096b7445e"
      },
      "execution_count": 82,
      "outputs": [
        {
          "output_type": "execute_result",
          "data": {
            "text/plain": [
              "<__main__.XRangeIterator at 0x7fa0dc6ffe50>"
            ]
          },
          "metadata": {},
          "execution_count": 82
        }
      ]
    },
    {
      "cell_type": "code",
      "source": [
        "for i in XRange(10):\n",
        "  print(i)"
      ],
      "metadata": {
        "colab": {
          "base_uri": "https://localhost:8080/"
        },
        "id": "IgSsDeH4WmB1",
        "outputId": "6f9ed81b-0715-4229-fe4c-aa334d223ae7"
      },
      "execution_count": 79,
      "outputs": [
        {
          "output_type": "stream",
          "name": "stdout",
          "text": [
            "0\n",
            "1\n",
            "2\n",
            "3\n",
            "4\n",
            "5\n",
            "6\n",
            "7\n",
            "8\n",
            "9\n"
          ]
        }
      ]
    },
    {
      "cell_type": "code",
      "source": [
        "30 * 100 "
      ],
      "metadata": {
        "colab": {
          "base_uri": "https://localhost:8080/"
        },
        "id": "U4dP341IWoWX",
        "outputId": "55d41268-bdf8-4d54-973f-46c5e80a9d90"
      },
      "execution_count": 83,
      "outputs": [
        {
          "output_type": "execute_result",
          "data": {
            "text/plain": [
              "3000"
            ]
          },
          "metadata": {},
          "execution_count": 83
        }
      ]
    },
    {
      "cell_type": "code",
      "source": [
        "(3000//5) * 60 * 60 * 24"
      ],
      "metadata": {
        "colab": {
          "base_uri": "https://localhost:8080/"
        },
        "id": "a7M9NeSBYgzI",
        "outputId": "342dd9fa-c7bc-4d4f-f9ce-5295e387c3f1"
      },
      "execution_count": 87,
      "outputs": [
        {
          "output_type": "execute_result",
          "data": {
            "text/plain": [
              "51840000"
            ]
          },
          "metadata": {},
          "execution_count": 87
        }
      ]
    },
    {
      "cell_type": "code",
      "source": [
        "len(\"{lat:28.613939,long:77.209023}\")"
      ],
      "metadata": {
        "colab": {
          "base_uri": "https://localhost:8080/"
        },
        "id": "xispFNKFYluk",
        "outputId": "99dd6115-1f33-4aad-d075-7dd8183bd8c9"
      },
      "execution_count": 88,
      "outputs": [
        {
          "output_type": "execute_result",
          "data": {
            "text/plain": [
              "30"
            ]
          },
          "metadata": {},
          "execution_count": 88
        }
      ]
    },
    {
      "cell_type": "code",
      "source": [
        "(((51840000 * 30) / 1024)/1024)/1024"
      ],
      "metadata": {
        "colab": {
          "base_uri": "https://localhost:8080/"
        },
        "id": "N90y3Cf1Y950",
        "outputId": "298ae488-2937-4189-bcb6-24d794485e6f"
      },
      "execution_count": 91,
      "outputs": [
        {
          "output_type": "execute_result",
          "data": {
            "text/plain": [
              "1.4483928680419922"
            ]
          },
          "metadata": {},
          "execution_count": 91
        }
      ]
    },
    {
      "cell_type": "code",
      "source": [],
      "metadata": {
        "id": "5ebcke8VZEU3"
      },
      "execution_count": null,
      "outputs": []
    }
  ]
}