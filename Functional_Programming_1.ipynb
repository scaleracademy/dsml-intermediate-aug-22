{
  "nbformat": 4,
  "nbformat_minor": 0,
  "metadata": {
    "colab": {
      "provenance": [],
      "authorship_tag": "ABX9TyNCo/UGz4IR10jlzncCd9YP",
      "include_colab_link": true
    },
    "kernelspec": {
      "name": "python3",
      "display_name": "Python 3"
    },
    "language_info": {
      "name": "python"
    }
  },
  "cells": [
    {
      "cell_type": "markdown",
      "metadata": {
        "id": "view-in-github",
        "colab_type": "text"
      },
      "source": [
        "<a href=\"https://colab.research.google.com/github/scaleracademy/dsml-intermediate-aug-22/blob/main/Functional_Programming_1.ipynb\" target=\"_parent\"><img src=\"https://colab.research.google.com/assets/colab-badge.svg\" alt=\"Open In Colab\"/></a>"
      ]
    },
    {
      "cell_type": "code",
      "execution_count": 1,
      "metadata": {
        "id": "GJ5-_6hz7l6g"
      },
      "outputs": [],
      "source": [
        "# Given a list of students\n",
        "# Return sorted list of students with >90 marks\n",
        "\n",
        "# students -> filtered students by >90 -> sort the given student\n",
        "\n",
        "# sorted(filter(>90, students))"
      ]
    },
    {
      "cell_type": "markdown",
      "source": [
        "### No Side Effect"
      ],
      "metadata": {
        "id": "SYQ1kcrdEs1q"
      }
    },
    {
      "cell_type": "code",
      "source": [
        "name = \"Jatin\"\n",
        "def foo(x):\n",
        "  global name\n",
        "  name = \"scaler\"\n",
        "  return x**2\n"
      ],
      "metadata": {
        "id": "SXST5LVCDlAj"
      },
      "execution_count": 5,
      "outputs": []
    },
    {
      "cell_type": "code",
      "source": [
        "print(name)\n",
        "foo(5)\n",
        "print(name)"
      ],
      "metadata": {
        "colab": {
          "base_uri": "https://localhost:8080/"
        },
        "id": "lab_V2a7E1JB",
        "outputId": "f6acfa07-1978-4495-8165-a4dd26ed5ab5"
      },
      "execution_count": 6,
      "outputs": [
        {
          "output_type": "stream",
          "name": "stdout",
          "text": [
            "Jatin\n",
            "scaler\n"
          ]
        }
      ]
    },
    {
      "cell_type": "code",
      "source": [
        "def foo(x):\n",
        "  return x**2, \"scaler\""
      ],
      "metadata": {
        "id": "X29QIRslE6qE"
      },
      "execution_count": 8,
      "outputs": []
    },
    {
      "cell_type": "code",
      "source": [
        "a, _ = foo(5)"
      ],
      "metadata": {
        "id": "aFc1l9Q9FJLB"
      },
      "execution_count": 11,
      "outputs": []
    },
    {
      "cell_type": "code",
      "source": [
        "a"
      ],
      "metadata": {
        "colab": {
          "base_uri": "https://localhost:8080/"
        },
        "id": "s5_o946KFNKn",
        "outputId": "4eb3a6e1-26f8-4cad-f0d3-25c02add1aed"
      },
      "execution_count": 10,
      "outputs": [
        {
          "output_type": "execute_result",
          "data": {
            "text/plain": [
              "25"
            ]
          },
          "metadata": {},
          "execution_count": 10
        }
      ]
    },
    {
      "cell_type": "markdown",
      "source": [
        "### Referential Transparency\n",
        "Same set of inputs should ALWAYS give the same output"
      ],
      "metadata": {
        "id": "VKuHsRGDFhb2"
      }
    },
    {
      "cell_type": "code",
      "source": [
        "def square(x):\n",
        "  return x ** 2"
      ],
      "metadata": {
        "id": "ARsh00mSFN01"
      },
      "execution_count": 12,
      "outputs": []
    },
    {
      "cell_type": "code",
      "source": [
        "a = square(3) + square(4)\n",
        "print(a)"
      ],
      "metadata": {
        "colab": {
          "base_uri": "https://localhost:8080/"
        },
        "id": "qnqUMJNlFms4",
        "outputId": "1f17448e-fa22-4d73-8ad3-3625b7dbd43b"
      },
      "execution_count": 13,
      "outputs": [
        {
          "output_type": "stream",
          "name": "stdout",
          "text": [
            "25\n"
          ]
        }
      ]
    },
    {
      "cell_type": "code",
      "source": [
        "a = 9 + square(4)\n",
        "print(a)"
      ],
      "metadata": {
        "colab": {
          "base_uri": "https://localhost:8080/"
        },
        "id": "dhMMzRb7GhYd",
        "outputId": "5e8317ed-a0e5-47fb-b513-5cef6e26e4aa"
      },
      "execution_count": 14,
      "outputs": [
        {
          "output_type": "stream",
          "name": "stdout",
          "text": [
            "25\n"
          ]
        }
      ]
    },
    {
      "cell_type": "code",
      "source": [
        "a = 9 + 16\n",
        "print(a)"
      ],
      "metadata": {
        "colab": {
          "base_uri": "https://localhost:8080/"
        },
        "id": "UVnT07uGGmOj",
        "outputId": "075cf2cb-d506-4697-840b-d1db63674353"
      },
      "execution_count": 15,
      "outputs": [
        {
          "metadata": {
            "tags": null
          },
          "name": "stdout",
          "output_type": "stream",
          "text": [
            "25\n"
          ]
        }
      ]
    },
    {
      "cell_type": "code",
      "source": [
        "exp = 2\n",
        "def square(x):\n",
        "  return x ** exp"
      ],
      "metadata": {
        "id": "3XIatesWHNGk"
      },
      "execution_count": 16,
      "outputs": []
    },
    {
      "cell_type": "code",
      "source": [
        "a = square(3) + square(4)\n",
        "print(a)"
      ],
      "metadata": {
        "id": "ml0IH4sGIfth",
        "outputId": "904c3fd0-8e0d-40e3-eb67-2c075d0507c1",
        "colab": {
          "base_uri": "https://localhost:8080/"
        }
      },
      "execution_count": 17,
      "outputs": [
        {
          "output_type": "stream",
          "name": "stdout",
          "text": [
            "25\n"
          ]
        }
      ]
    },
    {
      "cell_type": "code",
      "source": [
        "exp = 2\n",
        "a = square(3) + square(4)\n",
        "print(a)"
      ],
      "metadata": {
        "id": "ML3KIng8Ijio",
        "outputId": "0e499f54-0f9c-49c6-a35e-72446b911fef",
        "colab": {
          "base_uri": "https://localhost:8080/"
        }
      },
      "execution_count": 19,
      "outputs": [
        {
          "output_type": "stream",
          "name": "stdout",
          "text": [
            "25\n"
          ]
        }
      ]
    },
    {
      "cell_type": "code",
      "source": [
        "exp = 1\n",
        "a = 9 + square(4)\n",
        "print(a)"
      ],
      "metadata": {
        "id": "PqV79Ij_Iq7w"
      },
      "execution_count": null,
      "outputs": []
    },
    {
      "cell_type": "code",
      "source": [],
      "metadata": {
        "id": "bccqExQBJUAw"
      },
      "execution_count": null,
      "outputs": []
    },
    {
      "cell_type": "markdown",
      "source": [
        "### Immutability\n",
        "Objects in FP should not be mutated"
      ],
      "metadata": {
        "id": "OsHvlUhgKRxN"
      }
    },
    {
      "cell_type": "code",
      "source": [
        "def sort(arr):\n",
        "  arr.sort()\n",
        "  return arr"
      ],
      "metadata": {
        "id": "tNCFP6UpJUP8"
      },
      "execution_count": 20,
      "outputs": []
    },
    {
      "cell_type": "code",
      "source": [
        "sort([5, 1, 4, 2])"
      ],
      "metadata": {
        "id": "D2ZHQZpCJWTE",
        "outputId": "9d445655-6594-4ffa-ae41-492924ad30cd",
        "colab": {
          "base_uri": "https://localhost:8080/"
        }
      },
      "execution_count": 21,
      "outputs": [
        {
          "output_type": "execute_result",
          "data": {
            "text/plain": [
              "[1, 2, 4, 5]"
            ]
          },
          "metadata": {},
          "execution_count": 21
        }
      ]
    },
    {
      "cell_type": "code",
      "source": [
        "arr = [5, 1, 4, 2]\n",
        "print(sort(arr))\n",
        "print(arr)"
      ],
      "metadata": {
        "id": "jIXEROgiJbbc",
        "outputId": "7f0b903d-d843-4288-bd22-9f44c1e26d81",
        "colab": {
          "base_uri": "https://localhost:8080/"
        }
      },
      "execution_count": 22,
      "outputs": [
        {
          "output_type": "stream",
          "name": "stdout",
          "text": [
            "[1, 2, 4, 5]\n",
            "[1, 2, 4, 5]\n"
          ]
        }
      ]
    },
    {
      "cell_type": "code",
      "source": [
        "def sort(arr):\n",
        "  return sorted(arr)"
      ],
      "metadata": {
        "id": "OUzhDcG2Jr1O"
      },
      "execution_count": 23,
      "outputs": []
    },
    {
      "cell_type": "code",
      "source": [
        "arr = [5, 1, 4, 2]\n",
        "print(sort(arr))\n",
        "print(arr)"
      ],
      "metadata": {
        "id": "HWDrphimJ7UM",
        "outputId": "ac4274a9-fcd2-4448-900b-a2d765b1981b",
        "colab": {
          "base_uri": "https://localhost:8080/"
        }
      },
      "execution_count": 24,
      "outputs": [
        {
          "output_type": "stream",
          "name": "stdout",
          "text": [
            "[1, 2, 4, 5]\n",
            "[5, 1, 4, 2]\n"
          ]
        }
      ]
    },
    {
      "cell_type": "code",
      "source": [
        "# not a pure function\n",
        "def append(arr, el):\n",
        "  arr.append(el)\n",
        "  return arr"
      ],
      "metadata": {
        "id": "H_88pBAYJ8DQ"
      },
      "execution_count": 25,
      "outputs": []
    },
    {
      "cell_type": "code",
      "source": [
        "def append(arr, el):\n",
        "  return arr + [el]"
      ],
      "metadata": {
        "id": "nNP3MZPmKKaF"
      },
      "execution_count": 26,
      "outputs": []
    },
    {
      "cell_type": "code",
      "source": [
        "append([1, 2, 3], 4)"
      ],
      "metadata": {
        "id": "wHXT_pb5KONN",
        "outputId": "33ad2365-d340-47a4-f166-1d272c369fec",
        "colab": {
          "base_uri": "https://localhost:8080/"
        }
      },
      "execution_count": 27,
      "outputs": [
        {
          "output_type": "execute_result",
          "data": {
            "text/plain": [
              "[1, 2, 3, 4]"
            ]
          },
          "metadata": {},
          "execution_count": 27
        }
      ]
    },
    {
      "cell_type": "markdown",
      "source": [
        "### Functions should be First Class Citizens\n",
        "\n",
        "Programming Language (in our case it is Python), the functions should be First Class Citizens"
      ],
      "metadata": {
        "id": "p1no1KL5Kn2W"
      }
    },
    {
      "cell_type": "markdown",
      "source": [
        "### Higher Order Function"
      ],
      "metadata": {
        "id": "CrVIf80WMDEO"
      }
    },
    {
      "cell_type": "code",
      "source": [
        "def foo():\n",
        "  print(\"hello\")"
      ],
      "metadata": {
        "id": "Z8T7JhRqKPXA"
      },
      "execution_count": 28,
      "outputs": []
    },
    {
      "cell_type": "code",
      "source": [
        "foo"
      ],
      "metadata": {
        "id": "fGX79A0-MH_c",
        "outputId": "18cc7294-22f4-42de-9f37-4ece2697b1fe",
        "colab": {
          "base_uri": "https://localhost:8080/"
        }
      },
      "execution_count": 29,
      "outputs": [
        {
          "output_type": "execute_result",
          "data": {
            "text/plain": [
              "<function __main__.foo()>"
            ]
          },
          "metadata": {},
          "execution_count": 29
        }
      ]
    },
    {
      "cell_type": "code",
      "source": [
        "foo()"
      ],
      "metadata": {
        "id": "7qZ_oLjzMUzM",
        "outputId": "1e4518fc-2a19-41a1-d709-e62fbb8b1280",
        "colab": {
          "base_uri": "https://localhost:8080/"
        }
      },
      "execution_count": 30,
      "outputs": [
        {
          "output_type": "stream",
          "name": "stdout",
          "text": [
            "hello\n"
          ]
        }
      ]
    },
    {
      "cell_type": "code",
      "source": [
        "# I'm copying the value of foo in a\n",
        "a = foo"
      ],
      "metadata": {
        "id": "HIwF0jVZMXEm"
      },
      "execution_count": 31,
      "outputs": []
    },
    {
      "cell_type": "code",
      "source": [
        "a = 5"
      ],
      "metadata": {
        "id": "DDPthANxMk-s"
      },
      "execution_count": 32,
      "outputs": []
    },
    {
      "cell_type": "code",
      "source": [
        "def a():\n",
        "  pass"
      ],
      "metadata": {
        "id": "NkVajSBOMlxD"
      },
      "execution_count": 33,
      "outputs": []
    },
    {
      "cell_type": "markdown",
      "source": [
        "#### Lambda Functions(Anonymous Functions)\n",
        "\n",
        "```\n",
        "lambda <arguments>: <expression to return>\n",
        "```"
      ],
      "metadata": {
        "id": "j3nviOxhMzqM"
      }
    },
    {
      "cell_type": "code",
      "source": [
        "def square(x):\n",
        "  return x**2"
      ],
      "metadata": {
        "id": "DCzT49VwMnNW"
      },
      "execution_count": 34,
      "outputs": []
    },
    {
      "cell_type": "code",
      "source": [
        "square = lambda x: x**2"
      ],
      "metadata": {
        "id": "Eq_7fQFhM9Ms"
      },
      "execution_count": 35,
      "outputs": []
    },
    {
      "cell_type": "code",
      "source": [
        "square(5)"
      ],
      "metadata": {
        "id": "t-y-sg6jNHgm",
        "outputId": "f5ec07b5-2d47-4772-b8c9-443ca7eef76f",
        "colab": {
          "base_uri": "https://localhost:8080/"
        }
      },
      "execution_count": 36,
      "outputs": [
        {
          "output_type": "execute_result",
          "data": {
            "text/plain": [
              "25"
            ]
          },
          "metadata": {},
          "execution_count": 36
        }
      ]
    },
    {
      "cell_type": "code",
      "source": [
        "(lambda x: x**2)(5)"
      ],
      "metadata": {
        "id": "04rMvNCsNIK4",
        "outputId": "0d006076-19e9-4c5b-f157-9cc6260ef5b8",
        "colab": {
          "base_uri": "https://localhost:8080/"
        }
      },
      "execution_count": 37,
      "outputs": [
        {
          "output_type": "execute_result",
          "data": {
            "text/plain": [
              "25"
            ]
          },
          "metadata": {},
          "execution_count": 37
        }
      ]
    },
    {
      "cell_type": "code",
      "source": [
        "s = lambda x: x**2\n",
        "s(5)"
      ],
      "metadata": {
        "id": "KAH5bJl7NhtW",
        "outputId": "9421eb77-3794-4df6-c531-a3e22f0dd5a4",
        "colab": {
          "base_uri": "https://localhost:8080/"
        }
      },
      "execution_count": 38,
      "outputs": [
        {
          "output_type": "execute_result",
          "data": {
            "text/plain": [
              "25"
            ]
          },
          "metadata": {},
          "execution_count": 38
        }
      ]
    },
    {
      "cell_type": "code",
      "source": [
        "(lambda x: x**2)(5)"
      ],
      "metadata": {
        "id": "QcFcot42N_dO"
      },
      "execution_count": null,
      "outputs": []
    },
    {
      "cell_type": "code",
      "source": [
        "def exp_gen(exp):\n",
        "  def foo(x):\n",
        "    return x**exp\n",
        "  return foo"
      ],
      "metadata": {
        "id": "AsV3kjW2Ob28"
      },
      "execution_count": 39,
      "outputs": []
    },
    {
      "cell_type": "code",
      "source": [
        "exp_gen(2)(5)"
      ],
      "metadata": {
        "id": "JM6CsJ4qOkHX",
        "outputId": "b649b7d8-360f-4198-b3e1-ea0c02b7dd08",
        "colab": {
          "base_uri": "https://localhost:8080/"
        }
      },
      "execution_count": 42,
      "outputs": [
        {
          "output_type": "execute_result",
          "data": {
            "text/plain": [
              "25"
            ]
          },
          "metadata": {},
          "execution_count": 42
        }
      ]
    },
    {
      "cell_type": "code",
      "source": [
        "square = exp_gen(2)\n",
        "cube = exp_gen(3)"
      ],
      "metadata": {
        "id": "z-J_vlaEPWjJ"
      },
      "execution_count": 46,
      "outputs": []
    },
    {
      "cell_type": "code",
      "source": [
        "square(5)"
      ],
      "metadata": {
        "id": "Qf5LaglLPdkm",
        "outputId": "7cdc8b27-3625-4b89-84ca-428462b327ed",
        "colab": {
          "base_uri": "https://localhost:8080/"
        }
      },
      "execution_count": 44,
      "outputs": [
        {
          "output_type": "execute_result",
          "data": {
            "text/plain": [
              "25"
            ]
          },
          "metadata": {},
          "execution_count": 44
        }
      ]
    },
    {
      "cell_type": "code",
      "source": [
        "cube(5)"
      ],
      "metadata": {
        "id": "Y2mBTTKRPg30",
        "outputId": "4f04b8cf-3303-4027-dd47-a197c3e3139c",
        "colab": {
          "base_uri": "https://localhost:8080/"
        }
      },
      "execution_count": 45,
      "outputs": [
        {
          "output_type": "execute_result",
          "data": {
            "text/plain": [
              "125"
            ]
          },
          "metadata": {},
          "execution_count": 45
        }
      ]
    },
    {
      "cell_type": "code",
      "source": [
        "sorted([5, 1, 2, 3])"
      ],
      "metadata": {
        "id": "QAOzKyxePh3T",
        "outputId": "eaa262ac-37ed-40ae-bbf9-050fcfc47d57",
        "colab": {
          "base_uri": "https://localhost:8080/"
        }
      },
      "execution_count": 47,
      "outputs": [
        {
          "output_type": "execute_result",
          "data": {
            "text/plain": [
              "[1, 2, 3, 5]"
            ]
          },
          "metadata": {},
          "execution_count": 47
        }
      ]
    },
    {
      "cell_type": "code",
      "source": [
        "students = [\n",
        "    { \"name\": \"Yasmin\", \"marks\": 90  },\n",
        "    { \"name\": \"Pranav\", \"marks\": 50 },\n",
        "    { \"name\": \"Jayaram\", \"marks\": 100 },\n",
        "    { \"name\": \"Venkata\", \"marks\": 70 }\n",
        "]"
      ],
      "metadata": {
        "id": "U4uvZ2w4QTeE"
      },
      "execution_count": 48,
      "outputs": []
    },
    {
      "cell_type": "code",
      "source": [
        "sorted(students)"
      ],
      "metadata": {
        "id": "2Z0AKLkmQm-y",
        "outputId": "6ea2dbd0-d5a8-4633-a06a-b4032649a03d",
        "colab": {
          "base_uri": "https://localhost:8080/",
          "height": 167
        }
      },
      "execution_count": 49,
      "outputs": [
        {
          "output_type": "error",
          "ename": "TypeError",
          "evalue": "ignored",
          "traceback": [
            "\u001b[0;31m---------------------------------------------------------------------------\u001b[0m",
            "\u001b[0;31mTypeError\u001b[0m                                 Traceback (most recent call last)",
            "\u001b[0;32m<ipython-input-49-7d3dd5d8afa9>\u001b[0m in \u001b[0;36m<module>\u001b[0;34m\u001b[0m\n\u001b[0;32m----> 1\u001b[0;31m \u001b[0msorted\u001b[0m\u001b[0;34m(\u001b[0m\u001b[0mstudents\u001b[0m\u001b[0;34m)\u001b[0m\u001b[0;34m\u001b[0m\u001b[0;34m\u001b[0m\u001b[0m\n\u001b[0m",
            "\u001b[0;31mTypeError\u001b[0m: '<' not supported between instances of 'dict' and 'dict'"
          ]
        }
      ]
    },
    {
      "cell_type": "code",
      "source": [
        "sorted(students, key = lambda x: x[\"marks\"], reverse = True)"
      ],
      "metadata": {
        "id": "KxzktaIWQxIM",
        "outputId": "708c4907-f903-4872-ea50-133ab943998f",
        "colab": {
          "base_uri": "https://localhost:8080/"
        }
      },
      "execution_count": 51,
      "outputs": [
        {
          "output_type": "execute_result",
          "data": {
            "text/plain": [
              "[{'name': 'Jayaram', 'marks': 100},\n",
              " {'name': 'Yasmin', 'marks': 90},\n",
              " {'name': 'Venkata', 'marks': 70},\n",
              " {'name': 'Pranav', 'marks': 50}]"
            ]
          },
          "metadata": {},
          "execution_count": 51
        }
      ]
    },
    {
      "cell_type": "code",
      "source": [
        "students[0] < students[1]"
      ],
      "metadata": {
        "id": "hwS64wayRIPQ",
        "outputId": "d192277c-e008-4090-90c6-4da9bfe26451",
        "colab": {
          "base_uri": "https://localhost:8080/",
          "height": 167
        }
      },
      "execution_count": 52,
      "outputs": [
        {
          "output_type": "error",
          "ename": "TypeError",
          "evalue": "ignored",
          "traceback": [
            "\u001b[0;31m---------------------------------------------------------------------------\u001b[0m",
            "\u001b[0;31mTypeError\u001b[0m                                 Traceback (most recent call last)",
            "\u001b[0;32m<ipython-input-52-a1ecb58c3c0d>\u001b[0m in \u001b[0;36m<module>\u001b[0;34m\u001b[0m\n\u001b[0;32m----> 1\u001b[0;31m \u001b[0mstudents\u001b[0m\u001b[0;34m[\u001b[0m\u001b[0;36m0\u001b[0m\u001b[0;34m]\u001b[0m \u001b[0;34m<\u001b[0m \u001b[0mstudents\u001b[0m\u001b[0;34m[\u001b[0m\u001b[0;36m1\u001b[0m\u001b[0;34m]\u001b[0m\u001b[0;34m\u001b[0m\u001b[0;34m\u001b[0m\u001b[0m\n\u001b[0m",
            "\u001b[0;31mTypeError\u001b[0m: '<' not supported between instances of 'dict' and 'dict'"
          ]
        }
      ]
    },
    {
      "cell_type": "code",
      "source": [
        "key = lambda x: x[\"marks\"]\n",
        "key(students[0]) < key(students[1])"
      ],
      "metadata": {
        "id": "wRjdGFV0Ra0y",
        "outputId": "b95f2f1b-9795-48db-cfc4-c133eef82631",
        "colab": {
          "base_uri": "https://localhost:8080/"
        }
      },
      "execution_count": 53,
      "outputs": [
        {
          "output_type": "execute_result",
          "data": {
            "text/plain": [
              "False"
            ]
          },
          "metadata": {},
          "execution_count": 53
        }
      ]
    },
    {
      "cell_type": "code",
      "source": [
        "# Homework\n",
        "# Update the merge sort function to support key argument"
      ],
      "metadata": {
        "id": "f-EjfTVZRj0E"
      },
      "execution_count": 54,
      "outputs": []
    },
    {
      "cell_type": "code",
      "source": [],
      "metadata": {
        "id": "PNwKK1fAR1cL"
      },
      "execution_count": null,
      "outputs": []
    },
    {
      "cell_type": "markdown",
      "source": [
        "### Decorators"
      ],
      "metadata": {
        "id": "GyNNEituSYoE"
      }
    },
    {
      "cell_type": "code",
      "source": [
        "def hello():\n",
        "  print(\"Hello World\")"
      ],
      "metadata": {
        "id": "wY0OE4PCSZdq"
      },
      "execution_count": 56,
      "outputs": []
    },
    {
      "cell_type": "code",
      "source": [
        "def pretty(func):\n",
        "  print(\"---------------\")\n",
        "  func()\n",
        "  print(\"---------------\")"
      ],
      "metadata": {
        "id": "n5dJ4_6_SfvG"
      },
      "execution_count": 57,
      "outputs": []
    },
    {
      "cell_type": "code",
      "source": [
        "pretty(hello)"
      ],
      "metadata": {
        "id": "PS2D7ThqS2mD",
        "outputId": "bb3ccac6-d7ea-42de-d3ca-c696668be3d4",
        "colab": {
          "base_uri": "https://localhost:8080/"
        }
      },
      "execution_count": 59,
      "outputs": [
        {
          "output_type": "stream",
          "name": "stdout",
          "text": [
            "---------------\n",
            "Hello World\n",
            "---------------\n"
          ]
        }
      ]
    },
    {
      "cell_type": "code",
      "source": [
        "# 1. Takes function as an argument\n",
        "# 2. Defines a new function\n",
        "# 3. Returns the newly defined function\n",
        "def prettify(func):\n",
        "  def wrapper():\n",
        "    print(\"---------------\")\n",
        "    func()\n",
        "    print(\"---------------\")\n",
        "  \n",
        "  return wrapper"
      ],
      "metadata": {
        "id": "38ChSxzjS4-p"
      },
      "execution_count": 60,
      "outputs": []
    },
    {
      "cell_type": "code",
      "source": [
        "mod = prettify(hello)"
      ],
      "metadata": {
        "id": "LHk07IHATUN2"
      },
      "execution_count": 61,
      "outputs": []
    },
    {
      "cell_type": "code",
      "source": [
        "mod()"
      ],
      "metadata": {
        "id": "B-F63gXzTWBm",
        "outputId": "908c0fb2-c7f5-43de-f448-d2d60dac61c8",
        "colab": {
          "base_uri": "https://localhost:8080/"
        }
      },
      "execution_count": 62,
      "outputs": [
        {
          "output_type": "stream",
          "name": "stdout",
          "text": [
            "---------------\n",
            "Hello World\n",
            "---------------\n"
          ]
        }
      ]
    },
    {
      "cell_type": "code",
      "source": [
        "hello()"
      ],
      "metadata": {
        "id": "r343CpaZThVE",
        "outputId": "be9a86da-e7ea-4348-d212-76406ced2281",
        "colab": {
          "base_uri": "https://localhost:8080/"
        }
      },
      "execution_count": 63,
      "outputs": [
        {
          "output_type": "stream",
          "name": "stdout",
          "text": [
            "Hello World\n"
          ]
        }
      ]
    },
    {
      "cell_type": "code",
      "source": [
        "hello = prettify(hello)"
      ],
      "metadata": {
        "id": "vr4-BWruUiTU"
      },
      "execution_count": null,
      "outputs": []
    },
    {
      "cell_type": "code",
      "source": [
        "def new_hello():\n",
        "  print(\"wow!!\")\n",
        "new_hello = prettify(new_hello)"
      ],
      "metadata": {
        "id": "L9PIruVTUzQT"
      },
      "execution_count": null,
      "outputs": []
    },
    {
      "cell_type": "code",
      "source": [
        "@prettify\n",
        "def new_hello():\n",
        "  print(\"wow!!\")"
      ],
      "metadata": {
        "id": "HfXaIn9lTjzw"
      },
      "execution_count": 64,
      "outputs": []
    },
    {
      "cell_type": "code",
      "source": [
        "new_hello()"
      ],
      "metadata": {
        "id": "P3NZvIflUouQ",
        "outputId": "5f58b9f0-2778-4394-ef2b-4418f37bd16d",
        "colab": {
          "base_uri": "https://localhost:8080/"
        }
      },
      "execution_count": 65,
      "outputs": [
        {
          "output_type": "stream",
          "name": "stdout",
          "text": [
            "---------------\n",
            "wow!!\n",
            "---------------\n"
          ]
        }
      ]
    },
    {
      "cell_type": "code",
      "source": [
        "# Homework\n",
        "# Figure out how this code is working\n",
        "# Do a dry run yourself\n",
        "def prettify(func):\n",
        "  def wrapper(*args, **kwargs):\n",
        "    print(\"---------------\")\n",
        "    func(*args, **kwargs)\n",
        "    print(\"---------------\")\n",
        "  \n",
        "  return wrapper"
      ],
      "metadata": {
        "id": "khdTVnP2UpnG"
      },
      "execution_count": 69,
      "outputs": []
    },
    {
      "cell_type": "code",
      "source": [
        "@prettify\n",
        "def square(x):\n",
        "  print(x**2)"
      ],
      "metadata": {
        "id": "WSMRO4yKVigo"
      },
      "execution_count": 72,
      "outputs": []
    },
    {
      "cell_type": "code",
      "source": [
        "square(5)"
      ],
      "metadata": {
        "id": "Ajtktq9GVvUW",
        "outputId": "2f18acbb-faab-4d5d-efde-2245bcf8d45c",
        "colab": {
          "base_uri": "https://localhost:8080/"
        }
      },
      "execution_count": 71,
      "outputs": [
        {
          "output_type": "stream",
          "name": "stdout",
          "text": [
            "---------------\n",
            "25\n",
            "---------------\n"
          ]
        }
      ]
    },
    {
      "cell_type": "code",
      "source": [
        "@prettify\n",
        "def square(x):\n",
        "  return x**2\n",
        "\n",
        "a = square(5)\n",
        "print(a)\n",
        "\n",
        "# Homework\n",
        "# 1. Predict the output\n",
        "# 2. IF there is an issue, fix the issue"
      ],
      "metadata": {
        "id": "-EAz57ybWS1b"
      },
      "execution_count": null,
      "outputs": []
    },
    {
      "cell_type": "code",
      "source": [],
      "metadata": {
        "id": "jGdxeaJ1WRcQ"
      },
      "execution_count": 73,
      "outputs": []
    }
  ]
}