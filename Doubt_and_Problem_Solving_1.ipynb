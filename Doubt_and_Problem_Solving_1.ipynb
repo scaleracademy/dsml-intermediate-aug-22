{
  "nbformat": 4,
  "nbformat_minor": 0,
  "metadata": {
    "colab": {
      "provenance": [],
      "authorship_tag": "ABX9TyNFh7h20Nco+rDt/61xgIXm",
      "include_colab_link": true
    },
    "kernelspec": {
      "name": "python3",
      "display_name": "Python 3"
    },
    "language_info": {
      "name": "python"
    }
  },
  "cells": [
    {
      "cell_type": "markdown",
      "metadata": {
        "id": "view-in-github",
        "colab_type": "text"
      },
      "source": [
        "<a href=\"https://colab.research.google.com/github/scaleracademy/dsml-intermediate-aug-22/blob/main/Doubt_and_Problem_Solving_1.ipynb\" target=\"_parent\"><img src=\"https://colab.research.google.com/assets/colab-badge.svg\" alt=\"Open In Colab\"/></a>"
      ]
    },
    {
      "cell_type": "code",
      "execution_count": 1,
      "metadata": {
        "id": "yu1NQkGT1v-k"
      },
      "outputs": [],
      "source": [
        "def linear_search(arr, el):\n",
        "  if not arr:\n",
        "    return -1\n",
        "\n",
        "  if arr[0] == el:\n",
        "    return 0\n",
        "  \n",
        "  idx = linear_search(arr[1:], el)\n",
        "  return 1 + idx if idx != -1 else -1"
      ]
    },
    {
      "cell_type": "markdown",
      "source": [
        "Given an unsorted list of n integers, return the sum of the first and last elements after implementing bubble sort on the first k elements to arrange them in increasing order.\n",
        "\n",
        "\n",
        "It keeps failing at this test case\n",
        "[46, 86, 55, 13, 19, 40, 80, 78], 6 Even though my solution sorts this list properly. The ans comes up to be false.\n",
        "Expected: 91; Returned by my function : 99 which is correct according to my and the TA's dry run."
      ],
      "metadata": {
        "id": "zwzFSS2Q6_Lf"
      }
    },
    {
      "cell_type": "code",
      "source": [
        "arr = [5, 1, 2, 4, 3, 9, 7]\n",
        "k = 4"
      ],
      "metadata": {
        "id": "eGtMJAF25kjJ"
      },
      "execution_count": 2,
      "outputs": []
    },
    {
      "cell_type": "code",
      "source": [
        "def solve(arr, k):\n",
        "  left = min(arr[:k])\n",
        "\n",
        "  if k == len(arr):\n",
        "    return left + max(arr)\n",
        "\n",
        "  right = arr[k:]\n",
        "  return left + right[-1]"
      ],
      "metadata": {
        "id": "3woC9roy7uTe"
      },
      "execution_count": 11,
      "outputs": []
    },
    {
      "cell_type": "code",
      "source": [
        "solve([46, 86, 55, 13, 19, 40, 80, 78], 8)"
      ],
      "metadata": {
        "colab": {
          "base_uri": "https://localhost:8080/"
        },
        "id": "ioQtGW9l79D9",
        "outputId": "251bd12f-e5cd-4064-a5ad-a917180a90ba"
      },
      "execution_count": 12,
      "outputs": [
        {
          "output_type": "execute_result",
          "data": {
            "text/plain": [
              "99"
            ]
          },
          "metadata": {},
          "execution_count": 12
        }
      ]
    },
    {
      "cell_type": "markdown",
      "source": [
        "```\n",
        "reverse the number: def rev(n, temp=''):\n",
        "if n==0:\n",
        "print(temp)\n",
        "return temp\n",
        "temp += str(n)[-1] rev(n//10,temp)\n",
        "When I'm printing temp it is printing the correct answer...\n",
        "but when I'm trying to return temp its returning None So if temp is refering an object which is the reverse str in this case,\n",
        "why is it not able to return the same?\n",
        "```"
      ],
      "metadata": {
        "id": "CHjTEmDx9YRs"
      }
    },
    {
      "cell_type": "code",
      "source": [
        "def rev(n, temp=''):\n",
        "  if n==0:\n",
        "    return temp\n",
        "    \n",
        "  temp += str(n)[-1] \n",
        "  return rev(n//10,temp)"
      ],
      "metadata": {
        "id": "3y7Qh6Qr8q_I"
      },
      "execution_count": 21,
      "outputs": []
    },
    {
      "cell_type": "code",
      "source": [
        "a = rev(123456)"
      ],
      "metadata": {
        "id": "w8DicdVX9mAl"
      },
      "execution_count": 22,
      "outputs": []
    },
    {
      "cell_type": "code",
      "source": [
        "print(a)"
      ],
      "metadata": {
        "colab": {
          "base_uri": "https://localhost:8080/"
        },
        "id": "25eODybD9rK3",
        "outputId": "828b096d-6632-4d00-c041-f29b6bfa9c3d"
      },
      "execution_count": 23,
      "outputs": [
        {
          "output_type": "stream",
          "name": "stdout",
          "text": [
            "654321\n"
          ]
        }
      ]
    },
    {
      "cell_type": "markdown",
      "source": [
        "```\n",
        "Q)Write a recursive function that returns the number of occurrences of \"hi\" in the string passed as a parameter to the function. ### my code\n",
        "def countHi(s, count=0):\n",
        "n=len(s)\n",
        "pos=0\n",
        "if pos>=len(s):\n",
        "return 0\n",
        "if s[pos]=='h' and s[pos+1]=='i': count+=1 pos+=1 pos+=1 return count + countHi(s[pos:]) \n",
        "\n",
        "is this a good method to solve this efficiently using recursion.if not could you solve it in a better time complexity.\n",
        "```"
      ],
      "metadata": {
        "id": "7Znqk1lY-EzL"
      }
    },
    {
      "cell_type": "code",
      "source": [
        "def countHi(s, count=0):\n",
        "  n=len(s)\n",
        "  pos=0\n",
        "  if pos>=len(s):\n",
        "    return 0\n",
        "\n",
        "  if s[pos]=='h' and s[pos+1]=='i': \n",
        "    count+=1 \n",
        "    pos+=1 \n",
        "  pos+=1\n",
        "  return count + countHi(s[pos:]) "
      ],
      "metadata": {
        "id": "noGUf3wc9-Oh"
      },
      "execution_count": 27,
      "outputs": []
    },
    {
      "cell_type": "code",
      "source": [
        "if s==\"\": \n",
        "  return count \n",
        "\n",
        "if s[0:2]==\"hi\": \n",
        "  count+=1 \n",
        "  return countHi(s[2:], count) \n",
        "else: \n",
        "  return countHi(s[1:], count)"
      ],
      "metadata": {
        "id": "-Pce8rVJ-4zy"
      },
      "execution_count": null,
      "outputs": []
    },
    {
      "cell_type": "code",
      "source": [
        "countHi(\"hisomethinghihellohello hi\")"
      ],
      "metadata": {
        "colab": {
          "base_uri": "https://localhost:8080/"
        },
        "id": "MvR6F4Py-e_8",
        "outputId": "2cbe23f6-3449-400d-ca02-6d09c1724612"
      },
      "execution_count": 28,
      "outputs": [
        {
          "output_type": "execute_result",
          "data": {
            "text/plain": [
              "4"
            ]
          },
          "metadata": {},
          "execution_count": 28
        }
      ]
    },
    {
      "cell_type": "code",
      "source": [
        "def count_hi(s):\n",
        "  i = 0\n",
        "  count = 0\n",
        "\n",
        "  while i < len(s):\n",
        "    if s[i:i+2] == \"hi\":\n",
        "      count += 1\n",
        "      i += 2\n",
        "    else:\n",
        "      i += 1\n",
        "  return count"
      ],
      "metadata": {
        "id": "qWV2Pz6w-imq"
      },
      "execution_count": 29,
      "outputs": []
    },
    {
      "cell_type": "code",
      "source": [
        "count_hi(\"hisomethinghihellohellohi\")"
      ],
      "metadata": {
        "colab": {
          "base_uri": "https://localhost:8080/"
        },
        "id": "GeVscYJt_ZTq",
        "outputId": "b32fa77c-3457-4a75-e676-20cc72a34909"
      },
      "execution_count": 30,
      "outputs": [
        {
          "output_type": "execute_result",
          "data": {
            "text/plain": [
              "4"
            ]
          },
          "metadata": {},
          "execution_count": 30
        }
      ]
    },
    {
      "cell_type": "code",
      "source": [
        "arr = [1, 2, 3, 4]"
      ],
      "metadata": {
        "id": "bMhNj4vg_bR6"
      },
      "execution_count": 31,
      "outputs": []
    },
    {
      "cell_type": "code",
      "source": [
        "arr.pop()"
      ],
      "metadata": {
        "colab": {
          "base_uri": "https://localhost:8080/"
        },
        "id": "CppnEkuk_7Wv",
        "outputId": "20f27a72-dd8a-4619-f62e-feaaab99d976"
      },
      "execution_count": 32,
      "outputs": [
        {
          "output_type": "execute_result",
          "data": {
            "text/plain": [
              "4"
            ]
          },
          "metadata": {},
          "execution_count": 32
        }
      ]
    },
    {
      "cell_type": "code",
      "source": [
        "arr"
      ],
      "metadata": {
        "colab": {
          "base_uri": "https://localhost:8080/"
        },
        "id": "h6Bb6Pqy_74d",
        "outputId": "d8416f6b-ae3e-4601-acda-0b6f593fd71a"
      },
      "execution_count": 33,
      "outputs": [
        {
          "output_type": "execute_result",
          "data": {
            "text/plain": [
              "[1, 2, 3]"
            ]
          },
          "metadata": {},
          "execution_count": 33
        }
      ]
    },
    {
      "cell_type": "code",
      "source": [
        "arr.append(6)"
      ],
      "metadata": {
        "id": "y-QIHtGW_-X_"
      },
      "execution_count": 34,
      "outputs": []
    },
    {
      "cell_type": "code",
      "source": [
        "arr"
      ],
      "metadata": {
        "colab": {
          "base_uri": "https://localhost:8080/"
        },
        "id": "bqSQY02HAAIf",
        "outputId": "d6e203a7-6ab8-41a4-ae30-13fd40755ca4"
      },
      "execution_count": 35,
      "outputs": [
        {
          "output_type": "execute_result",
          "data": {
            "text/plain": [
              "[1, 2, 3, 6]"
            ]
          },
          "metadata": {},
          "execution_count": 35
        }
      ]
    },
    {
      "cell_type": "markdown",
      "source": [
        "Can we write a recursive function that returns the number of occurrences of a substring in the string passed as a parameter to the function in O(logn) by breaking the string and then checking existence of the passed substring in those main waala substrings ?"
      ],
      "metadata": {
        "id": "xrP0AGuDApTp"
      }
    },
    {
      "cell_type": "code",
      "source": [
        "def harmonic_sum(n,ans=0):\n",
        "  if n==1:\n",
        "    return round(1+ans,3)\n",
        "  else:\n",
        "    ans+=(1/n)\n",
        "  return harmonic_sum(n-1,ans)"
      ],
      "metadata": {
        "id": "iSluRCSfApFI"
      },
      "execution_count": null,
      "outputs": []
    },
    {
      "cell_type": "code",
      "source": [
        "def harmonic_sum(n):\n",
        "  if n == 1: \n",
        "    return 1 \n",
        "\n",
        "  result = (1/n) + harmonic_sum(n - 1) \n",
        "  return round(result, 3)\n",
        "harmonic_sum(999)"
      ],
      "metadata": {
        "colab": {
          "base_uri": "https://localhost:8080/",
          "height": 389
        },
        "id": "qWBoo6l2ABCk",
        "outputId": "c6ae485e-3d81-40d2-b7e9-8739e698a93f"
      },
      "execution_count": 41,
      "outputs": [
        {
          "output_type": "error",
          "ename": "RecursionError",
          "evalue": "ignored",
          "traceback": [
            "\u001b[0;31m---------------------------------------------------------------------------\u001b[0m",
            "\u001b[0;31mRecursionError\u001b[0m                            Traceback (most recent call last)",
            "\u001b[0;32m<ipython-input-41-e9198915bb41>\u001b[0m in \u001b[0;36m<module>\u001b[0;34m\u001b[0m\n\u001b[1;32m      5\u001b[0m   \u001b[0mresult\u001b[0m \u001b[0;34m=\u001b[0m \u001b[0;34m(\u001b[0m\u001b[0;36m1\u001b[0m\u001b[0;34m/\u001b[0m\u001b[0mn\u001b[0m\u001b[0;34m)\u001b[0m \u001b[0;34m+\u001b[0m \u001b[0mharmonic_sum\u001b[0m\u001b[0;34m(\u001b[0m\u001b[0mn\u001b[0m \u001b[0;34m-\u001b[0m \u001b[0;36m1\u001b[0m\u001b[0;34m)\u001b[0m\u001b[0;34m\u001b[0m\u001b[0;34m\u001b[0m\u001b[0m\n\u001b[1;32m      6\u001b[0m   \u001b[0;32mreturn\u001b[0m \u001b[0mround\u001b[0m\u001b[0;34m(\u001b[0m\u001b[0mresult\u001b[0m\u001b[0;34m,\u001b[0m \u001b[0;36m3\u001b[0m\u001b[0;34m)\u001b[0m\u001b[0;34m\u001b[0m\u001b[0;34m\u001b[0m\u001b[0m\n\u001b[0;32m----> 7\u001b[0;31m \u001b[0mharmonic_sum\u001b[0m\u001b[0;34m(\u001b[0m\u001b[0;36m999\u001b[0m\u001b[0;34m)\u001b[0m\u001b[0;34m\u001b[0m\u001b[0;34m\u001b[0m\u001b[0m\n\u001b[0m",
            "\u001b[0;32m<ipython-input-41-e9198915bb41>\u001b[0m in \u001b[0;36mharmonic_sum\u001b[0;34m(n)\u001b[0m\n\u001b[1;32m      3\u001b[0m     \u001b[0;32mreturn\u001b[0m \u001b[0;36m1\u001b[0m\u001b[0;34m\u001b[0m\u001b[0;34m\u001b[0m\u001b[0m\n\u001b[1;32m      4\u001b[0m \u001b[0;34m\u001b[0m\u001b[0m\n\u001b[0;32m----> 5\u001b[0;31m   \u001b[0mresult\u001b[0m \u001b[0;34m=\u001b[0m \u001b[0;34m(\u001b[0m\u001b[0;36m1\u001b[0m\u001b[0;34m/\u001b[0m\u001b[0mn\u001b[0m\u001b[0;34m)\u001b[0m \u001b[0;34m+\u001b[0m \u001b[0mharmonic_sum\u001b[0m\u001b[0;34m(\u001b[0m\u001b[0mn\u001b[0m \u001b[0;34m-\u001b[0m \u001b[0;36m1\u001b[0m\u001b[0;34m)\u001b[0m\u001b[0;34m\u001b[0m\u001b[0;34m\u001b[0m\u001b[0m\n\u001b[0m\u001b[1;32m      6\u001b[0m   \u001b[0;32mreturn\u001b[0m \u001b[0mround\u001b[0m\u001b[0;34m(\u001b[0m\u001b[0mresult\u001b[0m\u001b[0;34m,\u001b[0m \u001b[0;36m3\u001b[0m\u001b[0;34m)\u001b[0m\u001b[0;34m\u001b[0m\u001b[0;34m\u001b[0m\u001b[0m\n\u001b[1;32m      7\u001b[0m \u001b[0mharmonic_sum\u001b[0m\u001b[0;34m(\u001b[0m\u001b[0;36m999\u001b[0m\u001b[0;34m)\u001b[0m\u001b[0;34m\u001b[0m\u001b[0;34m\u001b[0m\u001b[0m\n",
            "... last 1 frames repeated, from the frame below ...\n",
            "\u001b[0;32m<ipython-input-41-e9198915bb41>\u001b[0m in \u001b[0;36mharmonic_sum\u001b[0;34m(n)\u001b[0m\n\u001b[1;32m      3\u001b[0m     \u001b[0;32mreturn\u001b[0m \u001b[0;36m1\u001b[0m\u001b[0;34m\u001b[0m\u001b[0;34m\u001b[0m\u001b[0m\n\u001b[1;32m      4\u001b[0m \u001b[0;34m\u001b[0m\u001b[0m\n\u001b[0;32m----> 5\u001b[0;31m   \u001b[0mresult\u001b[0m \u001b[0;34m=\u001b[0m \u001b[0;34m(\u001b[0m\u001b[0;36m1\u001b[0m\u001b[0;34m/\u001b[0m\u001b[0mn\u001b[0m\u001b[0;34m)\u001b[0m \u001b[0;34m+\u001b[0m \u001b[0mharmonic_sum\u001b[0m\u001b[0;34m(\u001b[0m\u001b[0mn\u001b[0m \u001b[0;34m-\u001b[0m \u001b[0;36m1\u001b[0m\u001b[0;34m)\u001b[0m\u001b[0;34m\u001b[0m\u001b[0;34m\u001b[0m\u001b[0m\n\u001b[0m\u001b[1;32m      6\u001b[0m   \u001b[0;32mreturn\u001b[0m \u001b[0mround\u001b[0m\u001b[0;34m(\u001b[0m\u001b[0mresult\u001b[0m\u001b[0;34m,\u001b[0m \u001b[0;36m3\u001b[0m\u001b[0;34m)\u001b[0m\u001b[0;34m\u001b[0m\u001b[0;34m\u001b[0m\u001b[0m\n\u001b[1;32m      7\u001b[0m \u001b[0mharmonic_sum\u001b[0m\u001b[0;34m(\u001b[0m\u001b[0;36m999\u001b[0m\u001b[0;34m)\u001b[0m\u001b[0;34m\u001b[0m\u001b[0;34m\u001b[0m\u001b[0m\n",
            "\u001b[0;31mRecursionError\u001b[0m: maximum recursion depth exceeded in comparison"
          ]
        }
      ]
    },
    {
      "cell_type": "code",
      "source": [
        "def harmonic_sum(n):\n",
        "  result = 0\n",
        "  for i in range(1, n+1):\n",
        "    result += (1/i)\n",
        "\n",
        "  return result\n",
        "harmonic_sum(999)"
      ],
      "metadata": {
        "colab": {
          "base_uri": "https://localhost:8080/"
        },
        "id": "Q3me31SfCI29",
        "outputId": "94f18dc0-f3f0-4a1f-cc61-fd2f5faca866"
      },
      "execution_count": 42,
      "outputs": [
        {
          "output_type": "execute_result",
          "data": {
            "text/plain": [
              "7.484470860550343"
            ]
          },
          "metadata": {},
          "execution_count": 42
        }
      ]
    },
    {
      "cell_type": "code",
      "source": [
        "round?"
      ],
      "metadata": {
        "id": "XR2cCbNeC_P0"
      },
      "execution_count": 43,
      "outputs": []
    },
    {
      "cell_type": "code",
      "source": [],
      "metadata": {
        "id": "99io3-UPEBkF"
      },
      "execution_count": null,
      "outputs": []
    }
  ]
}