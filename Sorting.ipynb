{
  "nbformat": 4,
  "nbformat_minor": 0,
  "metadata": {
    "colab": {
      "name": "Sorting",
      "provenance": [],
      "authorship_tag": "ABX9TyM1rVusggBPKYBaqCykBNjF",
      "include_colab_link": true
    },
    "kernelspec": {
      "name": "python3",
      "display_name": "Python 3"
    },
    "language_info": {
      "name": "python"
    }
  },
  "cells": [
    {
      "cell_type": "markdown",
      "metadata": {
        "id": "view-in-github",
        "colab_type": "text"
      },
      "source": [
        "<a href=\"https://colab.research.google.com/github/scaleracademy/dsml-intermediate-aug-22/blob/main/Sorting.ipynb\" target=\"_parent\"><img src=\"https://colab.research.google.com/assets/colab-badge.svg\" alt=\"Open In Colab\"/></a>"
      ]
    },
    {
      "cell_type": "code",
      "execution_count": null,
      "metadata": {
        "id": "gWD4MWhpMhoI"
      },
      "outputs": [],
      "source": [
        "# return 4 largest elements (k = 4)\n",
        "arr = [4, 1, 2, 3, 6, 9, 7, 8]\n",
        "# return 9, 8, 7, 6\n"
      ]
    },
    {
      "cell_type": "code",
      "source": [
        "arr = [4, 1, 2, 3, 6, 9, 7, 8]"
      ],
      "metadata": {
        "id": "wX8VJfHcR0cD"
      },
      "execution_count": 1,
      "outputs": []
    },
    {
      "cell_type": "code",
      "source": [
        "arr = [1, 2, 3, 4, 5]\n",
        "def bubble_sort(arr):\n",
        "  n = len(arr)\n",
        "  for i in range(n-1):\n",
        "    print(arr, '->', end = ' ')\n",
        "    swapped = False\n",
        "\n",
        "    count = 0\n",
        "    for j in range(n-i-1):\n",
        "      count += 1\n",
        "      if arr[j] > arr[j+1]:\n",
        "        arr[j], arr[j+1] = arr[j+1], arr[j]\n",
        "        swapped = True\n",
        "    \n",
        "    if not swapped:\n",
        "      return arr\n",
        "    print(f'({count})', end = ' ')\n",
        "    print(arr)\n",
        "\n",
        "  return arr"
      ],
      "metadata": {
        "id": "jXOU8Ze7SCfK"
      },
      "execution_count": 20,
      "outputs": []
    },
    {
      "cell_type": "code",
      "source": [
        "bubble_sort(arr)"
      ],
      "metadata": {
        "colab": {
          "base_uri": "https://localhost:8080/"
        },
        "id": "5SlJxvdYTfVY",
        "outputId": "b9d5c2af-a21a-4d38-f8a2-e51059bb9ba4"
      },
      "execution_count": 21,
      "outputs": [
        {
          "output_type": "stream",
          "name": "stdout",
          "text": [
            "[1, 2, 3, 4, 5] -> "
          ]
        },
        {
          "output_type": "execute_result",
          "data": {
            "text/plain": [
              "[1, 2, 3, 4, 5]"
            ]
          },
          "metadata": {},
          "execution_count": 21
        }
      ]
    },
    {
      "cell_type": "code",
      "source": [
        "def add(a, b):\n",
        "  return a+b"
      ],
      "metadata": {
        "id": "ShcFgWRVThf_"
      },
      "execution_count": 10,
      "outputs": []
    },
    {
      "cell_type": "code",
      "source": [
        "sorted([4, 1, 3, 2, 5, 6])"
      ],
      "metadata": {
        "colab": {
          "base_uri": "https://localhost:8080/"
        },
        "id": "7YMsGqA1X6pN",
        "outputId": "0acae402-9227-4a43-d8d7-b59dbee504ab"
      },
      "execution_count": 11,
      "outputs": [
        {
          "output_type": "execute_result",
          "data": {
            "text/plain": [
              "[1, 2, 3, 4, 5, 6]"
            ]
          },
          "metadata": {},
          "execution_count": 11
        }
      ]
    },
    {
      "cell_type": "code",
      "source": [
        "def insertion_sort(arr):\n",
        "  n = len(arr)\n",
        "  for i in range(1, n):\n",
        "    print(arr, '->', end = ' ')\n",
        "    el = arr[i]\n",
        "    # arr[i] = None\n",
        "\n",
        "    j = i-1\n",
        "    count = 1\n",
        "    while j >= 0 and arr[j] > el:\n",
        "      count += 1\n",
        "      arr[j+1] = arr[j]\n",
        "      j-=1\n",
        "\n",
        "    arr[j+1] = el\n",
        "\n",
        "    print(f'({count})', end = ' ')\n",
        "    print(arr)\n",
        "\n",
        "  return arr"
      ],
      "metadata": {
        "id": "Pe-LRdZxatrG"
      },
      "execution_count": 18,
      "outputs": []
    },
    {
      "cell_type": "code",
      "source": [
        "arr = [1, 3, 2, 4, 5, 6, 7]\n",
        "\n",
        "insertion_sort(arr)"
      ],
      "metadata": {
        "colab": {
          "base_uri": "https://localhost:8080/"
        },
        "id": "J0R25d2GgpRJ",
        "outputId": "f629bbcf-c5d5-482e-ec6c-020a5494cf8b"
      },
      "execution_count": 34,
      "outputs": [
        {
          "output_type": "stream",
          "name": "stdout",
          "text": [
            "[1, 3, 2, 4, 5, 6, 7] -> (1) [1, 3, 2, 4, 5, 6, 7]\n",
            "[1, 3, 2, 4, 5, 6, 7] -> (2) [1, 2, 3, 4, 5, 6, 7]\n",
            "[1, 2, 3, 4, 5, 6, 7] -> (1) [1, 2, 3, 4, 5, 6, 7]\n",
            "[1, 2, 3, 4, 5, 6, 7] -> (1) [1, 2, 3, 4, 5, 6, 7]\n",
            "[1, 2, 3, 4, 5, 6, 7] -> (1) [1, 2, 3, 4, 5, 6, 7]\n",
            "[1, 2, 3, 4, 5, 6, 7] -> (1) [1, 2, 3, 4, 5, 6, 7]\n"
          ]
        },
        {
          "output_type": "execute_result",
          "data": {
            "text/plain": [
              "[1, 2, 3, 4, 5, 6, 7]"
            ]
          },
          "metadata": {},
          "execution_count": 34
        }
      ]
    },
    {
      "cell_type": "code",
      "source": [
        "arr = [1, 3, 2, 4, 5, 6, 7]\n",
        "\n",
        "bubble_sort(arr)"
      ],
      "metadata": {
        "colab": {
          "base_uri": "https://localhost:8080/"
        },
        "id": "k2fTiWMsgson",
        "outputId": "97c35f62-f39f-4bc8-ef70-0c122a5749da"
      },
      "execution_count": 33,
      "outputs": [
        {
          "output_type": "stream",
          "name": "stdout",
          "text": [
            "[1, 3, 2, 4, 5, 6, 7] -> (6) [1, 2, 3, 4, 5, 6, 7]\n",
            "[1, 2, 3, 4, 5, 6, 7] -> "
          ]
        },
        {
          "output_type": "execute_result",
          "data": {
            "text/plain": [
              "[1, 2, 3, 4, 5, 6, 7]"
            ]
          },
          "metadata": {},
          "execution_count": 33
        }
      ]
    },
    {
      "cell_type": "code",
      "source": [
        "a = ['Blah','Blah','Blah']\n",
        "b = a[:]\n",
        "\n",
        "print(id(a) == id(b))\n",
        "print(a is b)"
      ],
      "metadata": {
        "colab": {
          "base_uri": "https://localhost:8080/"
        },
        "id": "Oz7XLCMKhpZF",
        "outputId": "f4929c98-abb6-41b0-e19e-be48feacb649"
      },
      "execution_count": 37,
      "outputs": [
        {
          "output_type": "stream",
          "name": "stdout",
          "text": [
            "False\n",
            "False\n"
          ]
        }
      ]
    },
    {
      "cell_type": "code",
      "source": [
        "a = [print(i) for i in range(10) if i%2==0]"
      ],
      "metadata": {
        "colab": {
          "base_uri": "https://localhost:8080/"
        },
        "id": "h2XHIFtXk5m1",
        "outputId": "b072d0b8-a30c-49ed-981a-8aac72c066ae"
      },
      "execution_count": 45,
      "outputs": [
        {
          "output_type": "stream",
          "name": "stdout",
          "text": [
            "0\n",
            "2\n",
            "4\n",
            "6\n",
            "8\n"
          ]
        }
      ]
    },
    {
      "cell_type": "code",
      "source": [
        "print(a)\n"
      ],
      "metadata": {
        "colab": {
          "base_uri": "https://localhost:8080/"
        },
        "id": "AC2SqeMdmP8R",
        "outputId": "4e911ec9-4278-4746-e851-f34194a682d2"
      },
      "execution_count": 46,
      "outputs": [
        {
          "output_type": "stream",
          "name": "stdout",
          "text": [
            "[None, None, None, None, None]\n"
          ]
        }
      ]
    },
    {
      "cell_type": "code",
      "source": [
        "def foo():\n",
        "  pass"
      ],
      "metadata": {
        "id": "lqbm49MtmIkW"
      },
      "execution_count": 41,
      "outputs": []
    },
    {
      "cell_type": "code",
      "source": [
        "a = foo()"
      ],
      "metadata": {
        "id": "ANeAnJ8umK7W"
      },
      "execution_count": 42,
      "outputs": []
    },
    {
      "cell_type": "code",
      "source": [
        "print(a)"
      ],
      "metadata": {
        "colab": {
          "base_uri": "https://localhost:8080/"
        },
        "id": "iaBt7Of0mLfg",
        "outputId": "cecf36c6-f33f-47c5-b27c-9165f6a2e9aa"
      },
      "execution_count": 43,
      "outputs": [
        {
          "output_type": "stream",
          "name": "stdout",
          "text": [
            "None\n"
          ]
        }
      ]
    },
    {
      "cell_type": "code",
      "source": [],
      "metadata": {
        "id": "RgF6g-ammOcg"
      },
      "execution_count": null,
      "outputs": []
    }
  ]
}