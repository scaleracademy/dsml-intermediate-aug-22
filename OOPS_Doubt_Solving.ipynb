{
  "nbformat": 4,
  "nbformat_minor": 0,
  "metadata": {
    "colab": {
      "provenance": [],
      "collapsed_sections": [],
      "authorship_tag": "ABX9TyNcmlag47osF6W3esyclmKZ",
      "include_colab_link": true
    },
    "kernelspec": {
      "name": "python3",
      "display_name": "Python 3"
    },
    "language_info": {
      "name": "python"
    }
  },
  "cells": [
    {
      "cell_type": "markdown",
      "metadata": {
        "id": "view-in-github",
        "colab_type": "text"
      },
      "source": [
        "<a href=\"https://colab.research.google.com/github/scaleracademy/dsml-intermediate-aug-22/blob/main/OOPS_Doubt_Solving.ipynb\" target=\"_parent\"><img src=\"https://colab.research.google.com/assets/colab-badge.svg\" alt=\"Open In Colab\"/></a>"
      ]
    },
    {
      "cell_type": "code",
      "execution_count": 5,
      "metadata": {
        "colab": {
          "base_uri": "https://localhost:8080/"
        },
        "id": "cKXrquCdwbYX",
        "outputId": "ca803f5b-d345-47ad-e78c-8617b32eb3c9"
      },
      "outputs": [
        {
          "output_type": "stream",
          "name": "stdout",
          "text": [
            "shitzu 139923428754352\n",
            "beagle 139923428899376\n"
          ]
        }
      ],
      "source": [
        "class Dog:\n",
        "  breed = \"shitzu\"\n",
        "\n",
        "d1 = Dog()\n",
        "d2 = Dog()\n",
        "d2.breed = \"beagle\"\n",
        "\n",
        "print(d1.breed, id(d1.breed))\n",
        "print(d2.breed, id(d2.breed))"
      ]
    },
    {
      "cell_type": "code",
      "source": [
        "a = \"shitzu\"\n",
        "b = a\n",
        "b = \"scaler\"\n"
      ],
      "metadata": {
        "id": "c8vc5bQ4xcym"
      },
      "execution_count": 3,
      "outputs": []
    },
    {
      "cell_type": "code",
      "source": [
        "class Foo:\n",
        "  bar = []\n",
        "\n",
        "f1 = Foo()\n",
        "f2 = Foo()\n",
        "f2.bar = [1]\n",
        "f3 = Foo()\n",
        "\n",
        "print(f1.bar)\n",
        "print(f2.bar)\n",
        "print(f3.bar)"
      ],
      "metadata": {
        "colab": {
          "base_uri": "https://localhost:8080/"
        },
        "id": "BUxYPFEDxq-m",
        "outputId": "26bdd19b-622e-4f90-d558-9d130738e8c0"
      },
      "execution_count": 8,
      "outputs": [
        {
          "output_type": "stream",
          "name": "stdout",
          "text": [
            "[]\n",
            "[1]\n",
            "[]\n"
          ]
        }
      ]
    },
    {
      "cell_type": "code",
      "source": [
        "class XRange:\n",
        "  def __init__(self, n):\n",
        "    self.n = n\n",
        "\n",
        "  def __iter__(self):\n",
        "    return XRangeIterator(self)\n",
        "\n",
        "class XRangeIterator:\n",
        "  def __init__(self, range):\n",
        "    self.range = range\n",
        "    self.i = 0\n",
        "\n",
        "  def __next__(self):\n",
        "    if self.i >= self.range.n:\n",
        "      raise StopIteration\n",
        "\n",
        "    res = self.i\n",
        "    self.i += 1\n",
        "    return res"
      ],
      "metadata": {
        "id": "2lmYe46gx6bV"
      },
      "execution_count": 16,
      "outputs": []
    },
    {
      "cell_type": "code",
      "source": [
        "for x in XRange(5):\n",
        "  print(x)"
      ],
      "metadata": {
        "colab": {
          "base_uri": "https://localhost:8080/"
        },
        "id": "GKLYyUYezf7d",
        "outputId": "97d0fcc8-60cf-464a-f1b2-2cc15036b3fd"
      },
      "execution_count": 17,
      "outputs": [
        {
          "output_type": "stream",
          "name": "stdout",
          "text": [
            "0\n",
            "1\n",
            "2\n",
            "3\n",
            "4\n"
          ]
        }
      ]
    },
    {
      "cell_type": "code",
      "source": [
        "a = range(5)"
      ],
      "metadata": {
        "id": "cxtQItVRzBje"
      },
      "execution_count": 9,
      "outputs": []
    },
    {
      "cell_type": "code",
      "source": [
        "type(a)"
      ],
      "metadata": {
        "colab": {
          "base_uri": "https://localhost:8080/"
        },
        "id": "mUyW3UdBzCf0",
        "outputId": "e91ba27c-88a1-41b2-f45c-e7f54b844ea3"
      },
      "execution_count": 11,
      "outputs": [
        {
          "output_type": "execute_result",
          "data": {
            "text/plain": [
              "range"
            ]
          },
          "metadata": {},
          "execution_count": 11
        }
      ]
    },
    {
      "cell_type": "code",
      "source": [
        "class SchoolMember:\n",
        "  school_name = \"Scaler Institute\"\n",
        "\n",
        "  def __init__(self, name):\n",
        "    self.name = name\n",
        "\n",
        "  def say_hello(self):\n",
        "    print(f\"Hello my name is {self.name}\")\n",
        "\n",
        "class Staff(SchoolMember):\n",
        "  def __init__(self, name, salary):\n",
        "    super().__init__(name)\n",
        "    self.salary = salary\n",
        "\n",
        "class Teacher(Staff):\n",
        "  def __init__(self, name, salary, subject):\n",
        "    super().__init__(name, salary)\n",
        "    self.subject = subject\n",
        "\n",
        "  def say_hello(self):\n",
        "    print(\"I'm a teacher\")\n",
        "    super().say_hello()"
      ],
      "metadata": {
        "id": "_pBSu9cQzC0T"
      },
      "execution_count": 30,
      "outputs": []
    },
    {
      "cell_type": "code",
      "source": [
        "t = Teacher(\"Jatin\", 100, \"Python\")"
      ],
      "metadata": {
        "id": "3CtVfYYB1Xpi"
      },
      "execution_count": 31,
      "outputs": []
    },
    {
      "cell_type": "code",
      "source": [
        "t.say_hello()"
      ],
      "metadata": {
        "colab": {
          "base_uri": "https://localhost:8080/"
        },
        "id": "zvWtT_yC1hT0",
        "outputId": "9669902f-6818-41c3-b60a-0d2f8797da97"
      },
      "execution_count": 32,
      "outputs": [
        {
          "output_type": "stream",
          "name": "stdout",
          "text": [
            "I'm a teacher\n",
            "Hello my name is Jatin\n"
          ]
        }
      ]
    },
    {
      "cell_type": "code",
      "source": [
        "Teacher.mro()"
      ],
      "metadata": {
        "colab": {
          "base_uri": "https://localhost:8080/"
        },
        "id": "23yr8lHS1p_G",
        "outputId": "dbf188b8-a34b-412e-9d11-590111300524"
      },
      "execution_count": 24,
      "outputs": [
        {
          "output_type": "execute_result",
          "data": {
            "text/plain": [
              "[__main__.Teacher, __main__.Staff, __main__.SchoolMember, object]"
            ]
          },
          "metadata": {},
          "execution_count": 24
        }
      ]
    },
    {
      "cell_type": "code",
      "source": [
        "t.school_name"
      ],
      "metadata": {
        "colab": {
          "base_uri": "https://localhost:8080/",
          "height": 35
        },
        "id": "s44RZcPB1qr2",
        "outputId": "8dba9b77-2529-4282-d8a6-ca8461f5d1bd"
      },
      "execution_count": 25,
      "outputs": [
        {
          "output_type": "execute_result",
          "data": {
            "text/plain": [
              "'Scaler Institute'"
            ],
            "application/vnd.google.colaboratory.intrinsic+json": {
              "type": "string"
            }
          },
          "metadata": {},
          "execution_count": 25
        }
      ]
    },
    {
      "cell_type": "code",
      "source": [
        "class Foo:\n",
        "  # Initialize dunder\n",
        "  def __init__(self):\n",
        "    print(\"Init executed\")\n",
        "    pass\n",
        "\n",
        "  def __add__(self, other):\n",
        "    print(self)\n",
        "    print(other)\n",
        "    return 10\n",
        "\n",
        "  # delete dunder\n",
        "  def __del__(self):\n",
        "    print(\"Del executed\")"
      ],
      "metadata": {
        "id": "MFfaHRD82A5P"
      },
      "execution_count": 39,
      "outputs": []
    },
    {
      "cell_type": "code",
      "source": [
        "a = Foo()\n",
        "b = Foo()\n",
        "\n",
        "print(a)\n",
        "print(b)\n",
        "print(a + b)\n",
        "print(a.__add__(b))"
      ],
      "metadata": {
        "colab": {
          "base_uri": "https://localhost:8080/"
        },
        "id": "4a5PEcnf28YE",
        "outputId": "8d8669ca-4e52-47e5-9ae5-98061eb3a232"
      },
      "execution_count": 40,
      "outputs": [
        {
          "output_type": "stream",
          "name": "stdout",
          "text": [
            "Init executed\n",
            "Init executed\n",
            "<__main__.Foo object at 0x7f42764a4650>\n",
            "<__main__.Foo object at 0x7f42764a42d0>\n",
            "<__main__.Foo object at 0x7f42764a4650>\n",
            "<__main__.Foo object at 0x7f42764a42d0>\n",
            "10\n"
          ]
        }
      ]
    },
    {
      "cell_type": "code",
      "source": [
        "class Student:\n",
        "  pass\n",
        "\n",
        "Student.age=16"
      ],
      "metadata": {
        "id": "9yNaFUky3gt6"
      },
      "execution_count": 41,
      "outputs": []
    },
    {
      "cell_type": "code",
      "source": [
        "class Foo:\n",
        "  def __init__(self):\n",
        "    self.age = 16"
      ],
      "metadata": {
        "id": "_vdJqa_B4sBz"
      },
      "execution_count": 42,
      "outputs": []
    },
    {
      "cell_type": "code",
      "source": [
        "s1 = Student"
      ],
      "metadata": {
        "id": "C_YtpbWd4_vL"
      },
      "execution_count": 43,
      "outputs": []
    },
    {
      "cell_type": "code",
      "source": [
        "print(s1.age)"
      ],
      "metadata": {
        "colab": {
          "base_uri": "https://localhost:8080/"
        },
        "id": "PHKu3C0Y5A2E",
        "outputId": "d3206225-e48a-4801-c80d-bfa96191a97c"
      },
      "execution_count": 44,
      "outputs": [
        {
          "output_type": "stream",
          "name": "stdout",
          "text": [
            "16\n"
          ]
        }
      ]
    },
    {
      "cell_type": "code",
      "source": [
        "class CombinationIterator:\n",
        "\n",
        "    def __init__(self, characters: str, combinationLength: int):\n",
        "        self.characters = characters\n",
        "        self.combinationLength = combinationLength\n",
        "\n",
        "    def next(self) -> str:\n",
        "        for i in range(len(self.characters) - self.combinationLength):\n",
        "            "
      ],
      "metadata": {
        "id": "11LC-aYY5Br3"
      },
      "execution_count": 47,
      "outputs": []
    },
    {
      "cell_type": "code",
      "source": [
        "CombinationIterator(\"abcd\", 2).next()"
      ],
      "metadata": {
        "colab": {
          "base_uri": "https://localhost:8080/"
        },
        "id": "Jl3vd5716Z6d",
        "outputId": "bcd906fc-1729-4260-8126-54165247234d"
      },
      "execution_count": 48,
      "outputs": [
        {
          "output_type": "stream",
          "name": "stdout",
          "text": [
            "ab\n",
            "abc\n",
            "abcd\n",
            "bc\n",
            "bcd\n"
          ]
        }
      ]
    },
    {
      "cell_type": "code",
      "source": [
        "def solve(characters, n):\n",
        "  if n == 1:\n",
        "    return list(characters)\n",
        "\n",
        "  res = []\n",
        "  for i in range(len(characters) - n + 1):\n",
        "    for x in solve(characters[i+1:], n-1):\n",
        "      res.append(characters[i] + x)\n",
        "\n",
        "  return res"
      ],
      "metadata": {
        "id": "zBVPUX3G6c1n"
      },
      "execution_count": 65,
      "outputs": []
    },
    {
      "cell_type": "code",
      "source": [
        "solve(\"abcde\", 3)"
      ],
      "metadata": {
        "colab": {
          "base_uri": "https://localhost:8080/"
        },
        "id": "7p4qKK2U8FEw",
        "outputId": "729f0467-65b4-449f-cf59-36a65caa2f3d"
      },
      "execution_count": 67,
      "outputs": [
        {
          "output_type": "execute_result",
          "data": {
            "text/plain": [
              "['abc', 'abd', 'abe', 'acd', 'ace', 'ade', 'bcd', 'bce', 'bde', 'cde']"
            ]
          },
          "metadata": {},
          "execution_count": 67
        }
      ]
    },
    {
      "cell_type": "code",
      "source": [
        "res = []\n",
        "for x in range(1000000000000):\n",
        "  res.append(x**2)\n",
        "print(res)"
      ],
      "metadata": {
        "colab": {
          "base_uri": "https://localhost:8080/",
          "height": 222
        },
        "id": "9kls0AAv8GWG",
        "outputId": "d1d80e6e-7a5c-4510-ca9c-f966a32fac53"
      },
      "execution_count": 68,
      "outputs": [
        {
          "output_type": "error",
          "ename": "KeyboardInterrupt",
          "evalue": "ignored",
          "traceback": [
            "\u001b[0;31m---------------------------------------------------------------------------\u001b[0m",
            "\u001b[0;31mKeyboardInterrupt\u001b[0m                         Traceback (most recent call last)",
            "\u001b[0;32m<ipython-input-68-47bd613849ed>\u001b[0m in \u001b[0;36m<module>\u001b[0;34m\u001b[0m\n\u001b[1;32m      1\u001b[0m \u001b[0mres\u001b[0m \u001b[0;34m=\u001b[0m \u001b[0;34m[\u001b[0m\u001b[0;34m]\u001b[0m\u001b[0;34m\u001b[0m\u001b[0;34m\u001b[0m\u001b[0m\n\u001b[1;32m      2\u001b[0m \u001b[0;32mfor\u001b[0m \u001b[0mx\u001b[0m \u001b[0;32min\u001b[0m \u001b[0mrange\u001b[0m\u001b[0;34m(\u001b[0m\u001b[0;36m1000000000000\u001b[0m\u001b[0;34m)\u001b[0m\u001b[0;34m:\u001b[0m\u001b[0;34m\u001b[0m\u001b[0;34m\u001b[0m\u001b[0m\n\u001b[0;32m----> 3\u001b[0;31m   \u001b[0mres\u001b[0m\u001b[0;34m.\u001b[0m\u001b[0mappend\u001b[0m\u001b[0;34m(\u001b[0m\u001b[0mx\u001b[0m\u001b[0;34m**\u001b[0m\u001b[0;36m2\u001b[0m\u001b[0;34m)\u001b[0m\u001b[0;34m\u001b[0m\u001b[0;34m\u001b[0m\u001b[0m\n\u001b[0m\u001b[1;32m      4\u001b[0m \u001b[0mprint\u001b[0m\u001b[0;34m(\u001b[0m\u001b[0mres\u001b[0m\u001b[0;34m)\u001b[0m\u001b[0;34m\u001b[0m\u001b[0;34m\u001b[0m\u001b[0m\n",
            "\u001b[0;31mKeyboardInterrupt\u001b[0m: "
          ]
        }
      ]
    },
    {
      "cell_type": "code",
      "source": [
        "# Generators\n",
        "def square_loop(n):\n",
        "  for i in range(n):\n",
        "    yield i**2"
      ],
      "metadata": {
        "id": "N1az4xPT9l0H"
      },
      "execution_count": 69,
      "outputs": []
    },
    {
      "cell_type": "code",
      "source": [
        "for i in square_loop(5):\n",
        "  print(i)"
      ],
      "metadata": {
        "colab": {
          "base_uri": "https://localhost:8080/"
        },
        "id": "USqp_O3S-szN",
        "outputId": "5a1ba1ce-83dc-4cbe-f62e-7f345ecc7381"
      },
      "execution_count": 78,
      "outputs": [
        {
          "output_type": "stream",
          "name": "stdout",
          "text": [
            "0\n",
            "1\n",
            "4\n",
            "9\n",
            "16\n"
          ]
        }
      ]
    },
    {
      "cell_type": "code",
      "source": [
        "a = square_loop(10000000000)"
      ],
      "metadata": {
        "id": "oqik_3qZ-Qad"
      },
      "execution_count": 70,
      "outputs": []
    },
    {
      "cell_type": "code",
      "source": [
        "type(a)"
      ],
      "metadata": {
        "colab": {
          "base_uri": "https://localhost:8080/"
        },
        "id": "sktXqGJH-XQ9",
        "outputId": "8dc56c2d-d36f-4e7e-ad87-523fb40fca19"
      },
      "execution_count": 71,
      "outputs": [
        {
          "output_type": "execute_result",
          "data": {
            "text/plain": [
              "generator"
            ]
          },
          "metadata": {},
          "execution_count": 71
        }
      ]
    },
    {
      "cell_type": "code",
      "source": [
        "it = iter(a)"
      ],
      "metadata": {
        "id": "Q1JE-C8a-b4A"
      },
      "execution_count": 72,
      "outputs": []
    },
    {
      "cell_type": "code",
      "source": [
        "next(it)"
      ],
      "metadata": {
        "colab": {
          "base_uri": "https://localhost:8080/"
        },
        "id": "dHv7IVTd-egF",
        "outputId": "3ba93150-a3fc-4dfc-9da8-8c070c2ef08a"
      },
      "execution_count": 76,
      "outputs": [
        {
          "output_type": "execute_result",
          "data": {
            "text/plain": [
              "9"
            ]
          },
          "metadata": {},
          "execution_count": 76
        }
      ]
    },
    {
      "cell_type": "code",
      "source": [
        "class CombinationIterator:\n",
        "\n",
        "    def __init__(self, characters: str, combinationLength: int):\n",
        "        self.characters = characters\n",
        "        self.combinationLength = combinationLength\n",
        "        self.gen = self.solve(self.characters, self.combinationLength)\n",
        "        self.ended = False\n",
        "        \n",
        "\n",
        "    def solve(self, characters, n):\n",
        "        if n == 1:\n",
        "            return list(characters)\n",
        "\n",
        "        for i in range(len(characters) - n + 1):\n",
        "            for x in solve(characters[i+1:], n-1):\n",
        "                yield characters[i] + x\n",
        "            \n",
        "\n",
        "\n",
        "    def next(self):\n",
        "        try:\n",
        "            return next(self.gen)\n",
        "        catch StopIteration:\n",
        "            self.ended = True\n",
        "        \n",
        "\n",
        "    def hasNext(self):\n",
        "        return self.ended\n",
        "        \n",
        "\n",
        "\n",
        "# Your CombinationIterator object will be instantiated and called as such:\n",
        "# obj = CombinationIterator(characters, combinationLength)\n",
        "# param_1 = obj.next()\n",
        "# param_2 = obj.hasNext()"
      ],
      "metadata": {
        "colab": {
          "base_uri": "https://localhost:8080/",
          "height": 133
        },
        "id": "puckzNF3-ga6",
        "outputId": "45287f50-7c19-4bc8-9e6c-a98d71d21b45"
      },
      "execution_count": 79,
      "outputs": [
        {
          "output_type": "error",
          "ename": "SyntaxError",
          "evalue": "ignored",
          "traceback": [
            "\u001b[0;36m  File \u001b[0;32m\"<ipython-input-79-242a97d61b88>\"\u001b[0;36m, line \u001b[0;32m23\u001b[0m\n\u001b[0;31m    catch StopIteration:\u001b[0m\n\u001b[0m        ^\u001b[0m\n\u001b[0;31mSyntaxError\u001b[0m\u001b[0;31m:\u001b[0m invalid syntax\n"
          ]
        }
      ]
    },
    {
      "cell_type": "code",
      "source": [
        "def foo():\n",
        "  print(\"started\")\n",
        "  yield 1\n",
        "  print(\"paused\")\n",
        "  yield 2\n",
        "  yield 3\n",
        "  yield 4\n"
      ],
      "metadata": {
        "id": "6q4M2aWm_vLD"
      },
      "execution_count": 85,
      "outputs": []
    },
    {
      "cell_type": "code",
      "source": [
        "for x in foo():\n",
        "  print(x)"
      ],
      "metadata": {
        "colab": {
          "base_uri": "https://localhost:8080/"
        },
        "id": "vgb_4phf_yNO",
        "outputId": "01d55712-dc8b-42ee-bb94-7b233c373853"
      },
      "execution_count": 86,
      "outputs": [
        {
          "output_type": "stream",
          "name": "stdout",
          "text": [
            "started\n",
            "1\n",
            "paused\n",
            "2\n",
            "3\n",
            "4\n"
          ]
        }
      ]
    },
    {
      "cell_type": "code",
      "source": [
        "a = iter(foo())"
      ],
      "metadata": {
        "id": "RSSqVMqI_6jo"
      },
      "execution_count": 87,
      "outputs": []
    },
    {
      "cell_type": "code",
      "source": [
        "next(a)"
      ],
      "metadata": {
        "colab": {
          "base_uri": "https://localhost:8080/"
        },
        "id": "Cjdz2INSAAum",
        "outputId": "9ffb5984-bfc3-4180-c96d-5041ab210225"
      },
      "execution_count": 89,
      "outputs": [
        {
          "output_type": "stream",
          "name": "stdout",
          "text": [
            "paused\n"
          ]
        },
        {
          "output_type": "execute_result",
          "data": {
            "text/plain": [
              "2"
            ]
          },
          "metadata": {},
          "execution_count": 89
        }
      ]
    },
    {
      "cell_type": "code",
      "source": [
        "def frequency(elements):\n",
        "#elements -> The list of elements\n",
        "# return the frequency of elements \n",
        "# code starts here \n",
        "#code ends here \n",
        "  hash_table = [None]*(max(elements)+1) \n",
        "  for i in elements: \n",
        "    if hash_table[i]: \n",
        "      hash_table[i] += 1 \n",
        "    else: hash_table[i] = 1 \n",
        "  \n",
        "  for k, v in enumerate(hash_table): \n",
        "    if v: \n",
        "      print(k, v, sep=\" \") \n",
        "  return None"
      ],
      "metadata": {
        "id": "3sMVKUu8ABTo"
      },
      "execution_count": 90,
      "outputs": []
    },
    {
      "cell_type": "code",
      "source": [
        "frequency([10, 20, 20, 10, 10, 20, 5, 20])"
      ],
      "metadata": {
        "colab": {
          "base_uri": "https://localhost:8080/"
        },
        "id": "8lQV0oFSB9HF",
        "outputId": "75c39bfa-6af0-4d4b-8e08-c92d033047b8"
      },
      "execution_count": 91,
      "outputs": [
        {
          "output_type": "stream",
          "name": "stdout",
          "text": [
            "5 1\n",
            "10 3\n",
            "20 4\n"
          ]
        }
      ]
    },
    {
      "cell_type": "code",
      "source": [
        "def frequency(elements):\n",
        "  #elements -> The list of elements\n",
        "  # return the frequency of elements \n",
        "  # code starts here \n",
        "  #code ends here \n",
        "  table = {}\n",
        "  for i in elements: \n",
        "    if i in table:\n",
        "      table[i] += 1\n",
        "    else:\n",
        "      table[i] = 1\n",
        "  \n",
        "  for k, v in table.items(): \n",
        "    if v: \n",
        "      print(k, v, sep=\" \") \n",
        "  return None"
      ],
      "metadata": {
        "id": "mnffRxnaCB0W"
      },
      "execution_count": 94,
      "outputs": []
    },
    {
      "cell_type": "code",
      "source": [
        "frequency([10, 20, 20, 10, 10, 20, 5, 20])"
      ],
      "metadata": {
        "colab": {
          "base_uri": "https://localhost:8080/"
        },
        "id": "PxUIT25jCU-q",
        "outputId": "2ae02ddf-1eb9-40ef-a4f3-ff2fdd95a39a"
      },
      "execution_count": 95,
      "outputs": [
        {
          "output_type": "stream",
          "name": "stdout",
          "text": [
            "10 3\n",
            "20 4\n",
            "5 1\n"
          ]
        }
      ]
    },
    {
      "cell_type": "code",
      "source": [
        "a = [1, 2, 3, 4, 5] \n",
        "a.append(7)\n",
        "a.sort()"
      ],
      "metadata": {
        "id": "TwJzBgqRCYmO"
      },
      "execution_count": null,
      "outputs": []
    }
  ]
}