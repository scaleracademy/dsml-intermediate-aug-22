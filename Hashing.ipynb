{
  "nbformat": 4,
  "nbformat_minor": 0,
  "metadata": {
    "colab": {
      "provenance": [],
      "authorship_tag": "ABX9TyNGLuINN48xoQRlzJjaSZ05",
      "include_colab_link": true
    },
    "kernelspec": {
      "name": "python3",
      "display_name": "Python 3"
    },
    "language_info": {
      "name": "python"
    }
  },
  "cells": [
    {
      "cell_type": "markdown",
      "metadata": {
        "id": "view-in-github",
        "colab_type": "text"
      },
      "source": [
        "<a href=\"https://colab.research.google.com/github/scaleracademy/dsml-intermediate-aug-22/blob/main/Hashing.ipynb\" target=\"_parent\"><img src=\"https://colab.research.google.com/assets/colab-badge.svg\" alt=\"Open In Colab\"/></a>"
      ]
    },
    {
      "cell_type": "code",
      "execution_count": 2,
      "metadata": {
        "colab": {
          "base_uri": "https://localhost:8080/"
        },
        "id": "TVCAJP-5zpwS",
        "outputId": "472d51d9-76a9-4465-9301-347cf8ce1a76"
      },
      "outputs": [
        {
          "output_type": "execute_result",
          "data": {
            "text/plain": [
              "-5406931750823401635"
            ]
          },
          "metadata": {},
          "execution_count": 2
        }
      ],
      "source": [
        "hash(\"scaler\")"
      ]
    },
    {
      "cell_type": "code",
      "source": [
        "hash((stream, college, section))"
      ],
      "metadata": {
        "colab": {
          "base_uri": "https://localhost:8080/"
        },
        "id": "H1bRRodJDF7B",
        "outputId": "07f3a945-c9aa-4786-e0c9-21fc69408a72"
      },
      "execution_count": 3,
      "outputs": [
        {
          "output_type": "execute_result",
          "data": {
            "text/plain": [
              "-7043572419228923311"
            ]
          },
          "metadata": {},
          "execution_count": 3
        }
      ]
    },
    {
      "cell_type": "code",
      "source": [
        "hash((stream, college, section))"
      ],
      "metadata": {
        "colab": {
          "base_uri": "https://localhost:8080/"
        },
        "id": "LzfI7ZMODXgY",
        "outputId": "6f4fa9d9-95cf-4580-fe60-ab8b7a28ef83"
      },
      "execution_count": 4,
      "outputs": [
        {
          "output_type": "execute_result",
          "data": {
            "text/plain": [
              "-7838760700570902016"
            ]
          },
          "metadata": {},
          "execution_count": 4
        }
      ]
    },
    {
      "cell_type": "code",
      "source": [
        "hash((stream, college, section))"
      ],
      "metadata": {
        "colab": {
          "base_uri": "https://localhost:8080/"
        },
        "id": "giXKarlwDmTu",
        "outputId": "5d84a69b-cf4d-4ba1-b214-a692bcab4147"
      },
      "execution_count": 5,
      "outputs": [
        {
          "output_type": "execute_result",
          "data": {
            "text/plain": [
              "-7838760700570902016"
            ]
          },
          "metadata": {},
          "execution_count": 5
        }
      ]
    },
    {
      "cell_type": "code",
      "source": [
        "a = {\n",
        "    \"name\": \"Scaler\",\n",
        "    \"language\": \"python\"\n",
        "}"
      ],
      "metadata": {
        "id": "9-ppJHjWDrmK"
      },
      "execution_count": 6,
      "outputs": []
    },
    {
      "cell_type": "code",
      "source": [
        "a[\"name\"]"
      ],
      "metadata": {
        "colab": {
          "base_uri": "https://localhost:8080/",
          "height": 35
        },
        "id": "n6jK_YfkEW4f",
        "outputId": "5dbb0e8a-cb4e-4fa1-f569-c7e2d1516396"
      },
      "execution_count": 7,
      "outputs": [
        {
          "output_type": "execute_result",
          "data": {
            "text/plain": [
              "'Scaler'"
            ],
            "application/vnd.google.colaboratory.intrinsic+json": {
              "type": "string"
            }
          },
          "metadata": {},
          "execution_count": 7
        }
      ]
    },
    {
      "cell_type": "markdown",
      "source": [
        "### Indexing\n",
        "It refers to the concept of finding unique identifiers for the given object\n",
        "\n",
        "```\n",
        "f(x) = y\n",
        "\n",
        "f -> hash function\n",
        "x -> given object\n",
        "y -> unique index\n",
        "```"
      ],
      "metadata": {
        "id": "20JZIblzNaXb"
      }
    },
    {
      "cell_type": "code",
      "source": [
        "MAX_SIZE = 200\n",
        "ARR = [None] * MAX_SIZE"
      ],
      "metadata": {
        "id": "Z6mkShgXE16h"
      },
      "execution_count": 43,
      "outputs": []
    },
    {
      "cell_type": "code",
      "source": [
        "def set_value(key, value):\n",
        "  index = hash(key) % MAX_SIZE\n",
        "  print(f\"setting {index}\")\n",
        "\n",
        "  if not ARR[index]:\n",
        "    value_set = [(key, value)]\n",
        "    ARR[index] = value_set\n",
        "  else:\n",
        "    for i, pair in enumerate(ARR[index]):\n",
        "      if pair[0] == key:\n",
        "        ARR[index][i] = (key, value)\n",
        "        return\n",
        "\n",
        "    ARR[index].append((key, value))\n"
      ],
      "metadata": {
        "id": "ftG9Hr7ZH9bK"
      },
      "execution_count": 44,
      "outputs": []
    },
    {
      "cell_type": "code",
      "source": [
        "def get_value(key):\n",
        "  index = hash(key) % MAX_SIZE\n",
        "\n",
        "  if ARR[index]:\n",
        "    for pair in ARR[index]:\n",
        "      if pair[0] == key:\n",
        "        return pair[1]\n",
        "\n",
        "  return None"
      ],
      "metadata": {
        "id": "3udR4RXHIaE5"
      },
      "execution_count": 45,
      "outputs": []
    },
    {
      "cell_type": "code",
      "source": [
        "set_value(35, \"scaler\")\n",
        "set_value(135, \"python\")"
      ],
      "metadata": {
        "colab": {
          "base_uri": "https://localhost:8080/"
        },
        "id": "hIfScO7IP2sf",
        "outputId": "0de7cede-2fd2-4176-b9a9-f735a31d7a64"
      },
      "execution_count": 46,
      "outputs": [
        {
          "output_type": "stream",
          "name": "stdout",
          "text": [
            "setting 35\n",
            "setting 135\n"
          ]
        }
      ]
    },
    {
      "cell_type": "code",
      "source": [
        "get_value(35)"
      ],
      "metadata": {
        "colab": {
          "base_uri": "https://localhost:8080/",
          "height": 35
        },
        "id": "n054RwWNQBD5",
        "outputId": "290be169-32d4-4be9-a7e1-650900395c82"
      },
      "execution_count": 42,
      "outputs": [
        {
          "output_type": "execute_result",
          "data": {
            "text/plain": [
              "'scaler'"
            ],
            "application/vnd.google.colaboratory.intrinsic+json": {
              "type": "string"
            }
          },
          "metadata": {},
          "execution_count": 42
        }
      ]
    },
    {
      "cell_type": "code",
      "source": [
        "set_value(\"name\", \"scaler\")\n",
        "set_value(\"language\", \"python\")\n",
        "print(get_value(\"name\"))\n",
        "set_value(\"language\", \"ruby\")\n",
        "print(get_value(\"language\"))"
      ],
      "metadata": {
        "colab": {
          "base_uri": "https://localhost:8080/"
        },
        "id": "RYZ9Ux2iIiUl",
        "outputId": "41a55a3e-3689-4564-d4de-d21333811a2d"
      },
      "execution_count": 27,
      "outputs": [
        {
          "output_type": "stream",
          "name": "stdout",
          "text": [
            "setting 15\n",
            "setting 35\n",
            "scaler\n",
            "setting 35\n",
            "ruby\n"
          ]
        }
      ]
    },
    {
      "cell_type": "code",
      "source": [
        "print(hash(2345654323456543234565432))\n",
        "print(hash(2345654323456543234565433))"
      ],
      "metadata": {
        "colab": {
          "base_uri": "https://localhost:8080/"
        },
        "id": "4xxJhcXlIzR6",
        "outputId": "d09db696-1fc6-4295-c55c-29b5c175c83a"
      },
      "execution_count": 17,
      "outputs": [
        {
          "output_type": "stream",
          "name": "stdout",
          "text": [
            "934688774857501417\n",
            "934688774857501418\n"
          ]
        }
      ]
    },
    {
      "cell_type": "code",
      "source": [],
      "metadata": {
        "id": "HSLXZ5tOJTTt"
      },
      "execution_count": null,
      "outputs": []
    }
  ]
}