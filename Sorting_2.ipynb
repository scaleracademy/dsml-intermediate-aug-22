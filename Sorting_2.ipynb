{
  "nbformat": 4,
  "nbformat_minor": 0,
  "metadata": {
    "colab": {
      "provenance": [],
      "collapsed_sections": [],
      "authorship_tag": "ABX9TyOYSjgeKxtO1fJ4gXRS+GgF",
      "include_colab_link": true
    },
    "kernelspec": {
      "name": "python3",
      "display_name": "Python 3"
    },
    "language_info": {
      "name": "python"
    }
  },
  "cells": [
    {
      "cell_type": "markdown",
      "metadata": {
        "id": "view-in-github",
        "colab_type": "text"
      },
      "source": [
        "<a href=\"https://colab.research.google.com/github/scaleracademy/dsml-intermediate-aug-22/blob/main/Sorting_2.ipynb\" target=\"_parent\"><img src=\"https://colab.research.google.com/assets/colab-badge.svg\" alt=\"Open In Colab\"/></a>"
      ]
    },
    {
      "cell_type": "code",
      "execution_count": 61,
      "metadata": {
        "id": "qc1MTn0QzKB2"
      },
      "outputs": [],
      "source": [
        "# arr1 and arr2 are sorted arrays\n",
        "# max comparisons = len(arr1) + len(arr2) - 1\n",
        "# TC = O(n)\n",
        "def merge(arr1, arr2):\n",
        "  result = []\n",
        "  i = 0\n",
        "  j = 0\n",
        "\n",
        "  while i < len(arr1) and j < len(arr2):\n",
        "    if arr1[i] < arr2[j]:\n",
        "      result.append(arr1[i])\n",
        "      i += 1\n",
        "    else:\n",
        "      result.append(arr2[j])\n",
        "      j += 1\n",
        "    \n",
        "  result += arr1[i:]\n",
        "  result += arr2[j:]\n",
        "\n",
        "  return result"
      ]
    },
    {
      "cell_type": "code",
      "source": [
        "arr = [1, 2, 3]\n",
        "print(arr[10:])"
      ],
      "metadata": {
        "colab": {
          "base_uri": "https://localhost:8080/"
        },
        "id": "1SrZSE7v5i0W",
        "outputId": "02337850-607a-4a33-c7f8-792881faf004"
      },
      "execution_count": 62,
      "outputs": [
        {
          "output_type": "stream",
          "name": "stdout",
          "text": [
            "[]\n"
          ]
        }
      ]
    },
    {
      "cell_type": "code",
      "source": [
        "merge([2, 3, 6, 8, 12, 15], [1, 9, 10])"
      ],
      "metadata": {
        "colab": {
          "base_uri": "https://localhost:8080/"
        },
        "id": "baMoxBnV5kvT",
        "outputId": "8ace4245-ea0a-4adc-a187-752dec12a003"
      },
      "execution_count": 63,
      "outputs": [
        {
          "output_type": "execute_result",
          "data": {
            "text/plain": [
              "[1, 2, 3, 6, 8, 9, 10, 12, 15]"
            ]
          },
          "metadata": {},
          "execution_count": 63
        }
      ]
    },
    {
      "cell_type": "code",
      "source": [
        "arr = [5]"
      ],
      "metadata": {
        "id": "COpdWhLz5u1i"
      },
      "execution_count": null,
      "outputs": []
    },
    {
      "cell_type": "markdown",
      "source": [
        "width 1 = 2^0 <br>\n",
        "`4, 8, 2, 1, 7, 5, 6, 3`\n",
        "\n",
        "width 2 = 2^1<br>\n",
        "`4, 8, 1, 2, 5, 7, 3, 6`\n",
        "\n",
        "width 4 = 2^2<br>\n",
        "`1, 2, 4, 8, 3, 5, 6, 7`\n",
        "\n",
        "width 8 = 2^3<br>\n",
        "`1, 2, 3, 4, 5, 6, 7, 8`"
      ],
      "metadata": {
        "id": "Fg_RnUrQ-upp"
      }
    },
    {
      "cell_type": "code",
      "source": [
        "def merge(arr, start, middle, end):\n",
        "  result = []\n",
        "  i = start\n",
        "  j = middle\n",
        "\n",
        "  while i < middle and j < end:\n",
        "    if arr[i] < arr[j]:\n",
        "      result.append(arr[i])\n",
        "      i += 1\n",
        "    else:\n",
        "      result.append(arr[j])\n",
        "      j += 1\n",
        "    \n",
        "  result += arr[i:middle]\n",
        "  result += arr[j:end]\n",
        "\n",
        "  for i in range(len(result)):\n",
        "    arr[start + i] = result[i]"
      ],
      "metadata": {
        "id": "2eTXuBKXD6se"
      },
      "execution_count": 65,
      "outputs": []
    },
    {
      "cell_type": "code",
      "source": [
        "def merge_sort(arr):\n",
        "  width = 1\n",
        "  n = len(arr)\n",
        "  while width < n:\n",
        "    start = 0\n",
        "    while start < n:\n",
        "      end = min(start + width*2, n)\n",
        "      middle = min(start + width, n)\n",
        "\n",
        "      merge(arr, start, middle, end)\n",
        "\n",
        "      start += width*2\n",
        "    width *= 2\n",
        "  return arr"
      ],
      "metadata": {
        "id": "Yt8FFlIx-vJU"
      },
      "execution_count": 75,
      "outputs": []
    },
    {
      "cell_type": "code",
      "source": [
        "arr = [4, 8, 2, 1, 7, 5, 6, 3]\n",
        "merge_sort(arr)"
      ],
      "metadata": {
        "colab": {
          "base_uri": "https://localhost:8080/"
        },
        "id": "sBUnG6yBBJzw",
        "outputId": "dbff27c2-5433-4d8a-bd2e-daa0a346c81c"
      },
      "execution_count": 76,
      "outputs": [
        {
          "output_type": "stream",
          "name": "stdout",
          "text": [
            "[4, 8, 2, 1, 7, 5, 6, 3]\n",
            "0 2 [4, 8, 2, 1, 7, 5, 6, 3]\n",
            "2 4 [4, 8, 1, 2, 7, 5, 6, 3]\n",
            "4 6 [4, 8, 1, 2, 5, 7, 6, 3]\n",
            "6 8 [4, 8, 1, 2, 5, 7, 3, 6]\n",
            "0 4 [1, 2, 4, 8, 5, 7, 3, 6]\n",
            "4 8 [1, 2, 4, 8, 3, 5, 6, 7]\n",
            "0 8 [1, 2, 3, 4, 5, 6, 7, 8]\n"
          ]
        },
        {
          "output_type": "execute_result",
          "data": {
            "text/plain": [
              "[1, 2, 3, 4, 5, 6, 7, 8]"
            ]
          },
          "metadata": {},
          "execution_count": 76
        }
      ]
    },
    {
      "cell_type": "code",
      "source": [
        "arr = [5, 1, 3, 2, 4]\n",
        "merge_sort(arr)"
      ],
      "metadata": {
        "colab": {
          "base_uri": "https://localhost:8080/"
        },
        "id": "QHQkB0WKBNTT",
        "outputId": "f82e507a-1679-4fd6-f152-67359fbea2a3"
      },
      "execution_count": 72,
      "outputs": [
        {
          "output_type": "execute_result",
          "data": {
            "text/plain": [
              "[1, 2, 3, 4, 5]"
            ]
          },
          "metadata": {},
          "execution_count": 72
        }
      ]
    },
    {
      "cell_type": "code",
      "source": [
        "# Sample inputs\n",
        "arr = [5, 1, 3, 2, 4]\n",
        "merge(arr, 2, 3, 4) # width = 1\n",
        "merge(arr, 0, 2, 4) # width = 2\n",
        "\n",
        "arr = [4, 5, 2, 3, 1]\n",
        "arr = [6, 5, 1, 3, 2, 4]\n",
        "arr = [4, 8, 2, 1, 7, 5, 6, 3]"
      ],
      "metadata": {
        "id": "TSHMsJemKFWb"
      },
      "execution_count": null,
      "outputs": []
    },
    {
      "cell_type": "code",
      "source": [],
      "metadata": {
        "id": "658uTxT2OeAq"
      },
      "execution_count": null,
      "outputs": []
    }
  ]
}