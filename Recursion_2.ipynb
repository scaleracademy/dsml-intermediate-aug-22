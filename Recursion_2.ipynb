{
  "nbformat": 4,
  "nbformat_minor": 0,
  "metadata": {
    "colab": {
      "provenance": [],
      "authorship_tag": "ABX9TyNmYr2hwuwguzTT8r/vRsbR",
      "include_colab_link": true
    },
    "kernelspec": {
      "name": "python3",
      "display_name": "Python 3"
    },
    "language_info": {
      "name": "python"
    }
  },
  "cells": [
    {
      "cell_type": "markdown",
      "metadata": {
        "id": "view-in-github",
        "colab_type": "text"
      },
      "source": [
        "<a href=\"https://colab.research.google.com/github/scaleracademy/dsml-intermediate-aug-22/blob/main/Recursion_2.ipynb\" target=\"_parent\"><img src=\"https://colab.research.google.com/assets/colab-badge.svg\" alt=\"Open In Colab\"/></a>"
      ]
    },
    {
      "cell_type": "markdown",
      "source": [
        "Sum of `N` natural numbers"
      ],
      "metadata": {
        "id": "hf08IloJmxqP"
      }
    },
    {
      "cell_type": "code",
      "execution_count": 1,
      "metadata": {
        "id": "OsGd8_ikeAeq"
      },
      "outputs": [],
      "source": [
        "def sum_rec(n):\n",
        "  if n == 0:\n",
        "    return n\n",
        "\n",
        "  return n + sum_rec(n-2)"
      ]
    },
    {
      "cell_type": "code",
      "source": [
        "sum_rec(1000)"
      ],
      "metadata": {
        "colab": {
          "base_uri": "https://localhost:8080/",
          "height": 318
        },
        "id": "UnBEYvbsnAxM",
        "outputId": "1cad91ad-c1c2-4062-f6cd-a64916384de7"
      },
      "execution_count": 7,
      "outputs": [
        {
          "output_type": "error",
          "ename": "RecursionError",
          "evalue": "ignored",
          "traceback": [
            "\u001b[0;31m---------------------------------------------------------------------------\u001b[0m",
            "\u001b[0;31mRecursionError\u001b[0m                            Traceback (most recent call last)",
            "\u001b[0;32m<ipython-input-7-19b1305c5fed>\u001b[0m in \u001b[0;36m<module>\u001b[0;34m\u001b[0m\n\u001b[0;32m----> 1\u001b[0;31m \u001b[0msum_rec\u001b[0m\u001b[0;34m(\u001b[0m\u001b[0;36m1000\u001b[0m\u001b[0;34m)\u001b[0m\u001b[0;34m\u001b[0m\u001b[0;34m\u001b[0m\u001b[0m\n\u001b[0m",
            "\u001b[0;32m<ipython-input-1-3d084be24b41>\u001b[0m in \u001b[0;36msum_rec\u001b[0;34m(n)\u001b[0m\n\u001b[1;32m      3\u001b[0m     \u001b[0;32mreturn\u001b[0m \u001b[0mn\u001b[0m\u001b[0;34m\u001b[0m\u001b[0;34m\u001b[0m\u001b[0m\n\u001b[1;32m      4\u001b[0m \u001b[0;34m\u001b[0m\u001b[0m\n\u001b[0;32m----> 5\u001b[0;31m   \u001b[0;32mreturn\u001b[0m \u001b[0mn\u001b[0m \u001b[0;34m+\u001b[0m \u001b[0msum_rec\u001b[0m\u001b[0;34m(\u001b[0m\u001b[0mn\u001b[0m\u001b[0;34m-\u001b[0m\u001b[0;36m1\u001b[0m\u001b[0;34m)\u001b[0m\u001b[0;34m\u001b[0m\u001b[0;34m\u001b[0m\u001b[0m\n\u001b[0m",
            "... last 1 frames repeated, from the frame below ...\n",
            "\u001b[0;32m<ipython-input-1-3d084be24b41>\u001b[0m in \u001b[0;36msum_rec\u001b[0;34m(n)\u001b[0m\n\u001b[1;32m      3\u001b[0m     \u001b[0;32mreturn\u001b[0m \u001b[0mn\u001b[0m\u001b[0;34m\u001b[0m\u001b[0;34m\u001b[0m\u001b[0m\n\u001b[1;32m      4\u001b[0m \u001b[0;34m\u001b[0m\u001b[0m\n\u001b[0;32m----> 5\u001b[0;31m   \u001b[0;32mreturn\u001b[0m \u001b[0mn\u001b[0m \u001b[0;34m+\u001b[0m \u001b[0msum_rec\u001b[0m\u001b[0;34m(\u001b[0m\u001b[0mn\u001b[0m\u001b[0;34m-\u001b[0m\u001b[0;36m1\u001b[0m\u001b[0;34m)\u001b[0m\u001b[0;34m\u001b[0m\u001b[0;34m\u001b[0m\u001b[0m\n\u001b[0m",
            "\u001b[0;31mRecursionError\u001b[0m: maximum recursion depth exceeded in comparison"
          ]
        }
      ]
    },
    {
      "cell_type": "code",
      "source": [
        "def sum_rec(start, end):\n",
        "  if start == end:\n",
        "    return start\n",
        "  \n",
        "  mid = (start + end) // 2\n",
        "\n",
        "  return sum_rec(start, mid) + sum_rec(mid + 1, end)"
      ],
      "metadata": {
        "id": "m9erlnP5scyi"
      },
      "execution_count": 14,
      "outputs": []
    },
    {
      "cell_type": "code",
      "source": [
        "sum_rec(0, 1000000)"
      ],
      "metadata": {
        "colab": {
          "base_uri": "https://localhost:8080/"
        },
        "id": "N7NIS5wXsxmU",
        "outputId": "51217fde-f3b1-4d9b-e843-4e016c5d2aba"
      },
      "execution_count": 15,
      "outputs": [
        {
          "output_type": "execute_result",
          "data": {
            "text/plain": [
              "500000500000"
            ]
          },
          "metadata": {},
          "execution_count": 15
        }
      ]
    },
    {
      "cell_type": "code",
      "source": [
        "def sum_n_natural_numbers(n):\n",
        "  return (n*(n+1))/2"
      ],
      "metadata": {
        "id": "cWivU0msnB3W"
      },
      "execution_count": 5,
      "outputs": []
    },
    {
      "cell_type": "code",
      "source": [
        "sum_n_natural_numbers(5)"
      ],
      "metadata": {
        "colab": {
          "base_uri": "https://localhost:8080/"
        },
        "id": "y2nFLrwXnYFy",
        "outputId": "9730504a-9d71-479f-9c03-1e3204c56480"
      },
      "execution_count": 6,
      "outputs": [
        {
          "output_type": "execute_result",
          "data": {
            "text/plain": [
              "15.0"
            ]
          },
          "metadata": {},
          "execution_count": 6
        }
      ]
    },
    {
      "cell_type": "code",
      "source": [
        "def fib(n, memo):\n",
        "  if n <= 1:\n",
        "    return n\n",
        "\n",
        "  if n in memo:\n",
        "    return memo[n]\n",
        "  \n",
        "  result = fib(n-1, memo) + fib(n-2, memo)\n",
        "  memo[n] = result\n",
        "  return result"
      ],
      "metadata": {
        "id": "X8IJG7trnZKE"
      },
      "execution_count": 47,
      "outputs": []
    },
    {
      "cell_type": "code",
      "source": [
        "n = 100\n",
        "memo = {}\n",
        "fib(n, memo)"
      ],
      "metadata": {
        "colab": {
          "base_uri": "https://localhost:8080/"
        },
        "id": "2br5isOzuCkU",
        "outputId": "800ec402-9ae3-4e5a-8e5d-93168aa67f5e"
      },
      "execution_count": 48,
      "outputs": [
        {
          "output_type": "execute_result",
          "data": {
            "text/plain": [
              "354224848179261915075"
            ]
          },
          "metadata": {},
          "execution_count": 48
        }
      ]
    },
    {
      "cell_type": "code",
      "source": [
        "memo"
      ],
      "metadata": {
        "colab": {
          "base_uri": "https://localhost:8080/"
        },
        "id": "3RokcORAuDV3",
        "outputId": "5c71dfe1-19d9-4fdf-d94f-9e31e6b1a40c"
      },
      "execution_count": 49,
      "outputs": [
        {
          "output_type": "execute_result",
          "data": {
            "text/plain": [
              "{2: 1,\n",
              " 3: 2,\n",
              " 4: 3,\n",
              " 5: 5,\n",
              " 6: 8,\n",
              " 7: 13,\n",
              " 8: 21,\n",
              " 9: 34,\n",
              " 10: 55,\n",
              " 11: 89,\n",
              " 12: 144,\n",
              " 13: 233,\n",
              " 14: 377,\n",
              " 15: 610,\n",
              " 16: 987,\n",
              " 17: 1597,\n",
              " 18: 2584,\n",
              " 19: 4181,\n",
              " 20: 6765,\n",
              " 21: 10946,\n",
              " 22: 17711,\n",
              " 23: 28657,\n",
              " 24: 46368,\n",
              " 25: 75025,\n",
              " 26: 121393,\n",
              " 27: 196418,\n",
              " 28: 317811,\n",
              " 29: 514229,\n",
              " 30: 832040,\n",
              " 31: 1346269,\n",
              " 32: 2178309,\n",
              " 33: 3524578,\n",
              " 34: 5702887,\n",
              " 35: 9227465,\n",
              " 36: 14930352,\n",
              " 37: 24157817,\n",
              " 38: 39088169,\n",
              " 39: 63245986,\n",
              " 40: 102334155,\n",
              " 41: 165580141,\n",
              " 42: 267914296,\n",
              " 43: 433494437,\n",
              " 44: 701408733,\n",
              " 45: 1134903170,\n",
              " 46: 1836311903,\n",
              " 47: 2971215073,\n",
              " 48: 4807526976,\n",
              " 49: 7778742049,\n",
              " 50: 12586269025,\n",
              " 51: 20365011074,\n",
              " 52: 32951280099,\n",
              " 53: 53316291173,\n",
              " 54: 86267571272,\n",
              " 55: 139583862445,\n",
              " 56: 225851433717,\n",
              " 57: 365435296162,\n",
              " 58: 591286729879,\n",
              " 59: 956722026041,\n",
              " 60: 1548008755920,\n",
              " 61: 2504730781961,\n",
              " 62: 4052739537881,\n",
              " 63: 6557470319842,\n",
              " 64: 10610209857723,\n",
              " 65: 17167680177565,\n",
              " 66: 27777890035288,\n",
              " 67: 44945570212853,\n",
              " 68: 72723460248141,\n",
              " 69: 117669030460994,\n",
              " 70: 190392490709135,\n",
              " 71: 308061521170129,\n",
              " 72: 498454011879264,\n",
              " 73: 806515533049393,\n",
              " 74: 1304969544928657,\n",
              " 75: 2111485077978050,\n",
              " 76: 3416454622906707,\n",
              " 77: 5527939700884757,\n",
              " 78: 8944394323791464,\n",
              " 79: 14472334024676221,\n",
              " 80: 23416728348467685,\n",
              " 81: 37889062373143906,\n",
              " 82: 61305790721611591,\n",
              " 83: 99194853094755497,\n",
              " 84: 160500643816367088,\n",
              " 85: 259695496911122585,\n",
              " 86: 420196140727489673,\n",
              " 87: 679891637638612258,\n",
              " 88: 1100087778366101931,\n",
              " 89: 1779979416004714189,\n",
              " 90: 2880067194370816120,\n",
              " 91: 4660046610375530309,\n",
              " 92: 7540113804746346429,\n",
              " 93: 12200160415121876738,\n",
              " 94: 19740274219868223167,\n",
              " 95: 31940434634990099905,\n",
              " 96: 51680708854858323072,\n",
              " 97: 83621143489848422977,\n",
              " 98: 135301852344706746049,\n",
              " 99: 218922995834555169026,\n",
              " 100: 354224848179261915075}"
            ]
          },
          "metadata": {},
          "execution_count": 49
        }
      ]
    },
    {
      "cell_type": "code",
      "source": [
        "something = 5\n",
        "def foo(a):\n",
        "  return a * something"
      ],
      "metadata": {
        "id": "BX7LKw6pu3xp"
      },
      "execution_count": 34,
      "outputs": []
    },
    {
      "cell_type": "code",
      "source": [
        "foo(2)"
      ],
      "metadata": {
        "colab": {
          "base_uri": "https://localhost:8080/"
        },
        "id": "p4SEUDd6v4VW",
        "outputId": "38d52f25-3908-48bd-9dbf-28b2040a97ff"
      },
      "execution_count": 35,
      "outputs": [
        {
          "output_type": "execute_result",
          "data": {
            "text/plain": [
              "10"
            ]
          },
          "metadata": {},
          "execution_count": 35
        }
      ]
    },
    {
      "cell_type": "code",
      "source": [
        "something = 2\n",
        "foo(2)"
      ],
      "metadata": {
        "colab": {
          "base_uri": "https://localhost:8080/"
        },
        "id": "p_PdnY_Uv7CB",
        "outputId": "2ec01f49-1427-4302-ac28-3e6c60f28800"
      },
      "execution_count": 36,
      "outputs": [
        {
          "output_type": "execute_result",
          "data": {
            "text/plain": [
              "4"
            ]
          },
          "metadata": {},
          "execution_count": 36
        }
      ]
    },
    {
      "cell_type": "code",
      "source": [
        "def fib(n) :\n",
        "    # Base cases\n",
        "    if (n == 0) :\n",
        "        return 0\n",
        "    if (n == 1):\n",
        "        return 1\n",
        " \n",
        "    if( n & 1) :\n",
        "        k = (n + 1) // 2\n",
        "    else :\n",
        "        k = n // 2\n",
        " \n",
        "    # Applying above formula [Note value n&1 is 1\n",
        "    # if n is odd, else 0.\n",
        "    if((n & 1) ) :\n",
        "        return (fib(k) * fib(k) + fib(k-1) * fib(k-1))\n",
        "    else :\n",
        "        return (2*fib(k-1) + fib(k))*fib(k)\n",
        " \n",
        " \n",
        "# Driver code\n",
        "n = 10000\n",
        "print(fib(n))"
      ],
      "metadata": {
        "colab": {
          "base_uri": "https://localhost:8080/"
        },
        "id": "7w00JjwRv8bO",
        "outputId": "98624f26-78a7-4ca6-9a3a-81f49d897bcd"
      },
      "execution_count": 51,
      "outputs": [
        {
          "output_type": "stream",
          "name": "stdout",
          "text": [
            "33644764876431783266621612005107543310302148460680063906564769974680081442166662368155595513633734025582065332680836159373734790483865268263040892463056431887354544369559827491606602099884183933864652731300088830269235673613135117579297437854413752130520504347701602264758318906527890855154366159582987279682987510631200575428783453215515103870818298969791613127856265033195487140214287532698187962046936097879900350962302291026368131493195275630227837628441540360584402572114334961180023091208287046088923962328835461505776583271252546093591128203925285393434620904245248929403901706233888991085841065183173360437470737908552631764325733993712871937587746897479926305837065742830161637408969178426378624212835258112820516370298089332099905707920064367426202389783111470054074998459250360633560933883831923386783056136435351892133279732908133732642652633989763922723407882928177953580570993691049175470808931841056146322338217465637321248226383092103297701648054726243842374862411453093812206564914032751086643394517512161526545361333111314042436854805106765843493523836959653428071768775328348234345557366719731392746273629108210679280784718035329131176778924659089938635459327894523777674406192240337638674004021330343297496902028328145933418826817683893072003634795623117103101291953169794607632737589253530772552375943788434504067715555779056450443016640119462580972216729758615026968443146952034614932291105970676243268515992834709891284706740862008587135016260312071903172086094081298321581077282076353186624611278245537208532365305775956430072517744315051539600905168603220349163222640885248852433158051534849622434848299380905070483482449327453732624567755879089187190803662058009594743150052402532709746995318770724376825907419939632265984147498193609285223945039707165443156421328157688908058783183404917434556270520223564846495196112460268313970975069382648706613264507665074611512677522748621598642530711298441182622661057163515069260029861704945425047491378115154139941550671256271197133252763631939606902895650288268608362241082050562430701794976171121233066073310059947366875\n"
          ]
        }
      ]
    },
    {
      "cell_type": "code",
      "source": [
        "def linear_search(arr, el):\n",
        "  if arr[0] == el:\n",
        "    return 0\n",
        "  \n",
        "  if len(arr) == 0:\n",
        "    return -1\n",
        "\n",
        "  return 1 + linear_search(arr[1:], el)"
      ],
      "metadata": {
        "id": "SXLA5mkvyjy_"
      },
      "execution_count": 55,
      "outputs": []
    },
    {
      "cell_type": "code",
      "source": [
        "linear_search([5, 1, 4, 2, 3], 2)"
      ],
      "metadata": {
        "colab": {
          "base_uri": "https://localhost:8080/"
        },
        "id": "NmA0hpJf0Fpk",
        "outputId": "31ca4fcf-2f58-4613-e5b7-10e44d051a89"
      },
      "execution_count": 56,
      "outputs": [
        {
          "output_type": "execute_result",
          "data": {
            "text/plain": [
              "3"
            ]
          },
          "metadata": {},
          "execution_count": 56
        }
      ]
    },
    {
      "cell_type": "code",
      "source": [
        "def binary_search(arr, el):\n",
        "  if len(arr) == 0:\n",
        "    return -1\n",
        "\n",
        "  mid = len(arr) // 2\n",
        "\n",
        "  if arr[mid] == el:\n",
        "    return mid\n",
        "  \n",
        "  elif arr[mid] > el:\n",
        "    return binary_search(arr[:mid], el)\n",
        "\n",
        "  elif arr[mid] < el:\n",
        "    idx = binary_search(arr[mid+1:], el)\n",
        "\n",
        "    if idx == -1:\n",
        "      return -1\n",
        "      \n",
        "    return mid + 1 + idx"
      ],
      "metadata": {
        "id": "WzH9bVPx0WVM"
      },
      "execution_count": 69,
      "outputs": []
    },
    {
      "cell_type": "code",
      "source": [
        "binary_search([1, 2, 3, 4, 5, 6, 7, 9, 10, 11], 8)"
      ],
      "metadata": {
        "colab": {
          "base_uri": "https://localhost:8080/"
        },
        "id": "gyAFYUja1_-6",
        "outputId": "f1792de6-55e8-4881-f937-e89222a627d0"
      },
      "execution_count": 70,
      "outputs": [
        {
          "output_type": "execute_result",
          "data": {
            "text/plain": [
              "-1"
            ]
          },
          "metadata": {},
          "execution_count": 70
        }
      ]
    },
    {
      "cell_type": "code",
      "source": [
        "arr = [1, 2, 3, 4, 5, 6]\n",
        "mid = len(arr) // 2\n",
        "\n",
        "print(arr[:mid])\n",
        "print(arr[mid+1:])\n",
        "print(arr)"
      ],
      "metadata": {
        "colab": {
          "base_uri": "https://localhost:8080/"
        },
        "id": "oWX3taBV2CtB",
        "outputId": "b28aa2c6-9ce1-4953-ecee-8fd1862c8841"
      },
      "execution_count": 73,
      "outputs": [
        {
          "output_type": "stream",
          "name": "stdout",
          "text": [
            "[1, 2, 3]\n",
            "[5, 6]\n",
            "[1, 2, 3, 4, 5, 6]\n"
          ]
        }
      ]
    },
    {
      "cell_type": "code",
      "source": [
        "def foo(n):\n",
        "  result = []\n",
        "  for i in range(n):\n",
        "    result.append(i)\n",
        "\n",
        "  return result"
      ],
      "metadata": {
        "id": "xBx1s3pw2wXL"
      },
      "execution_count": null,
      "outputs": []
    }
  ]
}