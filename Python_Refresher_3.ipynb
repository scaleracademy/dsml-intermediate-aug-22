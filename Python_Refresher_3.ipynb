{
  "nbformat": 4,
  "nbformat_minor": 0,
  "metadata": {
    "colab": {
      "name": "Python Refresher 3",
      "provenance": [],
      "collapsed_sections": [],
      "authorship_tag": "ABX9TyNVXsfSF2SVAYpO3AFqPoNr",
      "include_colab_link": true
    },
    "kernelspec": {
      "name": "python3",
      "display_name": "Python 3"
    },
    "language_info": {
      "name": "python"
    }
  },
  "cells": [
    {
      "cell_type": "markdown",
      "metadata": {
        "id": "view-in-github",
        "colab_type": "text"
      },
      "source": [
        "<a href=\"https://colab.research.google.com/github/scaleracademy/dsml-intermediate-aug-22/blob/main/Python_Refresher_3.ipynb\" target=\"_parent\"><img src=\"https://colab.research.google.com/assets/colab-badge.svg\" alt=\"Open In Colab\"/></a>"
      ]
    },
    {
      "cell_type": "markdown",
      "source": [
        "## Lists"
      ],
      "metadata": {
        "id": "7tL2VGQ7MiDY"
      }
    },
    {
      "cell_type": "code",
      "source": [
        "a = []"
      ],
      "metadata": {
        "id": "CioM8wMnMh9G"
      },
      "execution_count": 1,
      "outputs": []
    },
    {
      "cell_type": "code",
      "execution_count": 2,
      "metadata": {
        "id": "Kmh7R8PoJoRe"
      },
      "outputs": [],
      "source": [
        "a = [1, 2, 3, 4, 5]"
      ]
    },
    {
      "cell_type": "code",
      "source": [
        "for x in a:\n",
        "  print(x**2)"
      ],
      "metadata": {
        "colab": {
          "base_uri": "https://localhost:8080/"
        },
        "id": "eUf4LenuM-zK",
        "outputId": "f0ff2831-0341-4a70-bfde-df6971a81162"
      },
      "execution_count": 3,
      "outputs": [
        {
          "output_type": "stream",
          "name": "stdout",
          "text": [
            "1\n",
            "4\n",
            "9\n",
            "16\n",
            "25\n"
          ]
        }
      ]
    },
    {
      "cell_type": "code",
      "source": [
        "it = iter(a)"
      ],
      "metadata": {
        "id": "RGP9iwWWNFOv"
      },
      "execution_count": 4,
      "outputs": []
    },
    {
      "cell_type": "code",
      "source": [
        "next(it)"
      ],
      "metadata": {
        "colab": {
          "base_uri": "https://localhost:8080/"
        },
        "id": "3yn_6J6WNLk9",
        "outputId": "46410078-ecc3-4dc2-bf72-2ee5ca39abc7"
      },
      "execution_count": 5,
      "outputs": [
        {
          "output_type": "execute_result",
          "data": {
            "text/plain": [
              "1"
            ]
          },
          "metadata": {},
          "execution_count": 5
        }
      ]
    },
    {
      "cell_type": "code",
      "source": [
        "a = [1, \"jatin\", print]"
      ],
      "metadata": {
        "id": "LahTr1kSNRiX"
      },
      "execution_count": 6,
      "outputs": []
    },
    {
      "cell_type": "code",
      "source": [
        ""
      ],
      "metadata": {
        "id": "_X4r1KU3NWoZ"
      },
      "execution_count": null,
      "outputs": []
    },
    {
      "cell_type": "markdown",
      "source": [
        "### Operations on list"
      ],
      "metadata": {
        "id": "UBEsgPvtNaaz"
      }
    },
    {
      "cell_type": "code",
      "source": [
        "a = [1, 2, 3, 4]"
      ],
      "metadata": {
        "id": "bvNN7ODpNbwM"
      },
      "execution_count": 7,
      "outputs": []
    },
    {
      "cell_type": "code",
      "source": [
        "len(a)"
      ],
      "metadata": {
        "colab": {
          "base_uri": "https://localhost:8080/"
        },
        "id": "CPXOydLMNfb8",
        "outputId": "1f36e5fc-9c94-4071-f5a2-63b44dca5956"
      },
      "execution_count": 8,
      "outputs": [
        {
          "output_type": "execute_result",
          "data": {
            "text/plain": [
              "4"
            ]
          },
          "metadata": {},
          "execution_count": 8
        }
      ]
    },
    {
      "cell_type": "code",
      "source": [
        "len(range(5))"
      ],
      "metadata": {
        "colab": {
          "base_uri": "https://localhost:8080/"
        },
        "id": "rvJyCJotNf1L",
        "outputId": "9bd6cdfa-436d-4f38-b892-8e9f41924cca"
      },
      "execution_count": 9,
      "outputs": [
        {
          "output_type": "execute_result",
          "data": {
            "text/plain": [
              "5"
            ]
          },
          "metadata": {},
          "execution_count": 9
        }
      ]
    },
    {
      "cell_type": "code",
      "source": [
        "a = [1, 2, 3]\n",
        "b = [4, 5, 6]"
      ],
      "metadata": {
        "id": "UxTtZNScNkqE"
      },
      "execution_count": 10,
      "outputs": []
    },
    {
      "cell_type": "code",
      "source": [
        "a + b"
      ],
      "metadata": {
        "colab": {
          "base_uri": "https://localhost:8080/"
        },
        "id": "fJsHESiINrq5",
        "outputId": "8f8cfaab-bb69-4258-f712-1c9cb954d65e"
      },
      "execution_count": 11,
      "outputs": [
        {
          "output_type": "execute_result",
          "data": {
            "text/plain": [
              "[1, 2, 3, 4, 5, 6]"
            ]
          },
          "metadata": {},
          "execution_count": 11
        }
      ]
    },
    {
      "cell_type": "code",
      "source": [
        "[1, 2, 3] * 3"
      ],
      "metadata": {
        "colab": {
          "base_uri": "https://localhost:8080/"
        },
        "id": "aQ6NixnHNvI5",
        "outputId": "fe0abc9a-9967-47ec-e90a-07e188f3c6e2"
      },
      "execution_count": 12,
      "outputs": [
        {
          "output_type": "execute_result",
          "data": {
            "text/plain": [
              "[1, 2, 3, 1, 2, 3, 1, 2, 3]"
            ]
          },
          "metadata": {},
          "execution_count": 12
        }
      ]
    },
    {
      "cell_type": "code",
      "source": [
        "4 in [1, 2, 3, 4, 5]"
      ],
      "metadata": {
        "colab": {
          "base_uri": "https://localhost:8080/"
        },
        "id": "1xtgOZVDNzyA",
        "outputId": "3081662b-d776-4ec5-c975-0d6d174e8a51"
      },
      "execution_count": 13,
      "outputs": [
        {
          "output_type": "execute_result",
          "data": {
            "text/plain": [
              "True"
            ]
          },
          "metadata": {},
          "execution_count": 13
        }
      ]
    },
    {
      "cell_type": "code",
      "source": [
        "board = [[''] * 3] * 3"
      ],
      "metadata": {
        "id": "ZSNCKOqCN6-u"
      },
      "execution_count": 16,
      "outputs": []
    },
    {
      "cell_type": "code",
      "source": [
        "board[0][1] = 'O'"
      ],
      "metadata": {
        "id": "wZSwwzYBOWw-"
      },
      "execution_count": 17,
      "outputs": []
    },
    {
      "cell_type": "code",
      "source": [
        "board"
      ],
      "metadata": {
        "colab": {
          "base_uri": "https://localhost:8080/"
        },
        "id": "hvd8UXriOjaK",
        "outputId": "efa9e41c-dba3-4922-c8b7-fc167082bbad"
      },
      "execution_count": 18,
      "outputs": [
        {
          "output_type": "execute_result",
          "data": {
            "text/plain": [
              "[['', 'O', ''], ['', 'O', ''], ['', 'O', '']]"
            ]
          },
          "metadata": {},
          "execution_count": 18
        }
      ]
    },
    {
      "cell_type": "code",
      "source": [
        "a = [1, 2, 3]"
      ],
      "metadata": {
        "id": "wcC65x_xOj20"
      },
      "execution_count": 19,
      "outputs": []
    },
    {
      "cell_type": "code",
      "source": [
        "id(a)"
      ],
      "metadata": {
        "colab": {
          "base_uri": "https://localhost:8080/"
        },
        "id": "Iv2BKSEQPQFi",
        "outputId": "ae015937-535c-4505-9dcc-51fa49e39c02"
      },
      "execution_count": 20,
      "outputs": [
        {
          "output_type": "execute_result",
          "data": {
            "text/plain": [
              "139716593734192"
            ]
          },
          "metadata": {},
          "execution_count": 20
        }
      ]
    },
    {
      "cell_type": "code",
      "source": [
        "print(a[0])\n",
        "print(id(a[0]))"
      ],
      "metadata": {
        "colab": {
          "base_uri": "https://localhost:8080/"
        },
        "id": "f2rtTytUPRK7",
        "outputId": "ca5cd649-fad5-4c2c-e8aa-fef94e509e9f"
      },
      "execution_count": 21,
      "outputs": [
        {
          "output_type": "stream",
          "name": "stdout",
          "text": [
            "1\n",
            "11256064\n"
          ]
        }
      ]
    },
    {
      "cell_type": "code",
      "source": [
        "b = 1\n",
        "print(id(b))"
      ],
      "metadata": {
        "colab": {
          "base_uri": "https://localhost:8080/"
        },
        "id": "8EjzG43aPZF7",
        "outputId": "b2ae54f0-6081-43d9-bc3e-0b4c8073c258"
      },
      "execution_count": 22,
      "outputs": [
        {
          "output_type": "stream",
          "name": "stdout",
          "text": [
            "11256064\n"
          ]
        }
      ]
    },
    {
      "cell_type": "code",
      "source": [
        "a = [1, 2, 3]\n",
        "b = a\n",
        "b[0] = 100\n",
        "\n",
        "print(a == b)\n",
        "print(id(a))\n",
        "print(id(b))"
      ],
      "metadata": {
        "colab": {
          "base_uri": "https://localhost:8080/"
        },
        "id": "z7LtwTgaPber",
        "outputId": "1addd33f-aac0-49c1-e1c6-e3b8ddd8094d"
      },
      "execution_count": 25,
      "outputs": [
        {
          "output_type": "stream",
          "name": "stdout",
          "text": [
            "True\n",
            "139716593843728\n",
            "139716593843728\n"
          ]
        }
      ]
    },
    {
      "cell_type": "code",
      "source": [
        "a = 5"
      ],
      "metadata": {
        "id": "2G87vIucPyiN"
      },
      "execution_count": 24,
      "outputs": []
    },
    {
      "cell_type": "code",
      "source": [
        "[[''] * 3]*3"
      ],
      "metadata": {
        "colab": {
          "base_uri": "https://localhost:8080/"
        },
        "id": "gTKkxLzkQHAe",
        "outputId": "f08aa93b-2cf3-4d72-9598-d544e8d8b3a4"
      },
      "execution_count": 27,
      "outputs": [
        {
          "output_type": "execute_result",
          "data": {
            "text/plain": [
              "[['', '', ''], ['', '', ''], ['', '', '']]"
            ]
          },
          "metadata": {},
          "execution_count": 27
        }
      ]
    },
    {
      "cell_type": "code",
      "source": [
        "a = [1, 2, 3]"
      ],
      "metadata": {
        "id": "WuPPtV9VQjEt"
      },
      "execution_count": 28,
      "outputs": []
    },
    {
      "cell_type": "code",
      "source": [
        "a = [''] * 3"
      ],
      "metadata": {
        "id": "l8delzNoQpQz"
      },
      "execution_count": 29,
      "outputs": []
    },
    {
      "cell_type": "code",
      "source": [
        "[a] * 3"
      ],
      "metadata": {
        "colab": {
          "base_uri": "https://localhost:8080/"
        },
        "id": "kZMZGp7HQss2",
        "outputId": "de6c9cff-5e53-46e6-af41-a6581e14b8ad"
      },
      "execution_count": 31,
      "outputs": [
        {
          "output_type": "execute_result",
          "data": {
            "text/plain": [
              "[['', '', ''], ['', '', ''], ['', '', '']]"
            ]
          },
          "metadata": {},
          "execution_count": 31
        }
      ]
    },
    {
      "cell_type": "code",
      "source": [
        "[a] + [a] + [a]"
      ],
      "metadata": {
        "colab": {
          "base_uri": "https://localhost:8080/"
        },
        "id": "N6LZSijbQtVm",
        "outputId": "e5d37e54-8a47-428b-98f0-052f94e2f187"
      },
      "execution_count": 32,
      "outputs": [
        {
          "output_type": "execute_result",
          "data": {
            "text/plain": [
              "[['', '', ''], ['', '', ''], ['', '', '']]"
            ]
          },
          "metadata": {},
          "execution_count": 32
        }
      ]
    },
    {
      "cell_type": "code",
      "source": [
        "[a, a, a]"
      ],
      "metadata": {
        "id": "TfDRlGwuSEOt"
      },
      "execution_count": null,
      "outputs": []
    },
    {
      "cell_type": "code",
      "source": [
        "print(id(a[0]))\n",
        "print(id(a[1]))\n",
        "print(id(a[2]))"
      ],
      "metadata": {
        "colab": {
          "base_uri": "https://localhost:8080/"
        },
        "id": "EME-GrN1Q1qW",
        "outputId": "7df6c294-0564-40d2-e711-c7b10bc66693"
      },
      "execution_count": 33,
      "outputs": [
        {
          "output_type": "stream",
          "name": "stdout",
          "text": [
            "139717137765296\n",
            "139717137765296\n",
            "139717137765296\n"
          ]
        }
      ]
    },
    {
      "cell_type": "code",
      "source": [
        "board"
      ],
      "metadata": {
        "colab": {
          "base_uri": "https://localhost:8080/"
        },
        "id": "Gzl2rLf9Q3sE",
        "outputId": "e94c6558-95f5-4b25-cdc9-34af60b0f5b7"
      },
      "execution_count": 34,
      "outputs": [
        {
          "output_type": "execute_result",
          "data": {
            "text/plain": [
              "[['', 'O', ''], ['', 'O', ''], ['', 'O', '']]"
            ]
          },
          "metadata": {},
          "execution_count": 34
        }
      ]
    },
    {
      "cell_type": "code",
      "source": [
        "a = [''] * 3"
      ],
      "metadata": {
        "id": "HB4ZNnRMQ87c"
      },
      "execution_count": 35,
      "outputs": []
    },
    {
      "cell_type": "code",
      "source": [
        "a[0] = 'O'"
      ],
      "metadata": {
        "id": "HIkug9bITflc"
      },
      "execution_count": 36,
      "outputs": []
    },
    {
      "cell_type": "code",
      "source": [
        "a = '_'"
      ],
      "metadata": {
        "id": "7js26_oYThlO"
      },
      "execution_count": 44,
      "outputs": []
    },
    {
      "cell_type": "code",
      "source": [
        "b = a"
      ],
      "metadata": {
        "id": "CFtN8ZxjTkw8"
      },
      "execution_count": 45,
      "outputs": []
    },
    {
      "cell_type": "code",
      "source": [
        "a = 'O'"
      ],
      "metadata": {
        "id": "cHBkRGeeTljP"
      },
      "execution_count": 46,
      "outputs": []
    },
    {
      "cell_type": "code",
      "source": [
        "print(a)\n",
        "print(b)"
      ],
      "metadata": {
        "colab": {
          "base_uri": "https://localhost:8080/"
        },
        "id": "N32E7koTTprP",
        "outputId": "714ab938-440a-4aec-def2-6f452b9c0ce7"
      },
      "execution_count": 47,
      "outputs": [
        {
          "output_type": "stream",
          "name": "stdout",
          "text": [
            "O\n",
            "_\n"
          ]
        }
      ]
    },
    {
      "cell_type": "code",
      "source": [
        "board = [\" \"]*3"
      ],
      "metadata": {
        "id": "SD6J0ZStTqr0"
      },
      "execution_count": 48,
      "outputs": []
    },
    {
      "cell_type": "code",
      "source": [
        "board[0] = 1"
      ],
      "metadata": {
        "id": "0TV6kjUFUM4u"
      },
      "execution_count": 49,
      "outputs": []
    },
    {
      "cell_type": "code",
      "source": [
        "a = [1, 2, 3]"
      ],
      "metadata": {
        "id": "fL81ImUhUOUb"
      },
      "execution_count": 50,
      "outputs": []
    },
    {
      "cell_type": "code",
      "source": [
        "print(id(a))"
      ],
      "metadata": {
        "colab": {
          "base_uri": "https://localhost:8080/"
        },
        "id": "AY3lW04JVFq_",
        "outputId": "3b4a6c63-9d37-4d4f-f94c-f39c77043a48"
      },
      "execution_count": 51,
      "outputs": [
        {
          "output_type": "stream",
          "name": "stdout",
          "text": [
            "139716593794096\n"
          ]
        }
      ]
    },
    {
      "cell_type": "code",
      "source": [
        "b = list(range(10))"
      ],
      "metadata": {
        "id": "eGMKfWoDVGcK"
      },
      "execution_count": 55,
      "outputs": []
    },
    {
      "cell_type": "code",
      "source": [
        "b"
      ],
      "metadata": {
        "colab": {
          "base_uri": "https://localhost:8080/"
        },
        "id": "_lHDfiM8VPTi",
        "outputId": "6afbb52e-9f6d-42bf-896e-57dd679bfb34"
      },
      "execution_count": 56,
      "outputs": [
        {
          "output_type": "execute_result",
          "data": {
            "text/plain": [
              "[0, 1, 2, 3, 4, 5, 6, 7, 8, 9]"
            ]
          },
          "metadata": {},
          "execution_count": 56
        }
      ]
    },
    {
      "cell_type": "code",
      "source": [
        "id(b)"
      ],
      "metadata": {
        "colab": {
          "base_uri": "https://localhost:8080/"
        },
        "id": "raqPX8_FVH7I",
        "outputId": "e254c74f-29e3-4dff-fced-fe99ecdc697f"
      },
      "execution_count": 54,
      "outputs": [
        {
          "output_type": "execute_result",
          "data": {
            "text/plain": [
              "139716593728720"
            ]
          },
          "metadata": {},
          "execution_count": 54
        }
      ]
    },
    {
      "cell_type": "code",
      "source": [
        "board = [['', '', ''], ['', '', ''], ['', '', '']]"
      ],
      "metadata": {
        "id": "KP-_1C-nVJiY"
      },
      "execution_count": 57,
      "outputs": []
    },
    {
      "cell_type": "code",
      "source": [
        "a = [1, 2, 3, 4, 5, 6, 7, 8, 9]"
      ],
      "metadata": {
        "id": "5egotAx6VyTa"
      },
      "execution_count": 59,
      "outputs": []
    },
    {
      "cell_type": "code",
      "source": [
        "a[1:6:2]"
      ],
      "metadata": {
        "colab": {
          "base_uri": "https://localhost:8080/"
        },
        "id": "ahSrUvzXWEjJ",
        "outputId": "d971f156-0881-4752-f999-597645476d08"
      },
      "execution_count": 61,
      "outputs": [
        {
          "output_type": "execute_result",
          "data": {
            "text/plain": [
              "[2, 4, 6]"
            ]
          },
          "metadata": {},
          "execution_count": 61
        }
      ]
    },
    {
      "cell_type": "code",
      "source": [
        "a[-1]"
      ],
      "metadata": {
        "colab": {
          "base_uri": "https://localhost:8080/"
        },
        "id": "ujrqfTz1WKrw",
        "outputId": "96dbb1ca-e651-41b2-f513-547b6ea7267f"
      },
      "execution_count": 62,
      "outputs": [
        {
          "output_type": "execute_result",
          "data": {
            "text/plain": [
              "9"
            ]
          },
          "metadata": {},
          "execution_count": 62
        }
      ]
    },
    {
      "cell_type": "code",
      "source": [
        "a = [1, 2, 3, 4, 5]"
      ],
      "metadata": {
        "id": "OTBNUMfvWW-o"
      },
      "execution_count": 63,
      "outputs": []
    },
    {
      "cell_type": "code",
      "source": [
        "a[::-1]"
      ],
      "metadata": {
        "colab": {
          "base_uri": "https://localhost:8080/"
        },
        "id": "FMYGAKqxWlR5",
        "outputId": "e9295f8f-7698-498f-d4d5-b90b1f70de43"
      },
      "execution_count": 64,
      "outputs": [
        {
          "output_type": "execute_result",
          "data": {
            "text/plain": [
              "[5, 4, 3, 2, 1]"
            ]
          },
          "metadata": {},
          "execution_count": 64
        }
      ]
    },
    {
      "cell_type": "markdown",
      "source": [
        "https://towardsdatascience.com/how-lists-in-python-are-optimised-internally-for-better-performance-847c8123b7fa\n",
        "\n",
        "https://www.youtube.com/watch?v=rTgjOV0uTV0&ab_channel=SFPython"
      ],
      "metadata": {
        "id": "SUkckyjcY1j-"
      }
    },
    {
      "cell_type": "code",
      "source": [
        "def sheldon_knock():\n",
        "  print(\"knock knock knock penny\")\n",
        "  print(\"knock knock knock penny\")\n",
        "  print(\"knock knock knock penny\")"
      ],
      "metadata": {
        "id": "upXpHp0zWmpQ"
      },
      "execution_count": 65,
      "outputs": []
    },
    {
      "cell_type": "code",
      "source": [
        "sheldon_knock()"
      ],
      "metadata": {
        "colab": {
          "base_uri": "https://localhost:8080/"
        },
        "id": "pZ2rlyaMZos6",
        "outputId": "3d4afaec-c3b7-47b4-82fc-8ed1a3a69a1b"
      },
      "execution_count": 66,
      "outputs": [
        {
          "output_type": "stream",
          "name": "stdout",
          "text": [
            "knock knock knock penny\n",
            "knock knock knock penny\n",
            "knock knock knock penny\n"
          ]
        }
      ]
    },
    {
      "cell_type": "code",
      "source": [
        "def sheldon_knock(name):\n",
        "  for _ in range(3):\n",
        "    print(\"knock knock knock\", name)\n"
      ],
      "metadata": {
        "id": "askEjowfZyG8"
      },
      "execution_count": 67,
      "outputs": []
    },
    {
      "cell_type": "code",
      "source": [
        "sheldon_knock(\"leaonard\")"
      ],
      "metadata": {
        "colab": {
          "base_uri": "https://localhost:8080/"
        },
        "id": "_CrJJXDhZ6on",
        "outputId": "df4a79d3-1378-43e2-8bfe-1d98af87517a"
      },
      "execution_count": 68,
      "outputs": [
        {
          "output_type": "stream",
          "name": "stdout",
          "text": [
            "knock knock knock leaonard\n",
            "knock knock knock leaonard\n",
            "knock knock knock leaonard\n"
          ]
        }
      ]
    },
    {
      "cell_type": "code",
      "source": [
        "def sheldon_knock(name, n = 3):\n",
        "  for _ in range(n):\n",
        "    print(\"knock knock knock\", name)\n"
      ],
      "metadata": {
        "id": "ygl8km6fZ9tQ"
      },
      "execution_count": 69,
      "outputs": []
    },
    {
      "cell_type": "code",
      "source": [
        "sheldon_knock(\"penny\", 10)"
      ],
      "metadata": {
        "colab": {
          "base_uri": "https://localhost:8080/"
        },
        "id": "Op8g1QB5aFwy",
        "outputId": "01d672c6-a9dc-45ce-930c-204651f6a9fd"
      },
      "execution_count": 70,
      "outputs": [
        {
          "output_type": "stream",
          "name": "stdout",
          "text": [
            "knock knock knock penny\n",
            "knock knock knock penny\n",
            "knock knock knock penny\n",
            "knock knock knock penny\n",
            "knock knock knock penny\n",
            "knock knock knock penny\n",
            "knock knock knock penny\n",
            "knock knock knock penny\n",
            "knock knock knock penny\n",
            "knock knock knock penny\n"
          ]
        }
      ]
    },
    {
      "cell_type": "code",
      "source": [
        "sheldon_knock(\"leaonard\")"
      ],
      "metadata": {
        "colab": {
          "base_uri": "https://localhost:8080/"
        },
        "id": "-EiUpDbNaMyX",
        "outputId": "74305652-a926-4c0d-adff-c91bed0ec1b2"
      },
      "execution_count": 71,
      "outputs": [
        {
          "output_type": "stream",
          "name": "stdout",
          "text": [
            "knock knock knock leaonard\n",
            "knock knock knock leaonard\n",
            "knock knock knock leaonard\n"
          ]
        }
      ]
    },
    {
      "cell_type": "code",
      "source": [
        "sheldon_knock()"
      ],
      "metadata": {
        "colab": {
          "base_uri": "https://localhost:8080/",
          "height": 169
        },
        "id": "GuJ-Dx5IaNAL",
        "outputId": "a5ae663c-8071-49b4-93c3-71c38cc934fa"
      },
      "execution_count": 72,
      "outputs": [
        {
          "output_type": "error",
          "ename": "TypeError",
          "evalue": "ignored",
          "traceback": [
            "\u001b[0;31m---------------------------------------------------------------------------\u001b[0m",
            "\u001b[0;31mTypeError\u001b[0m                                 Traceback (most recent call last)",
            "\u001b[0;32m<ipython-input-72-6cdf509e91d6>\u001b[0m in \u001b[0;36m<module>\u001b[0;34m\u001b[0m\n\u001b[0;32m----> 1\u001b[0;31m \u001b[0msheldon_knock\u001b[0m\u001b[0;34m(\u001b[0m\u001b[0;34m)\u001b[0m\u001b[0;34m\u001b[0m\u001b[0;34m\u001b[0m\u001b[0m\n\u001b[0m",
            "\u001b[0;31mTypeError\u001b[0m: sheldon_knock() missing 1 required positional argument: 'name'"
          ]
        }
      ]
    },
    {
      "cell_type": "code",
      "source": [
        "def foo(a, b):\n",
        "  print(a)\n",
        "  print(b)"
      ],
      "metadata": {
        "id": "VZ3hgCLVa8_r"
      },
      "execution_count": 73,
      "outputs": []
    },
    {
      "cell_type": "code",
      "source": [
        "foo(b = 1, a = 2)"
      ],
      "metadata": {
        "colab": {
          "base_uri": "https://localhost:8080/"
        },
        "id": "xjETE0imbCbR",
        "outputId": "ca5cb318-786a-4038-f098-df00a0384612"
      },
      "execution_count": 74,
      "outputs": [
        {
          "output_type": "stream",
          "name": "stdout",
          "text": [
            "2\n",
            "1\n"
          ]
        }
      ]
    },
    {
      "cell_type": "code",
      "source": [
        "def foo(a, b = 4, *args):\n",
        "  print(a)\n",
        "  print(b)\n",
        "  print(args)"
      ],
      "metadata": {
        "id": "MU9ZhstGbDye"
      },
      "execution_count": 79,
      "outputs": []
    },
    {
      "cell_type": "code",
      "source": [
        ""
      ],
      "metadata": {
        "colab": {
          "base_uri": "https://localhost:8080/",
          "height": 169
        },
        "id": "w1y3jznTb8ia",
        "outputId": "b7a86580-0723-4fc8-b7b7-3f3e684a5d82"
      },
      "execution_count": 83,
      "outputs": [
        {
          "output_type": "error",
          "ename": "TypeError",
          "evalue": "ignored",
          "traceback": [
            "\u001b[0;31m---------------------------------------------------------------------------\u001b[0m",
            "\u001b[0;31mTypeError\u001b[0m                                 Traceback (most recent call last)",
            "\u001b[0;32m<ipython-input-83-c19b6d9633cf>\u001b[0m in \u001b[0;36m<module>\u001b[0;34m\u001b[0m\n\u001b[0;32m----> 1\u001b[0;31m \u001b[0mfoo\u001b[0m\u001b[0;34m(\u001b[0m\u001b[0;34m)\u001b[0m\u001b[0;34m\u001b[0m\u001b[0;34m\u001b[0m\u001b[0m\n\u001b[0m",
            "\u001b[0;31mTypeError\u001b[0m: foo() missing 1 required positional argument: 'a'"
          ]
        }
      ]
    },
    {
      "cell_type": "code",
      "source": [
        "def foo(**kwargs):\n",
        "  print(kwargs)"
      ],
      "metadata": {
        "id": "QbbQmUWGb-oA"
      },
      "execution_count": 84,
      "outputs": []
    },
    {
      "cell_type": "code",
      "source": [
        "foo(name = \"jatin\")"
      ],
      "metadata": {
        "colab": {
          "base_uri": "https://localhost:8080/"
        },
        "id": "4T0IXESrdKCP",
        "outputId": "f490cadf-1ccd-4672-f49d-d8407339880b"
      },
      "execution_count": 86,
      "outputs": [
        {
          "output_type": "stream",
          "name": "stdout",
          "text": [
            "{'name': 'jatin'}\n"
          ]
        }
      ]
    },
    {
      "cell_type": "code",
      "source": [
        "# Number of required positional arguments = 1 (a)\n",
        "# Number of required kewworded arguments = 1 (d)\n",
        "# Number of default positional arguments = 1 (b)\n",
        "# Number of default keyworded arguments = 1 (e)\n",
        "def foo(a, b = 4, *c, d, e = 10, **f):\n",
        "  print(a)\n",
        "  print(b)\n",
        "  print(c)\n",
        "  print(d)\n",
        "  print(e)\n",
        "  print(f)"
      ],
      "metadata": {
        "id": "WOVIRtYadLaq"
      },
      "execution_count": 91,
      "outputs": []
    },
    {
      "cell_type": "code",
      "source": [
        "foo(a = 1, b = 9, d = 6)"
      ],
      "metadata": {
        "colab": {
          "base_uri": "https://localhost:8080/"
        },
        "id": "1pDoxIwAda3K",
        "outputId": "219f00f3-72be-4f97-d38f-fdafa072ece8"
      },
      "execution_count": 94,
      "outputs": [
        {
          "output_type": "stream",
          "name": "stdout",
          "text": [
            "1\n",
            "4\n",
            "()\n",
            "6\n",
            "10\n",
            "{}\n"
          ]
        }
      ]
    },
    {
      "cell_type": "code",
      "source": [
        "x = 1\n",
        "a = range(x)\n",
        "for i in a:\n",
        "  x=x+1\n",
        "  print(i, end= \" \") "
      ],
      "metadata": {
        "colab": {
          "base_uri": "https://localhost:8080/"
        },
        "id": "4r1m2zgnd1Tq",
        "outputId": "ed8b7f73-4fd9-4aae-d7c6-8985fd734302"
      },
      "execution_count": 95,
      "outputs": [
        {
          "output_type": "stream",
          "name": "stdout",
          "text": [
            "0 "
          ]
        }
      ]
    },
    {
      "cell_type": "code",
      "source": [
        "a = [[''] * 3] * 3"
      ],
      "metadata": {
        "id": "feEBVIBzgEHh"
      },
      "execution_count": 96,
      "outputs": []
    },
    {
      "cell_type": "code",
      "source": [
        "a[1:]"
      ],
      "metadata": {
        "colab": {
          "base_uri": "https://localhost:8080/"
        },
        "id": "Mee5GGFpgaGq",
        "outputId": "b311d6fd-77c4-4fcf-8ada-0e8e559d9c4c"
      },
      "execution_count": 97,
      "outputs": [
        {
          "output_type": "execute_result",
          "data": {
            "text/plain": [
              "[['', '', ''], ['', '', '']]"
            ]
          },
          "metadata": {},
          "execution_count": 97
        }
      ]
    },
    {
      "cell_type": "code",
      "source": [
        "a = [1, 2, 3, 4]"
      ],
      "metadata": {
        "id": "zxOKa595gfqw"
      },
      "execution_count": 98,
      "outputs": []
    },
    {
      "cell_type": "code",
      "source": [
        "a[1:][1:]"
      ],
      "metadata": {
        "colab": {
          "base_uri": "https://localhost:8080/"
        },
        "id": "i2RazDCkgnvA",
        "outputId": "867185e1-a97c-4f98-9ae5-0a28513334cd"
      },
      "execution_count": 100,
      "outputs": [
        {
          "output_type": "execute_result",
          "data": {
            "text/plain": [
              "[3, 4]"
            ]
          },
          "metadata": {},
          "execution_count": 100
        }
      ]
    },
    {
      "cell_type": "code",
      "source": [
        "def foo(a, *c, d, e = 10, b = 3, **f):\n",
        "  print(a)\n",
        "  print(b)\n",
        "  print(c)\n",
        "  print(d)\n",
        "  print(e)\n",
        "  print(f)"
      ],
      "metadata": {
        "id": "TQtAtGjkgoN9"
      },
      "execution_count": 103,
      "outputs": []
    },
    {
      "cell_type": "code",
      "source": [
        "print(1, 2, 3, 4, 5, end = '')"
      ],
      "metadata": {
        "colab": {
          "base_uri": "https://localhost:8080/"
        },
        "id": "UlI_cgJShQeT",
        "outputId": "9d7bdc28-4c18-4142-cc30-bfbbd0ff8579"
      },
      "execution_count": 104,
      "outputs": [
        {
          "output_type": "stream",
          "name": "stdout",
          "text": [
            "1 2 3 4 5"
          ]
        }
      ]
    },
    {
      "cell_type": "code",
      "source": [
        ""
      ],
      "metadata": {
        "id": "JLGh__EBiZ3D"
      },
      "execution_count": null,
      "outputs": []
    }
  ]
}