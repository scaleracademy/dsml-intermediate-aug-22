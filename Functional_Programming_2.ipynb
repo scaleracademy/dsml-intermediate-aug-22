{
  "nbformat": 4,
  "nbformat_minor": 0,
  "metadata": {
    "colab": {
      "provenance": [],
      "authorship_tag": "ABX9TyNOTi/DRPvbsRkMaoWqTLn5",
      "include_colab_link": true
    },
    "kernelspec": {
      "name": "python3",
      "display_name": "Python 3"
    },
    "language_info": {
      "name": "python"
    }
  },
  "cells": [
    {
      "cell_type": "markdown",
      "metadata": {
        "id": "view-in-github",
        "colab_type": "text"
      },
      "source": [
        "<a href=\"https://colab.research.google.com/github/scaleracademy/dsml-intermediate-aug-22/blob/main/Functional_Programming_2.ipynb\" target=\"_parent\"><img src=\"https://colab.research.google.com/assets/colab-badge.svg\" alt=\"Open In Colab\"/></a>"
      ]
    },
    {
      "cell_type": "markdown",
      "source": [
        "# Class will start at 9:05PM\n",
        "Please curate your doubts in the questions tab."
      ],
      "metadata": {
        "id": "_8oMDEdGdjkK"
      }
    },
    {
      "cell_type": "code",
      "execution_count": 3,
      "metadata": {
        "colab": {
          "base_uri": "https://localhost:8080/"
        },
        "id": "7OMvGIL1ZH_o",
        "outputId": "6fea6962-01ab-4483-a903-2521d46c9387"
      },
      "outputs": [
        {
          "output_type": "execute_result",
          "data": {
            "text/plain": [
              "[{'name': 'A', 'marks': 70},\n",
              " {'name': 'D', 'marks': 80},\n",
              " {'name': 'C', 'marks': 90},\n",
              " {'name': 'B', 'marks': 100}]"
            ]
          },
          "metadata": {},
          "execution_count": 3
        }
      ],
      "source": [
        "students = [\n",
        "    {\"name\": \"A\", \"marks\": 70},\n",
        "    {\"name\": \"B\", \"marks\": 100},\n",
        "    {\"name\": \"C\", \"marks\": 90},\n",
        "    {\"name\": \"D\", \"marks\": 80},\n",
        "]\n",
        "sorted(students, key = lambda x: x[\"marks\"])"
      ]
    },
    {
      "cell_type": "code",
      "source": [
        "def merge(arr, start, middle, end, key):\n",
        "  result = []\n",
        "  i = start\n",
        "  j = middle\n",
        "\n",
        "  while i < middle and j < end:\n",
        "    if key(arr[i]) < key(arr[j]):\n",
        "      result.append(arr[i])\n",
        "      i += 1\n",
        "    else:\n",
        "      result.append(arr[j])\n",
        "      j += 1\n",
        "    \n",
        "  result += arr[i:middle]\n",
        "  result += arr[j:end]\n",
        "\n",
        "  for i in range(len(result)):\n",
        "    arr[start + i] = result[i]\n",
        "\n",
        "def merge_sort(arr, key = lambda x: x):\n",
        "  width = 1\n",
        "  n = len(arr)\n",
        "  while width < n:\n",
        "    start = 0\n",
        "    while start < n:\n",
        "      end = min(start + width*2, n)\n",
        "      middle = min(start + width, n)\n",
        "\n",
        "      merge(arr, start, middle, end, key)\n",
        "\n",
        "      start += width*2\n",
        "    width *= 2\n",
        "  return arr"
      ],
      "metadata": {
        "id": "BwsWpX2VgCv8"
      },
      "execution_count": 1,
      "outputs": []
    },
    {
      "cell_type": "code",
      "source": [
        "merge_sort(students, key = lambda x: x[\"marks\"])"
      ],
      "metadata": {
        "colab": {
          "base_uri": "https://localhost:8080/"
        },
        "id": "l6cuwij0gn6k",
        "outputId": "bc45464c-2e5c-4e7a-eb7d-920df4951f6e"
      },
      "execution_count": 5,
      "outputs": [
        {
          "output_type": "execute_result",
          "data": {
            "text/plain": [
              "[{'name': 'A', 'marks': 70},\n",
              " {'name': 'D', 'marks': 80},\n",
              " {'name': 'C', 'marks': 90},\n",
              " {'name': 'B', 'marks': 100}]"
            ]
          },
          "metadata": {},
          "execution_count": 5
        }
      ]
    },
    {
      "cell_type": "code",
      "source": [
        "def prettify(func):\n",
        "  def wrapper(*args, **kwargs):\n",
        "    print(\"Function execution started\")\n",
        "    res = func(*args, **kwargs)\n",
        "    print(\"Function execution ended\")\n",
        "    return res\n",
        "  \n",
        "  return wrapper\n",
        "\n",
        "@prettify\n",
        "def square(x):\n",
        "  return x**2\n",
        "\n",
        "a = square(5)\n",
        "print(a)"
      ],
      "metadata": {
        "colab": {
          "base_uri": "https://localhost:8080/"
        },
        "id": "VfhWRx6xgtRY",
        "outputId": "1d3d97fd-d90e-4361-eeee-d3e4444e064a"
      },
      "execution_count": 9,
      "outputs": [
        {
          "output_type": "stream",
          "name": "stdout",
          "text": [
            "Function execution started\n",
            "Function execution ended\n",
            "25\n"
          ]
        }
      ]
    },
    {
      "cell_type": "code",
      "source": [
        "square"
      ],
      "metadata": {
        "colab": {
          "base_uri": "https://localhost:8080/"
        },
        "id": "98AHAgdaknxk",
        "outputId": "62c0c1ff-5ecd-43ee-da22-ef357ef2923e"
      },
      "execution_count": 7,
      "outputs": [
        {
          "output_type": "execute_result",
          "data": {
            "text/plain": [
              "<function __main__.prettify.<locals>.wrapper(*args, **kwargs)>"
            ]
          },
          "metadata": {},
          "execution_count": 7
        }
      ]
    },
    {
      "cell_type": "code",
      "source": [
        "arr = [1, 2, 3, 4, 5, 6, 7]"
      ],
      "metadata": {
        "id": "OCGfK-3IktXu"
      },
      "execution_count": 10,
      "outputs": []
    },
    {
      "cell_type": "code",
      "source": [
        "[x**2 for x in arr]"
      ],
      "metadata": {
        "colab": {
          "base_uri": "https://localhost:8080/"
        },
        "id": "XuZKBqYslbol",
        "outputId": "02e82e8e-cd62-41b4-b4b8-e82dd0ced119"
      },
      "execution_count": 11,
      "outputs": [
        {
          "output_type": "execute_result",
          "data": {
            "text/plain": [
              "[1, 4, 9, 16, 25, 36, 49]"
            ]
          },
          "metadata": {},
          "execution_count": 11
        }
      ]
    },
    {
      "cell_type": "markdown",
      "source": [
        "### Map"
      ],
      "metadata": {
        "id": "wX3xzM5kl1_i"
      }
    },
    {
      "cell_type": "code",
      "source": [
        "list(map(lambda x: x**2, arr))"
      ],
      "metadata": {
        "colab": {
          "base_uri": "https://localhost:8080/"
        },
        "id": "PJSLFdQ2llxq",
        "outputId": "1bab3826-569e-4d0f-8154-2a2e57a57c13"
      },
      "execution_count": 15,
      "outputs": [
        {
          "output_type": "execute_result",
          "data": {
            "text/plain": [
              "[1, 4, 9, 16, 25, 36, 49]"
            ]
          },
          "metadata": {},
          "execution_count": 15
        }
      ]
    },
    {
      "cell_type": "markdown",
      "source": [
        "### Filter"
      ],
      "metadata": {
        "id": "4T0duA4qnk1b"
      }
    },
    {
      "cell_type": "code",
      "source": [
        "arr = [1, 2, 3, 4, 5, 6, 7]"
      ],
      "metadata": {
        "id": "U1-V6GEnnkQD"
      },
      "execution_count": 16,
      "outputs": []
    },
    {
      "cell_type": "code",
      "source": [
        "list(filter(lambda x: x % 2, arr))"
      ],
      "metadata": {
        "colab": {
          "base_uri": "https://localhost:8080/"
        },
        "id": "Hf1BSwqEmmbS",
        "outputId": "86b98572-558b-4b75-cccf-fe9490e86084"
      },
      "execution_count": 17,
      "outputs": [
        {
          "output_type": "execute_result",
          "data": {
            "text/plain": [
              "[1, 3, 5, 7]"
            ]
          },
          "metadata": {},
          "execution_count": 17
        }
      ]
    },
    {
      "cell_type": "code",
      "source": [
        "# Given an array, return squares of all the even numbers"
      ],
      "metadata": {
        "id": "r5WT6STFnszS"
      },
      "execution_count": 18,
      "outputs": []
    },
    {
      "cell_type": "code",
      "source": [
        "list(map(lambda x: x**2, filter(lambda x: x%2==0, arr)))"
      ],
      "metadata": {
        "colab": {
          "base_uri": "https://localhost:8080/"
        },
        "id": "-1Le1Isan7K0",
        "outputId": "87fc3ac6-28dc-43a3-d5ee-da8d54778a5b"
      },
      "execution_count": 19,
      "outputs": [
        {
          "output_type": "execute_result",
          "data": {
            "text/plain": [
              "[4, 16, 36]"
            ]
          },
          "metadata": {},
          "execution_count": 19
        }
      ]
    },
    {
      "cell_type": "code",
      "source": [],
      "metadata": {
        "id": "PHXBW--soPoB"
      },
      "execution_count": null,
      "outputs": []
    },
    {
      "cell_type": "markdown",
      "source": [
        "### Reduce"
      ],
      "metadata": {
        "id": "_o7QgMjlolZ9"
      }
    },
    {
      "cell_type": "code",
      "source": [
        "arr = [5, 1, 4, 2, 3, 6]"
      ],
      "metadata": {
        "id": "TiuNDvo8ol96"
      },
      "execution_count": 20,
      "outputs": []
    },
    {
      "cell_type": "code",
      "source": [
        "from functools import reduce\n",
        "reduce(lambda acc, curr: acc + curr, arr)"
      ],
      "metadata": {
        "colab": {
          "base_uri": "https://localhost:8080/"
        },
        "id": "7TtgnE5OonsH",
        "outputId": "118d0fe1-dece-4f12-8a2f-5a2f14d34b0d"
      },
      "execution_count": 22,
      "outputs": [
        {
          "output_type": "execute_result",
          "data": {
            "text/plain": [
              "21"
            ]
          },
          "metadata": {},
          "execution_count": 22
        }
      ]
    },
    {
      "cell_type": "code",
      "source": [
        "students = [\n",
        "    {\"name\": \"A\", \"marks\": 70},\n",
        "    {\"name\": \"B\", \"marks\": 100},\n",
        "    {\"name\": \"C\", \"marks\": 90},\n",
        "    {\"name\": \"D\", \"marks\": 80},\n",
        "]\n",
        "reduce(lambda acc, curr: acc + curr[\"marks\"], students, 0)"
      ],
      "metadata": {
        "colab": {
          "base_uri": "https://localhost:8080/"
        },
        "id": "zPcpeG6apf3X",
        "outputId": "4741e454-a99b-4f90-ad11-66855e540b2e"
      },
      "execution_count": 26,
      "outputs": [
        {
          "output_type": "execute_result",
          "data": {
            "text/plain": [
              "340"
            ]
          },
          "metadata": {},
          "execution_count": 26
        }
      ]
    },
    {
      "cell_type": "code",
      "source": [
        "arr = [1, 2, 3, 4, 5]\n",
        "res = arr[0]\n",
        "for x in arr[1:]:\n",
        "  res += x\n",
        "print(res)"
      ],
      "metadata": {
        "id": "ykQ5UqHhqQpT"
      },
      "execution_count": null,
      "outputs": []
    },
    {
      "cell_type": "markdown",
      "source": [
        "### Zip"
      ],
      "metadata": {
        "id": "uAI3ok0kty12"
      }
    },
    {
      "cell_type": "code",
      "source": [
        "names = [\"A\", \"B\", \"C\", \"D\"]\n",
        "marks = [10, 20, 30, 40]\n",
        "subject = [\"X\", \"Y\", \"X\", \"Y\"]\n",
        "list(zip(names, marks, subject))"
      ],
      "metadata": {
        "colab": {
          "base_uri": "https://localhost:8080/"
        },
        "id": "w2RDKH_Ctzpt",
        "outputId": "77363a50-abcd-46ed-dbda-c135709d0be4"
      },
      "execution_count": 31,
      "outputs": [
        {
          "output_type": "execute_result",
          "data": {
            "text/plain": [
              "[('A', 10, 'X'), ('B', 20, 'Y'), ('C', 30, 'X'), ('D', 40, 'Y')]"
            ]
          },
          "metadata": {},
          "execution_count": 31
        }
      ]
    },
    {
      "cell_type": "code",
      "source": [
        "names = [\"A\", \"B\", \"C\", \"D\", \"E\", \"F\"]\n",
        "marks = [10, 20, 30, 40]\n",
        "\n",
        "# zip iterates up until the SMALLEST iterable\n",
        "list(zip(names, marks))"
      ],
      "metadata": {
        "colab": {
          "base_uri": "https://localhost:8080/"
        },
        "id": "D4wclT_it4OD",
        "outputId": "b1e3d9e3-ecf0-4968-e86d-777f1e8605c0"
      },
      "execution_count": 32,
      "outputs": [
        {
          "output_type": "execute_result",
          "data": {
            "text/plain": [
              "[('A', 10), ('B', 20), ('C', 30), ('D', 40)]"
            ]
          },
          "metadata": {},
          "execution_count": 32
        }
      ]
    },
    {
      "cell_type": "code",
      "source": [
        "names = [\"A\", \"B\", \"C\", \"D\", \"E\", \"F\"]\n",
        "marks = [10, 20, 30, 40]\n",
        "\n",
        "# return [{name: \"A\", marks: 10}]"
      ],
      "metadata": {
        "id": "wSow0BfiuV9I"
      },
      "execution_count": 33,
      "outputs": []
    },
    {
      "cell_type": "code",
      "source": [
        "list(map(lambda x: {\"name\": x[0], \"marks\": x[1]}, zip(names, marks)))"
      ],
      "metadata": {
        "colab": {
          "base_uri": "https://localhost:8080/"
        },
        "id": "EuekPNOkvA4j",
        "outputId": "5aa2d7d4-ce06-4cea-eb60-32c101126e65"
      },
      "execution_count": 39,
      "outputs": [
        {
          "output_type": "execute_result",
          "data": {
            "text/plain": [
              "[{'name': 'A', 'marks': 10},\n",
              " {'name': 'B', 'marks': 20},\n",
              " {'name': 'C', 'marks': 30},\n",
              " {'name': 'D', 'marks': 40}]"
            ]
          },
          "metadata": {},
          "execution_count": 39
        }
      ]
    },
    {
      "cell_type": "code",
      "source": [
        "arr = [2, 2, 2, 2]\n",
        "arr2 = [x**2 for x in arr]"
      ],
      "metadata": {
        "id": "hmua-W8YvHRo"
      },
      "execution_count": 40,
      "outputs": []
    },
    {
      "cell_type": "code",
      "source": [
        "list(map(lambda x: x**2, arr))"
      ],
      "metadata": {
        "colab": {
          "base_uri": "https://localhost:8080/"
        },
        "id": "uPMGW1ivwNQK",
        "outputId": "03e846d0-6942-48a6-ea1c-0929e71f5c6b"
      },
      "execution_count": 42,
      "outputs": [
        {
          "output_type": "execute_result",
          "data": {
            "text/plain": [
              "[4, 4, 4, 4]"
            ]
          },
          "metadata": {},
          "execution_count": 42
        }
      ]
    },
    {
      "cell_type": "code",
      "source": [
        "# Space Complexity -> O(n)\n",
        "a = [x**2 for x in range(20)]"
      ],
      "metadata": {
        "id": "q5DjoavWwSC6"
      },
      "execution_count": 43,
      "outputs": []
    },
    {
      "cell_type": "code",
      "source": [
        "# Space Complexity -> O(1)\n",
        "def square_gen():\n",
        "  for x in range(20):\n",
        "    yield x**2"
      ],
      "metadata": {
        "id": "Dnhugcllw8Ym"
      },
      "execution_count": 44,
      "outputs": []
    },
    {
      "cell_type": "code",
      "source": [
        "a = square_gen()"
      ],
      "metadata": {
        "id": "1HqpsvqYxIam"
      },
      "execution_count": 45,
      "outputs": []
    },
    {
      "cell_type": "code",
      "source": [],
      "metadata": {
        "id": "8YRT7Rc1xJuz"
      },
      "execution_count": null,
      "outputs": []
    }
  ]
}