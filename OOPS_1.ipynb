{
  "nbformat": 4,
  "nbformat_minor": 0,
  "metadata": {
    "colab": {
      "provenance": [],
      "authorship_tag": "ABX9TyP9OorUO5qGSLGXbOLT3xe+",
      "include_colab_link": true
    },
    "kernelspec": {
      "name": "python3",
      "display_name": "Python 3"
    },
    "language_info": {
      "name": "python"
    }
  },
  "cells": [
    {
      "cell_type": "markdown",
      "metadata": {
        "id": "view-in-github",
        "colab_type": "text"
      },
      "source": [
        "<a href=\"https://colab.research.google.com/github/scaleracademy/dsml-intermediate-aug-22/blob/main/OOPS_1.ipynb\" target=\"_parent\"><img src=\"https://colab.research.google.com/assets/colab-badge.svg\" alt=\"Open In Colab\"/></a>"
      ]
    },
    {
      "cell_type": "code",
      "execution_count": 1,
      "metadata": {
        "colab": {
          "base_uri": "https://localhost:8080/"
        },
        "id": "UTZtg08WnUbV",
        "outputId": "c04bb6ab-b9b7-4b05-ca6d-f8715af10ea0"
      },
      "outputs": [
        {
          "output_type": "stream",
          "name": "stdout",
          "text": [
            "Scaler\n",
            "python\n"
          ]
        }
      ],
      "source": [
        "a = {\n",
        "    \"name\": \"Scaler\",\n",
        "    \"language\": \"python\"\n",
        "}\n",
        "for x in a.values():\n",
        "  print(x)"
      ]
    },
    {
      "cell_type": "code",
      "source": [
        "list(map(lambda x: a[x], a))"
      ],
      "metadata": {
        "colab": {
          "base_uri": "https://localhost:8080/"
        },
        "id": "U7CxTX1Du9PH",
        "outputId": "170558bd-797e-478a-dc7f-7f5b76c919a7"
      },
      "execution_count": 2,
      "outputs": [
        {
          "output_type": "execute_result",
          "data": {
            "text/plain": [
              "['Scaler', 'python']"
            ]
          },
          "metadata": {},
          "execution_count": 2
        }
      ]
    },
    {
      "cell_type": "code",
      "source": [
        "a = [1, 2, 3, 4, 5, 6, 7, 8]\n",
        "list(filter(lambda x: x%2==0, map(lambda x: x**2, a)))"
      ],
      "metadata": {
        "colab": {
          "base_uri": "https://localhost:8080/"
        },
        "id": "5R_JxNjyvvJY",
        "outputId": "b7676e21-0c7a-431f-e232-4a622f6201ad"
      },
      "execution_count": 3,
      "outputs": [
        {
          "output_type": "execute_result",
          "data": {
            "text/plain": [
              "[4, 16, 36, 64]"
            ]
          },
          "metadata": {},
          "execution_count": 3
        }
      ]
    },
    {
      "cell_type": "code",
      "source": [
        "for x in range(10):\n",
        "  print(x)"
      ],
      "metadata": {
        "colab": {
          "base_uri": "https://localhost:8080/"
        },
        "id": "h3aOkc8YwB1l",
        "outputId": "0cbadbf4-ee5b-4d75-f128-3115bd9e054e"
      },
      "execution_count": 4,
      "outputs": [
        {
          "output_type": "stream",
          "name": "stdout",
          "text": [
            "0\n",
            "1\n",
            "2\n",
            "3\n",
            "4\n",
            "5\n",
            "6\n",
            "7\n",
            "8\n",
            "9\n"
          ]
        }
      ]
    },
    {
      "cell_type": "code",
      "source": [
        "print(\"Hello World\")"
      ],
      "metadata": {
        "colab": {
          "base_uri": "https://localhost:8080/"
        },
        "id": "7ehj9BiSwvYV",
        "outputId": "2cccd22c-46e4-4d55-9b67-a0ebb0cd5e79"
      },
      "execution_count": 5,
      "outputs": [
        {
          "output_type": "stream",
          "name": "stdout",
          "text": [
            "Hello World\n"
          ]
        }
      ]
    },
    {
      "cell_type": "code",
      "source": [
        "print?"
      ],
      "metadata": {
        "id": "1CXYwSfs0Pxv"
      },
      "execution_count": 6,
      "outputs": []
    },
    {
      "cell_type": "code",
      "source": [
        "class Student:\n",
        "  def __init__(self, name, subject):\n",
        "    self.name = name\n",
        "    self.subject = subject\n",
        "\n",
        "s = Student(\"Jatin\", \"CSE\")"
      ],
      "metadata": {
        "id": "VXSSVZiV0SsQ"
      },
      "execution_count": 7,
      "outputs": []
    },
    {
      "cell_type": "code",
      "source": [
        "# This exact dictionary is an encapsulation of a student\n",
        "s = {\n",
        "    \"name\": \"Jatin\",\n",
        "    \"subject\": \"CSE\"\n",
        "}"
      ],
      "metadata": {
        "id": "nLFq2Upz1cHU"
      },
      "execution_count": null,
      "outputs": []
    },
    {
      "cell_type": "code",
      "source": [
        "class Student:\n",
        "  pass"
      ],
      "metadata": {
        "id": "GFTrFRz72gYN"
      },
      "execution_count": 8,
      "outputs": []
    },
    {
      "cell_type": "code",
      "source": [
        "s = Student()"
      ],
      "metadata": {
        "id": "xuGZdsVA233g"
      },
      "execution_count": 9,
      "outputs": []
    },
    {
      "cell_type": "code",
      "source": [
        "print(s)"
      ],
      "metadata": {
        "colab": {
          "base_uri": "https://localhost:8080/"
        },
        "id": "yWxoVYsE2-3e",
        "outputId": "8d62aca8-ba87-4b06-97db-fbe078319c77"
      },
      "execution_count": 10,
      "outputs": [
        {
          "output_type": "stream",
          "name": "stdout",
          "text": [
            "<__main__.Student object at 0x7f05ac3bc090>\n"
          ]
        }
      ]
    },
    {
      "cell_type": "code",
      "source": [
        "s = Student()\n",
        "print(type(s))"
      ],
      "metadata": {
        "colab": {
          "base_uri": "https://localhost:8080/"
        },
        "id": "Wdc-dBIt2_s_",
        "outputId": "e4877f14-7f3f-4773-fea3-b21a70e699ed"
      },
      "execution_count": 11,
      "outputs": [
        {
          "output_type": "stream",
          "name": "stdout",
          "text": [
            "<class '__main__.Student'>\n"
          ]
        }
      ]
    },
    {
      "cell_type": "code",
      "source": [
        "print(Student)"
      ],
      "metadata": {
        "colab": {
          "base_uri": "https://localhost:8080/"
        },
        "id": "H_oCQNoe3KQX",
        "outputId": "155c35bd-e631-4a3d-ea4b-1dfee39d5955"
      },
      "execution_count": 12,
      "outputs": [
        {
          "output_type": "stream",
          "name": "stdout",
          "text": [
            "<class '__main__.Student'>\n"
          ]
        }
      ]
    },
    {
      "cell_type": "code",
      "source": [
        "print(type(Student))"
      ],
      "metadata": {
        "colab": {
          "base_uri": "https://localhost:8080/"
        },
        "id": "eg8QC2A03UVX",
        "outputId": "b5e9db3a-45f4-4af5-b1f9-ea3aef4b10e9"
      },
      "execution_count": 13,
      "outputs": [
        {
          "output_type": "stream",
          "name": "stdout",
          "text": [
            "<class 'type'>\n"
          ]
        }
      ]
    },
    {
      "cell_type": "code",
      "source": [
        "Everything in python is an __________\n",
        "Python is a _______ typed language\n",
        "Variables are initialized in the _______\n",
        "Functions are also an ______ in python\n"
      ],
      "metadata": {
        "id": "tD1rA3so3rsU"
      },
      "execution_count": null,
      "outputs": []
    },
    {
      "cell_type": "code",
      "source": [
        "def foo():\n",
        "  return \"Bar\""
      ],
      "metadata": {
        "id": "o6ufWnho4PXI"
      },
      "execution_count": 14,
      "outputs": []
    },
    {
      "cell_type": "code",
      "source": [
        "class XYZ:\n",
        "  pass"
      ],
      "metadata": {
        "id": "ODfja8Eb4RME"
      },
      "execution_count": 15,
      "outputs": []
    },
    {
      "cell_type": "code",
      "source": [
        "a = XYZ\n",
        "print(a())"
      ],
      "metadata": {
        "colab": {
          "base_uri": "https://localhost:8080/"
        },
        "id": "khfcsQ2g4jch",
        "outputId": "85f00d83-1bc5-432b-80b3-06d312886744"
      },
      "execution_count": 16,
      "outputs": [
        {
          "output_type": "stream",
          "name": "stdout",
          "text": [
            "<__main__.XYZ object at 0x7f05acedc350>\n"
          ]
        }
      ]
    },
    {
      "cell_type": "code",
      "source": [
        "isinstance(foo, object)"
      ],
      "metadata": {
        "colab": {
          "base_uri": "https://localhost:8080/"
        },
        "id": "U26dMqD-4mYc",
        "outputId": "9ed0e147-238a-4f76-b67e-ede45bad3f6f"
      },
      "execution_count": 17,
      "outputs": [
        {
          "output_type": "execute_result",
          "data": {
            "text/plain": [
              "True"
            ]
          },
          "metadata": {},
          "execution_count": 17
        }
      ]
    },
    {
      "cell_type": "code",
      "source": [
        "isinstance(XYZ, object)"
      ],
      "metadata": {
        "colab": {
          "base_uri": "https://localhost:8080/"
        },
        "id": "w5Ajq_or5NzC",
        "outputId": "8edf2d7c-71bd-42fe-efa4-a46133f1a6f8"
      },
      "execution_count": 18,
      "outputs": [
        {
          "output_type": "execute_result",
          "data": {
            "text/plain": [
              "True"
            ]
          },
          "metadata": {},
          "execution_count": 18
        }
      ]
    },
    {
      "cell_type": "code",
      "source": [
        "class Dog:\n",
        "  breed = \"shitzu\""
      ],
      "metadata": {
        "id": "8umxHyu05QTn"
      },
      "execution_count": 22,
      "outputs": []
    },
    {
      "cell_type": "code",
      "source": [
        "d1 = Dog()\n",
        "d1.breed = \"Beagle\"\n",
        "print(d1.breed)"
      ],
      "metadata": {
        "colab": {
          "base_uri": "https://localhost:8080/"
        },
        "id": "yDJHapho52JK",
        "outputId": "a8ad88bb-c562-44ed-e7e4-79d45915058b"
      },
      "execution_count": 23,
      "outputs": [
        {
          "output_type": "stream",
          "name": "stdout",
          "text": [
            "Beagle\n"
          ]
        }
      ]
    },
    {
      "cell_type": "code",
      "source": [
        "d2 = Dog()\n",
        "print(d2.breed)"
      ],
      "metadata": {
        "colab": {
          "base_uri": "https://localhost:8080/"
        },
        "id": "U-osCcuM58Ge",
        "outputId": "20a41746-075c-44a1-b793-0fed53f1e43f"
      },
      "execution_count": 24,
      "outputs": [
        {
          "output_type": "stream",
          "name": "stdout",
          "text": [
            "shitzu\n"
          ]
        }
      ]
    },
    {
      "cell_type": "code",
      "source": [
        "class Dog:\n",
        "  breed = \"shitzu\"\n",
        "  tricks = []"
      ],
      "metadata": {
        "id": "RoEuwype6u0u"
      },
      "execution_count": 27,
      "outputs": []
    },
    {
      "cell_type": "code",
      "source": [
        "d1 = Dog()\n",
        "d1.breed = \"beagle\"\n",
        "d1.tricks.append(\"noisy\")\n",
        "print(d1.tricks)"
      ],
      "metadata": {
        "colab": {
          "base_uri": "https://localhost:8080/"
        },
        "id": "VO2_1jIb69Pw",
        "outputId": "d3370a64-7a2c-4e04-c4e9-b2f37cf40990"
      },
      "execution_count": 28,
      "outputs": [
        {
          "output_type": "stream",
          "name": "stdout",
          "text": [
            "['noisy']\n"
          ]
        }
      ]
    },
    {
      "cell_type": "code",
      "source": [
        "d2 = Dog()\n",
        "print(d2.breed)\n",
        "print(d2.tricks)"
      ],
      "metadata": {
        "colab": {
          "base_uri": "https://localhost:8080/"
        },
        "id": "poqlhcoL7Fmt",
        "outputId": "a87a2275-447b-498b-bcff-4ef80c729d0c"
      },
      "execution_count": 30,
      "outputs": [
        {
          "output_type": "stream",
          "name": "stdout",
          "text": [
            "shitzu\n",
            "['noisy']\n"
          ]
        }
      ]
    },
    {
      "cell_type": "code",
      "source": [
        "class Dog:\n",
        "  breed = \"shitzu\"\n",
        "  tricks = ()"
      ],
      "metadata": {
        "id": "V1HgRHap7PIn"
      },
      "execution_count": 37,
      "outputs": []
    },
    {
      "cell_type": "code",
      "source": [
        "d1 = Dog()\n",
        "d1.breed = \"beagle\"\n",
        "d1.tricks = (\"noisy\",)\n",
        "print(d1.tricks)"
      ],
      "metadata": {
        "colab": {
          "base_uri": "https://localhost:8080/"
        },
        "id": "-72IqVlb8Dj_",
        "outputId": "b73bd4f4-f160-4914-becc-7b1508de3cb8"
      },
      "execution_count": 38,
      "outputs": [
        {
          "output_type": "stream",
          "name": "stdout",
          "text": [
            "('noisy',)\n"
          ]
        }
      ]
    },
    {
      "cell_type": "code",
      "source": [
        "d2 = Dog()\n",
        "print(d2.breed)\n",
        "print(d2.tricks)"
      ],
      "metadata": {
        "colab": {
          "base_uri": "https://localhost:8080/"
        },
        "id": "IRbU9QcF8DxC",
        "outputId": "556b41da-4e0c-4ebb-a582-2cd69ef12bf5"
      },
      "execution_count": 39,
      "outputs": [
        {
          "output_type": "stream",
          "name": "stdout",
          "text": [
            "shitzu\n",
            "()\n"
          ]
        }
      ]
    },
    {
      "cell_type": "markdown",
      "source": [
        "### Methods\n",
        "Functions that execute in the context of an object"
      ],
      "metadata": {
        "id": "jg9d2Odo8rcZ"
      }
    },
    {
      "cell_type": "code",
      "source": [
        "def say_hi(self):\n",
        "  print(id(self))\n",
        "  print(\"Hello\")"
      ],
      "metadata": {
        "id": "U3D5EPiw_TbE"
      },
      "execution_count": 54,
      "outputs": []
    },
    {
      "cell_type": "code",
      "source": [
        "say_hi()"
      ],
      "metadata": {
        "colab": {
          "base_uri": "https://localhost:8080/",
          "height": 169
        },
        "id": "q_2nFqSK_Uw2",
        "outputId": "91059921-209a-4262-e225-c8d8e635d2d1"
      },
      "execution_count": 55,
      "outputs": [
        {
          "output_type": "error",
          "ename": "TypeError",
          "evalue": "ignored",
          "traceback": [
            "\u001b[0;31m---------------------------------------------------------------------------\u001b[0m",
            "\u001b[0;31mTypeError\u001b[0m                                 Traceback (most recent call last)",
            "\u001b[0;32m<ipython-input-55-6acd93c5568f>\u001b[0m in \u001b[0;36m<module>\u001b[0;34m\u001b[0m\n\u001b[0;32m----> 1\u001b[0;31m \u001b[0msay_hi\u001b[0m\u001b[0;34m(\u001b[0m\u001b[0;34m)\u001b[0m\u001b[0;34m\u001b[0m\u001b[0;34m\u001b[0m\u001b[0m\n\u001b[0m",
            "\u001b[0;31mTypeError\u001b[0m: say_hi() missing 1 required positional argument: 'self'"
          ]
        }
      ]
    },
    {
      "cell_type": "code",
      "source": [],
      "metadata": {
        "id": "4PgUDXle_Upt"
      },
      "execution_count": null,
      "outputs": []
    },
    {
      "cell_type": "code",
      "source": [
        "class Person:\n",
        "  name = \"undefined\"\n",
        "\n",
        "  def say_hi(self):\n",
        "    print(id(self))\n",
        "    print(\"Hello\")"
      ],
      "metadata": {
        "id": "OHXYK3UC8Fi1"
      },
      "execution_count": 47,
      "outputs": []
    },
    {
      "cell_type": "code",
      "source": [
        "Person.say_hi()"
      ],
      "metadata": {
        "id": "K5FoiacF_a7a"
      },
      "execution_count": null,
      "outputs": []
    },
    {
      "cell_type": "code",
      "source": [
        "p1 = Person()"
      ],
      "metadata": {
        "id": "upFxgdfq86mg"
      },
      "execution_count": 49,
      "outputs": []
    },
    {
      "cell_type": "code",
      "source": [
        "p1.name"
      ],
      "metadata": {
        "colab": {
          "base_uri": "https://localhost:8080/",
          "height": 35
        },
        "id": "uoTaqGbA9OKO",
        "outputId": "aff1bdf7-7370-408a-c204-91e6e52cf7d3"
      },
      "execution_count": 50,
      "outputs": [
        {
          "output_type": "execute_result",
          "data": {
            "text/plain": [
              "'undefined'"
            ],
            "application/vnd.google.colaboratory.intrinsic+json": {
              "type": "string"
            }
          },
          "metadata": {},
          "execution_count": 50
        }
      ]
    },
    {
      "cell_type": "code",
      "source": [
        "Person.say_hi(p1)"
      ],
      "metadata": {
        "colab": {
          "base_uri": "https://localhost:8080/"
        },
        "id": "qitgbCxR-fWX",
        "outputId": "ef068c56-ef9f-4f36-f350-609fc74e217b"
      },
      "execution_count": 53,
      "outputs": [
        {
          "output_type": "stream",
          "name": "stdout",
          "text": [
            "139662207727248\n",
            "Hello\n"
          ]
        }
      ]
    },
    {
      "cell_type": "code",
      "source": [
        "p1.say_hi()"
      ],
      "metadata": {
        "colab": {
          "base_uri": "https://localhost:8080/"
        },
        "id": "hInuGJPR9O27",
        "outputId": "eb57f61d-8186-48cf-eedd-a3bbea6f8168"
      },
      "execution_count": 51,
      "outputs": [
        {
          "output_type": "stream",
          "name": "stdout",
          "text": [
            "139662207727248\n",
            "Hello\n"
          ]
        }
      ]
    },
    {
      "cell_type": "code",
      "source": [
        "id(p1)"
      ],
      "metadata": {
        "colab": {
          "base_uri": "https://localhost:8080/"
        },
        "id": "umIid-D29SLf",
        "outputId": "35a21888-3e27-4193-dd3a-3b349f005c0e"
      },
      "execution_count": 52,
      "outputs": [
        {
          "output_type": "execute_result",
          "data": {
            "text/plain": [
              "139662207727248"
            ]
          },
          "metadata": {},
          "execution_count": 52
        }
      ]
    },
    {
      "cell_type": "code",
      "source": [],
      "metadata": {
        "id": "ujPo2D9Q-MCO"
      },
      "execution_count": null,
      "outputs": []
    },
    {
      "cell_type": "markdown",
      "source": [
        "### Dunders (Magic Methods)"
      ],
      "metadata": {
        "id": "dW09pmSmAGGY"
      }
    },
    {
      "cell_type": "code",
      "source": [
        "class Student:\n",
        "  def __init__(self):\n",
        "    print(\"init method\")"
      ],
      "metadata": {
        "id": "fjknMbFzAIDo"
      },
      "execution_count": 59,
      "outputs": []
    },
    {
      "cell_type": "code",
      "source": [
        "Student()"
      ],
      "metadata": {
        "colab": {
          "base_uri": "https://localhost:8080/"
        },
        "id": "SbnCyegSAQxb",
        "outputId": "ba85ab7f-3e72-4e60-ae75-a4afb38a2fa2"
      },
      "execution_count": 60,
      "outputs": [
        {
          "output_type": "stream",
          "name": "stdout",
          "text": [
            "<__main__.Student object at 0x7f05a4479490>\n",
            "init method\n"
          ]
        },
        {
          "output_type": "execute_result",
          "data": {
            "text/plain": [
              "<__main__.Student at 0x7f05a4479490>"
            ]
          },
          "metadata": {},
          "execution_count": 60
        }
      ]
    },
    {
      "cell_type": "code",
      "source": [
        "class Student:\n",
        "  def __init__(self, name, subject):\n",
        "    self.name = name\n",
        "    self.subject = subject"
      ],
      "metadata": {
        "id": "f4AWYIJkAziz"
      },
      "execution_count": 64,
      "outputs": []
    },
    {
      "cell_type": "code",
      "source": [
        "s1 = Student(\"Jatin\", \"CSE\")"
      ],
      "metadata": {
        "id": "tG0f7J84BBQK"
      },
      "execution_count": 65,
      "outputs": []
    },
    {
      "cell_type": "code",
      "source": [
        "s1.name"
      ],
      "metadata": {
        "colab": {
          "base_uri": "https://localhost:8080/",
          "height": 35
        },
        "id": "DTeKqXEjBYUe",
        "outputId": "235c1f1e-edfa-4623-8ac7-30f3560e6390"
      },
      "execution_count": 66,
      "outputs": [
        {
          "output_type": "execute_result",
          "data": {
            "text/plain": [
              "'Jatin'"
            ],
            "application/vnd.google.colaboratory.intrinsic+json": {
              "type": "string"
            }
          },
          "metadata": {},
          "execution_count": 66
        }
      ]
    },
    {
      "cell_type": "code",
      "source": [
        "Student.name"
      ],
      "metadata": {
        "colab": {
          "base_uri": "https://localhost:8080/",
          "height": 169
        },
        "id": "k878cNdCB4tb",
        "outputId": "822d9cac-ec28-42ab-8c04-2304a0b3ce08"
      },
      "execution_count": 67,
      "outputs": [
        {
          "output_type": "error",
          "ename": "AttributeError",
          "evalue": "ignored",
          "traceback": [
            "\u001b[0;31m---------------------------------------------------------------------------\u001b[0m",
            "\u001b[0;31mAttributeError\u001b[0m                            Traceback (most recent call last)",
            "\u001b[0;32m<ipython-input-67-11d6f99f8081>\u001b[0m in \u001b[0;36m<module>\u001b[0;34m\u001b[0m\n\u001b[0;32m----> 1\u001b[0;31m \u001b[0mStudent\u001b[0m\u001b[0;34m.\u001b[0m\u001b[0mname\u001b[0m\u001b[0;34m\u001b[0m\u001b[0;34m\u001b[0m\u001b[0m\n\u001b[0m",
            "\u001b[0;31mAttributeError\u001b[0m: type object 'Student' has no attribute 'name'"
          ]
        }
      ]
    },
    {
      "cell_type": "markdown",
      "source": [
        "#### Abstraction: Extration of relevant information or interacting with the interface only\n",
        "\n",
        "#### Encapsulation: Grouping together of common attributes to make up an entity"
      ],
      "metadata": {
        "id": "VXhXvGTaDlO7"
      }
    },
    {
      "cell_type": "code",
      "source": [],
      "metadata": {
        "id": "6GeYmwf4B5aq"
      },
      "execution_count": null,
      "outputs": []
    },
    {
      "cell_type": "markdown",
      "source": [
        "You are given 3 lists: name, jobrole and salary containing various employee information. name = [“Alex”, “Adam”,”Michael”,”Sergei”] job_role = [“Data Analyst”,”Data Scientist”,”HR”,”Manager”] salary = [50000,60000,55000,70000] Complete the python function to return the maximum salary along with the information in a nested dictionary format:\n",
        "maximum salary = 70000\n",
        "info = {“Alex”:{role:”Data Analyst”,salary:50000},“Adam”:{role:”Data Scientist”,salary:60000}, “Michael”:{role:”HR”,salary:55000}, “Sergei”:role:”Manager”,salary:70000}}"
      ],
      "metadata": {
        "id": "LJep41EEFZUg"
      }
    },
    {
      "cell_type": "code",
      "source": [
        "name = [\"Alex\", \"Adam\",\"Michael\",\"Sergei\"] \n",
        "job_role = [\"Data Analyst\",\"Data Scientist\",\"HR\",\"Manager\"] \n",
        "salary = [50000,60000,55000,70000]\n",
        "\n",
        "print(max(salary))"
      ],
      "metadata": {
        "colab": {
          "base_uri": "https://localhost:8080/"
        },
        "id": "lavFCamPFkZm",
        "outputId": "7d39e2fb-91f5-4635-94c7-f79b9f0766b9"
      },
      "execution_count": 68,
      "outputs": [
        {
          "output_type": "stream",
          "name": "stdout",
          "text": [
            "70000\n"
          ]
        }
      ]
    },
    {
      "cell_type": "code",
      "source": [
        "def solve(name, job_role, salary):\n",
        "  info = {}\n",
        "  for n, j, s in zip(name, job_role, salary):\n",
        "    info[n] = {\"role\": j, \"salary\": s}\n",
        "\n",
        "  return max(salary), info"
      ],
      "metadata": {
        "id": "ET0s7-cwFxkV"
      },
      "execution_count": 72,
      "outputs": []
    },
    {
      "cell_type": "code",
      "source": [
        "solve(name, job_role, salary)"
      ],
      "metadata": {
        "colab": {
          "base_uri": "https://localhost:8080/"
        },
        "id": "WljJDm9WGEFC",
        "outputId": "b11dac6b-d2c8-4ca9-e456-2d311eadea5a"
      },
      "execution_count": 73,
      "outputs": [
        {
          "output_type": "execute_result",
          "data": {
            "text/plain": [
              "(70000,\n",
              " {'Alex': {'role': 'Data Analyst', 'salary': 50000},\n",
              "  'Adam': {'role': 'Data Scientist', 'salary': 60000},\n",
              "  'Michael': {'role': 'HR', 'salary': 55000},\n",
              "  'Sergei': {'role': 'Manager', 'salary': 70000}})"
            ]
          },
          "metadata": {},
          "execution_count": 73
        }
      ]
    },
    {
      "cell_type": "code",
      "source": [],
      "metadata": {
        "id": "v4b4huPOGGFP"
      },
      "execution_count": null,
      "outputs": []
    }
  ]
}